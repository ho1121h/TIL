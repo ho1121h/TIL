{
 "cells": [
  {
   "cell_type": "code",
   "execution_count": 1,
   "id": "0a1a73fe",
   "metadata": {},
   "outputs": [],
   "source": [
    "import numpy as np\n",
    "def actf(x):\n",
    "    return 1/(1+np.exp(-x))#시그모이드 함수\n",
    "def d_actf(x):\n",
    "    return x*(1-x)#시그모이드 함수를 미분 "
   ]
  },
  {
   "cell_type": "code",
   "execution_count": 6,
   "id": "236c3950",
   "metadata": {},
   "outputs": [
    {
     "data": {
      "text/plain": [
       "array([[40, 46],\n",
       "       [76, 88]])"
      ]
     },
     "execution_count": 6,
     "metadata": {},
     "output_type": "execute_result"
    }
   ],
   "source": [
    "# y = wx + b\n",
    "w=np.array([[1,2,3],\n",
    "            [3,4,5]])\n",
    "x=np.array([[4,5],\n",
    "            [6,7],\n",
    "           [8,9]])\n",
    "w.dot(x)\n",
    "\n"
   ]
  },
  {
   "cell_type": "code",
   "execution_count": 3,
   "id": "c5a90345",
   "metadata": {},
   "outputs": [],
   "source": [
    "X = np.array([[0,0,1],[0,1,1],[1,0,1],[1,1,1]])\n",
    "y = np.array([[0],[1],[1],[0]])\n",
    "in_n = 3#3개입력 층\n",
    "h_n = 6 #은닉층\n",
    "out_n = 1# 출력 층\n",
    "np.random.seed(5)\n",
    "# 초기값\n",
    "w0 = 2*np.random.random((in_n,h_n))-1\n",
    "w1 = 2*np.random.random((h_n,out_n))-1\n"
   ]
  },
  {
   "cell_type": "code",
   "execution_count": 4,
   "id": "5b4adabb",
   "metadata": {},
   "outputs": [
    {
     "name": "stdout",
     "output_type": "stream",
     "text": [
      "[[0.44867697]\n",
      " [0.48397079]\n",
      " [0.41941189]\n",
      " [0.45527361]]\n",
      "\n",
      "[[0.49810382]\n",
      " [0.52553137]\n",
      " [0.47556608]\n",
      " [0.50256195]]\n",
      "\n",
      "[[0.46051417]\n",
      " [0.52154431]\n",
      " [0.50562375]\n",
      " [0.52060927]]\n",
      "\n",
      "[[0.02391914]\n",
      " [0.9757925 ]\n",
      " [0.97343127]\n",
      " [0.03041428]]\n"
     ]
    }
   ],
   "source": [
    "for i in range(10000):\n",
    "    l0 = X#1층\n",
    "    # 순 전 파\n",
    "    #입력*W0\n",
    "    net1 =np.dot(l0,w0)\n",
    "    l1=actf(net1)\n",
    "    l1[:,-1] = 1#은닉층\n",
    "    net2 = np.dot(l1,w1)\n",
    "    l2 = actf(net2)#결과\n",
    "    #역전파 알고리즘적용\n",
    "    l2_e = l2-y#오차\n",
    "    l2_d=l2_e*d_actf(l2)#미분(출력단의 델타값)\n",
    "    \n",
    "    l1_e = np.dot(l2_d,w1.T)#은닉 오차\n",
    "    l1_d=l1_e*d_actf(l1)#미분 (은닉단의 델타값)\n",
    "    #가중치 변화를 적용\n",
    "    w1 += -0.2*np.dot(l1.T,l2_d)\n",
    "    w0 += -0.2*np.dot(l0.T,l1_d)\n",
    "    if i ==10:\n",
    "        print(l2)\n",
    "        print()\n",
    "    if i ==100:\n",
    "        print(l2)\n",
    "        print()\n",
    "    if i ==1000:\n",
    "        print(l2)\n",
    "        print()\n",
    "    if i ==10000:\n",
    "        print(l2)\n",
    "        print()\n",
    "    \n",
    "    #print(l2)\n",
    "print(l2)"
   ]
  },
  {
   "cell_type": "code",
   "execution_count": 5,
   "id": "9dfc4865",
   "metadata": {},
   "outputs": [
    {
     "data": {
      "text/plain": [
       "array([[0],\n",
       "       [1],\n",
       "       [1],\n",
       "       [0]])"
      ]
     },
     "execution_count": 5,
     "metadata": {},
     "output_type": "execute_result"
    }
   ],
   "source": [
    "y"
   ]
  },
  {
   "cell_type": "code",
   "execution_count": null,
   "id": "52fe9542",
   "metadata": {},
   "outputs": [],
   "source": []
  },
  {
   "cell_type": "code",
   "execution_count": null,
   "id": "e814b7fd",
   "metadata": {},
   "outputs": [],
   "source": []
  }
 ],
 "metadata": {
  "kernelspec": {
   "display_name": "Python 3 (ipykernel)",
   "language": "python",
   "name": "python3"
  },
  "language_info": {
   "codemirror_mode": {
    "name": "ipython",
    "version": 3
   },
   "file_extension": ".py",
   "mimetype": "text/x-python",
   "name": "python",
   "nbconvert_exporter": "python",
   "pygments_lexer": "ipython3",
   "version": "3.9.7"
  }
 },
 "nbformat": 4,
 "nbformat_minor": 5
}
