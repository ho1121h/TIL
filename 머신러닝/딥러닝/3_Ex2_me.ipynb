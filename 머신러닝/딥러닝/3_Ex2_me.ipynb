{
 "cells": [
  {
   "cell_type": "markdown",
   "id": "cb4f0af4",
   "metadata": {},
   "source": [
    "1. RNN 연속적인 데이터\n",
    "    - 순서를 고려\n",
    "    - 시퀀스는 특별함\n",
    "    - 순차 데이터에서 데이터 포인트사이의 순서가 중요\n",
    "2. 시퀀스 모델링 종류\n",
    "    - 시퀀스 모델링에는 언어번역 이미지 캡셔닝 텍스트 생성등\n",
    "    - 적절한 구조와 방법을 찾으려면 여러 종류의 시퀀스 모델링 작업 사이의 차이점을 이해 \n",
    "    - 다대일 :입력데이터가 시퀀스지만 출력은 시퀀스가 아님\n",
    "        - 크기가의 벡터나 스칼라\n",
    "    - 일대다: 입력 데이터가 시퀀스가 아니라 일반적인 형태이고 출력은 시퀀스\n",
    "        - 이미지 캡셔닝이 있다. 입력이 이미지/ 출력이 이미지내용을 요약\n",
    "    - \n",
    "    "
   ]
  },
  {
   "cell_type": "code",
   "execution_count": 1,
   "id": "60c0e922",
   "metadata": {},
   "outputs": [
    {
     "data": {
      "text/plain": [
       "(25000,)"
      ]
     },
     "execution_count": 1,
     "metadata": {},
     "output_type": "execute_result"
    }
   ],
   "source": [
    "from tensorflow.keras.datasets.imdb import load_data\n",
    "(x_data,y_data),(tt_x,tt_y) = load_data(num_words= 500) # 표현할 단어의 종류\n",
    "x_data.shape\n"
   ]
  },
  {
   "cell_type": "code",
   "execution_count": 2,
   "id": "bc305a6c",
   "metadata": {},
   "outputs": [
    {
     "data": {
      "text/plain": [
       "(218, 189)"
      ]
     },
     "execution_count": 2,
     "metadata": {},
     "output_type": "execute_result"
    }
   ],
   "source": [
    "len(x_data[0]),len(x_data[1])"
   ]
  },
  {
   "cell_type": "code",
   "execution_count": 3,
   "id": "7062ea6d",
   "metadata": {},
   "outputs": [
    {
     "data": {
      "text/plain": [
       "array([1, 0, 0, 1, 0], dtype=int64)"
      ]
     },
     "execution_count": 3,
     "metadata": {},
     "output_type": "execute_result"
    }
   ],
   "source": [
    "y_data[:5]#긍정 부정"
   ]
  },
  {
   "cell_type": "code",
   "execution_count": 4,
   "id": "3f2982cc",
   "metadata": {},
   "outputs": [],
   "source": [
    "from sklearn.model_selection import train_test_split\n",
    "t_x,v_x,t_y,v_t = train_test_split(x_data, y_data,test_size=0.2,random_state=42)\n"
   ]
  },
  {
   "cell_type": "code",
   "execution_count": 5,
   "id": "50cd8c3a",
   "metadata": {},
   "outputs": [
    {
     "data": {
      "text/plain": [
       "(array([1.1149e+04, 5.7490e+03, 1.8590e+03, 7.3200e+02, 3.0600e+02,\n",
       "        1.8800e+02, 6.0000e+00, 4.0000e+00, 4.0000e+00, 3.0000e+00]),\n",
       " array([  11. ,  195.3,  379.6,  563.9,  748.2,  932.5, 1116.8, 1301.1,\n",
       "        1485.4, 1669.7, 1854. ]),\n",
       " <BarContainer object of 10 artists>)"
      ]
     },
     "execution_count": 5,
     "metadata": {},
     "output_type": "execute_result"
    },
    {
     "data": {
      "image/png": "[encoded data removed]",
      "text/plain": [
       "<Figure size 432x288 with 1 Axes>"
      ]
     },
     "metadata": {
      "needs_background": "light"
     },
     "output_type": "display_data"
    }
   ],
   "source": [
    "import numpy as np\n",
    "l = np.array([len(i)for i in t_x])\n",
    "import matplotlib.pyplot as plt\n",
    "plt.hist(l)"
   ]
  },
  {
   "cell_type": "code",
   "execution_count": 6,
   "id": "4e596501",
   "metadata": {},
   "outputs": [
    {
     "data": {
      "text/plain": [
       "178.0"
      ]
     },
     "execution_count": 6,
     "metadata": {},
     "output_type": "execute_result"
    }
   ],
   "source": [
    "np.median(l)#중간값"
   ]
  },
  {
   "cell_type": "code",
   "execution_count": 7,
   "id": "fd2940f2",
   "metadata": {},
   "outputs": [],
   "source": [
    "#스케일 작업 위작업으로 정형화됨\n",
    "from tensorflow.keras.preprocessing.sequence import pad_sequences\n",
    "s_t_x = pad_sequences(t_x,maxlen=100) #100 가지로 줄임"
   ]
  },
  {
   "cell_type": "code",
   "execution_count": 8,
   "id": "512f76e8",
   "metadata": {},
   "outputs": [
    {
     "data": {
      "text/plain": [
       "(20000, 100)"
      ]
     },
     "execution_count": 8,
     "metadata": {},
     "output_type": "execute_result"
    }
   ],
   "source": [
    "s_t_x.shape"
   ]
  },
  {
   "cell_type": "code",
   "execution_count": 9,
   "id": "79793ce1",
   "metadata": {},
   "outputs": [],
   "source": [
    "s_v_x = pad_sequences(v_x,maxlen=100)"
   ]
  },
  {
   "cell_type": "code",
   "execution_count": 10,
   "id": "34dee37c",
   "metadata": {},
   "outputs": [],
   "source": [
    "from tensorflow import keras\n",
    "m = keras.Sequential()"
   ]
  },
  {
   "cell_type": "code",
   "execution_count": 11,
   "id": "b80d6f96",
   "metadata": {},
   "outputs": [],
   "source": [
    "m.add(keras.layers.SimpleRNN(8,input_shape=(100,500)))\n",
    "m.add(keras.layers.Dense(1,activation='sigmoid'))"
   ]
  },
  {
   "cell_type": "code",
   "execution_count": 12,
   "id": "3935a496",
   "metadata": {},
   "outputs": [],
   "source": [
    "t_ho = keras.utils.to_categorical(s_t_x)"
   ]
  },
  {
   "cell_type": "code",
   "execution_count": 13,
   "id": "d72d9671",
   "metadata": {},
   "outputs": [
    {
     "data": {
      "text/plain": [
       "(20000, 100, 500)"
      ]
     },
     "execution_count": 13,
     "metadata": {},
     "output_type": "execute_result"
    }
   ],
   "source": [
    "t_ho.shape"
   ]
  },
  {
   "cell_type": "code",
   "execution_count": 14,
   "id": "dbf7648c",
   "metadata": {},
   "outputs": [],
   "source": [
    "v_ho = keras.utils.to_categorical(s_v_x)"
   ]
  },
  {
   "cell_type": "code",
   "execution_count": 15,
   "id": "c6844e89",
   "metadata": {},
   "outputs": [
    {
     "data": {
      "text/plain": [
       "(5000, 100, 500)"
      ]
     },
     "execution_count": 15,
     "metadata": {},
     "output_type": "execute_result"
    }
   ],
   "source": [
    "v_ho.shape"
   ]
  },
  {
   "cell_type": "code",
   "execution_count": 16,
   "id": "89cb4701",
   "metadata": {},
   "outputs": [
    {
     "name": "stdout",
     "output_type": "stream",
     "text": [
      "Model: \"sequential\"\n",
      "_________________________________________________________________\n",
      " Layer (type)                Output Shape              Param #   \n",
      "=================================================================\n",
      " simple_rnn (SimpleRNN)      (None, 8)                 4072      \n",
      "                                                                 \n",
      " dense (Dense)               (None, 1)                 9         \n",
      "                                                                 \n",
      "=================================================================\n",
      "Total params: 4,081\n",
      "Trainable params: 4,081\n",
      "Non-trainable params: 0\n",
      "_________________________________________________________________\n"
     ]
    }
   ],
   "source": [
    "m.summary()"
   ]
  },
  {
   "cell_type": "code",
   "execution_count": 17,
   "id": "2b7b8639",
   "metadata": {},
   "outputs": [
    {
     "name": "stdout",
     "output_type": "stream",
     "text": [
      "Epoch 1/100\n",
      "313/313 [==============================] - 8s 24ms/step - loss: 0.6959 - accuracy: 0.5067 - val_loss: 0.6950 - val_accuracy: 0.5012\n",
      "Epoch 2/100\n",
      "313/313 [==============================] - 7s 23ms/step - loss: 0.6927 - accuracy: 0.5178 - val_loss: 0.6931 - val_accuracy: 0.5122\n",
      "Epoch 3/100\n",
      "313/313 [==============================] - 7s 23ms/step - loss: 0.6910 - accuracy: 0.5280 - val_loss: 0.6916 - val_accuracy: 0.5154\n",
      "Epoch 4/100\n",
      "313/313 [==============================] - 7s 22ms/step - loss: 0.6896 - accuracy: 0.5384 - val_loss: 0.6908 - val_accuracy: 0.5244\n",
      "Epoch 5/100\n",
      "313/313 [==============================] - 7s 22ms/step - loss: 0.6882 - accuracy: 0.5473 - val_loss: 0.6899 - val_accuracy: 0.5274\n",
      "Epoch 6/100\n",
      "313/313 [==============================] - 7s 23ms/step - loss: 0.6867 - accuracy: 0.5543 - val_loss: 0.6890 - val_accuracy: 0.5352\n",
      "Epoch 7/100\n",
      "313/313 [==============================] - 8s 24ms/step - loss: 0.6853 - accuracy: 0.5584 - val_loss: 0.6881 - val_accuracy: 0.5388\n",
      "Epoch 8/100\n",
      "313/313 [==============================] - 7s 22ms/step - loss: 0.6837 - accuracy: 0.5652 - val_loss: 0.6872 - val_accuracy: 0.5422\n",
      "Epoch 9/100\n",
      "313/313 [==============================] - 7s 24ms/step - loss: 0.6822 - accuracy: 0.5703 - val_loss: 0.6863 - val_accuracy: 0.5472\n",
      "Epoch 10/100\n",
      "313/313 [==============================] - 7s 24ms/step - loss: 0.6805 - accuracy: 0.5753 - val_loss: 0.6853 - val_accuracy: 0.5494\n",
      "Epoch 11/100\n",
      "313/313 [==============================] - 7s 24ms/step - loss: 0.6787 - accuracy: 0.5786 - val_loss: 0.6841 - val_accuracy: 0.5500\n",
      "Epoch 12/100\n",
      "313/313 [==============================] - 7s 23ms/step - loss: 0.6762 - accuracy: 0.5837 - val_loss: 0.6816 - val_accuracy: 0.5556\n",
      "Epoch 13/100\n",
      "313/313 [==============================] - 7s 23ms/step - loss: 0.6680 - accuracy: 0.6064 - val_loss: 0.6682 - val_accuracy: 0.6018\n",
      "Epoch 14/100\n",
      "313/313 [==============================] - 7s 23ms/step - loss: 0.6526 - accuracy: 0.6424 - val_loss: 0.6504 - val_accuracy: 0.6436\n",
      "Epoch 15/100\n",
      "313/313 [==============================] - 7s 23ms/step - loss: 0.6322 - accuracy: 0.6754 - val_loss: 0.6310 - val_accuracy: 0.6686\n",
      "Epoch 16/100\n",
      "313/313 [==============================] - 7s 23ms/step - loss: 0.6095 - accuracy: 0.7041 - val_loss: 0.6103 - val_accuracy: 0.7004\n",
      "Epoch 17/100\n",
      "313/313 [==============================] - 7s 23ms/step - loss: 0.5877 - accuracy: 0.7242 - val_loss: 0.5916 - val_accuracy: 0.7176\n",
      "Epoch 18/100\n",
      "313/313 [==============================] - 7s 22ms/step - loss: 0.5678 - accuracy: 0.7409 - val_loss: 0.5736 - val_accuracy: 0.7310\n",
      "Epoch 19/100\n",
      "313/313 [==============================] - 7s 23ms/step - loss: 0.5494 - accuracy: 0.7508 - val_loss: 0.5602 - val_accuracy: 0.7366\n",
      "Epoch 20/100\n",
      "313/313 [==============================] - 7s 23ms/step - loss: 0.5334 - accuracy: 0.7621 - val_loss: 0.5477 - val_accuracy: 0.7400\n",
      "Epoch 21/100\n",
      "313/313 [==============================] - 7s 23ms/step - loss: 0.5192 - accuracy: 0.7706 - val_loss: 0.5336 - val_accuracy: 0.7540\n",
      "Epoch 22/100\n",
      "313/313 [==============================] - 7s 22ms/step - loss: 0.5069 - accuracy: 0.7771 - val_loss: 0.5259 - val_accuracy: 0.7596\n",
      "Epoch 23/100\n",
      "313/313 [==============================] - 7s 22ms/step - loss: 0.4967 - accuracy: 0.7824 - val_loss: 0.5210 - val_accuracy: 0.7584\n",
      "Epoch 24/100\n",
      "313/313 [==============================] - 7s 23ms/step - loss: 0.4870 - accuracy: 0.7868 - val_loss: 0.5066 - val_accuracy: 0.7734\n",
      "Epoch 25/100\n",
      "313/313 [==============================] - 7s 22ms/step - loss: 0.4788 - accuracy: 0.7907 - val_loss: 0.5005 - val_accuracy: 0.7742\n",
      "Epoch 26/100\n",
      "313/313 [==============================] - 7s 22ms/step - loss: 0.4708 - accuracy: 0.7940 - val_loss: 0.4958 - val_accuracy: 0.7698\n",
      "Epoch 27/100\n",
      "313/313 [==============================] - 7s 23ms/step - loss: 0.4640 - accuracy: 0.7980 - val_loss: 0.4903 - val_accuracy: 0.7796\n",
      "Epoch 28/100\n",
      "313/313 [==============================] - 7s 23ms/step - loss: 0.4579 - accuracy: 0.7994 - val_loss: 0.4860 - val_accuracy: 0.7820\n",
      "Epoch 29/100\n",
      "313/313 [==============================] - 7s 22ms/step - loss: 0.4523 - accuracy: 0.8044 - val_loss: 0.4810 - val_accuracy: 0.7848\n",
      "Epoch 30/100\n",
      "313/313 [==============================] - 7s 23ms/step - loss: 0.4477 - accuracy: 0.8051 - val_loss: 0.4777 - val_accuracy: 0.7872\n",
      "Epoch 31/100\n",
      "313/313 [==============================] - 7s 23ms/step - loss: 0.4429 - accuracy: 0.8068 - val_loss: 0.4862 - val_accuracy: 0.7762\n",
      "Epoch 32/100\n",
      "313/313 [==============================] - 7s 23ms/step - loss: 0.4392 - accuracy: 0.8087 - val_loss: 0.4733 - val_accuracy: 0.7912\n",
      "Epoch 33/100\n",
      "313/313 [==============================] - 7s 23ms/step - loss: 0.4358 - accuracy: 0.8108 - val_loss: 0.4725 - val_accuracy: 0.7890\n",
      "Epoch 34/100\n",
      "313/313 [==============================] - 7s 23ms/step - loss: 0.4325 - accuracy: 0.8117 - val_loss: 0.4705 - val_accuracy: 0.7910\n",
      "Epoch 35/100\n",
      "313/313 [==============================] - 7s 23ms/step - loss: 0.4297 - accuracy: 0.8135 - val_loss: 0.4685 - val_accuracy: 0.7910\n",
      "Epoch 36/100\n",
      "313/313 [==============================] - 7s 23ms/step - loss: 0.4264 - accuracy: 0.8153 - val_loss: 0.4667 - val_accuracy: 0.7914\n",
      "Epoch 37/100\n",
      "313/313 [==============================] - 7s 24ms/step - loss: 0.4247 - accuracy: 0.8152 - val_loss: 0.4694 - val_accuracy: 0.7918\n",
      "Epoch 38/100\n",
      "313/313 [==============================] - 8s 24ms/step - loss: 0.4222 - accuracy: 0.8152 - val_loss: 0.4668 - val_accuracy: 0.7910\n",
      "Epoch 39/100\n",
      "313/313 [==============================] - 7s 23ms/step - loss: 0.4199 - accuracy: 0.8180 - val_loss: 0.4686 - val_accuracy: 0.7908\n"
     ]
    }
   ],
   "source": [
    "ot = keras.optimizers.RMSprop(learning_rate=1e-4)\n",
    "m.compile(optimizer=ot,loss = 'binary_crossentropy',metrics='accuracy')\n",
    "ck_p = keras.callbacks.ModelCheckpoint('Ex2.h5',\n",
    "                                       save_best_only=True)\n",
    "e_st = keras.callbacks.EarlyStopping(patience=3\n",
    "                                     ,restore_best_weights=True)\n",
    "hy = m.fit(t_ho,t_y,epochs=100,batch_size=64, validation_data=(v_ho,v_t)\n",
    "          ,callbacks=[ck_p,e_st])"
   ]
  },
  {
   "cell_type": "code",
   "execution_count": 18,
   "id": "edf00588",
   "metadata": {},
   "outputs": [
    {
     "data": {
      "text/plain": [
       "[<matplotlib.lines.Line2D at 0x1660e74e3d0>]"
      ]
     },
     "execution_count": 18,
     "metadata": {},
     "output_type": "execute_result"
    },
    {
     "data": {
      "image/png": "[encoded data removed]",
      "text/plain": [
       "<Figure size 432x288 with 1 Axes>"
      ]
     },
     "metadata": {
      "needs_background": "light"
     },
     "output_type": "display_data"
    }
   ],
   "source": [
    "plt.plot(hy.history['loss'])\n",
    "plt.plot(hy.history['val_loss'])"
   ]
  },
  {
   "cell_type": "code",
   "execution_count": 34,
   "id": "5889a72a",
   "metadata": {},
   "outputs": [
    {
     "name": "stdout",
     "output_type": "stream",
     "text": [
      "Epoch 1/100\n",
      "313/313 [==============================] - 7s 19ms/step - loss: 0.6951 - accuracy: 0.5167 - val_loss: 0.6953 - val_accuracy: 0.5088\n",
      "Epoch 2/100\n",
      "313/313 [==============================] - 5s 17ms/step - loss: 0.6895 - accuracy: 0.5344 - val_loss: 0.6925 - val_accuracy: 0.5166\n",
      "Epoch 3/100\n",
      "313/313 [==============================] - 5s 17ms/step - loss: 0.6848 - accuracy: 0.5528 - val_loss: 0.6907 - val_accuracy: 0.5240\n",
      "Epoch 4/100\n",
      "313/313 [==============================] - 5s 17ms/step - loss: 0.6799 - accuracy: 0.5734 - val_loss: 0.6879 - val_accuracy: 0.5370\n",
      "Epoch 5/100\n",
      "313/313 [==============================] - 5s 17ms/step - loss: 0.6742 - accuracy: 0.5907 - val_loss: 0.6852 - val_accuracy: 0.5476\n",
      "Epoch 6/100\n",
      "313/313 [==============================] - 5s 17ms/step - loss: 0.6673 - accuracy: 0.6037 - val_loss: 0.6813 - val_accuracy: 0.5592\n",
      "Epoch 7/100\n",
      "313/313 [==============================] - 5s 16ms/step - loss: 0.6597 - accuracy: 0.6117 - val_loss: 0.6779 - val_accuracy: 0.5704\n",
      "Epoch 8/100\n",
      "313/313 [==============================] - 5s 16ms/step - loss: 0.6519 - accuracy: 0.6237 - val_loss: 0.6745 - val_accuracy: 0.5778\n",
      "Epoch 9/100\n",
      "313/313 [==============================] - 5s 17ms/step - loss: 0.6444 - accuracy: 0.6340 - val_loss: 0.6709 - val_accuracy: 0.5842\n",
      "Epoch 10/100\n",
      "313/313 [==============================] - 5s 16ms/step - loss: 0.6372 - accuracy: 0.6424 - val_loss: 0.6686 - val_accuracy: 0.5890\n",
      "Epoch 11/100\n",
      "313/313 [==============================] - 5s 17ms/step - loss: 0.6300 - accuracy: 0.6489 - val_loss: 0.6651 - val_accuracy: 0.6014\n",
      "Epoch 12/100\n",
      "313/313 [==============================] - 5s 17ms/step - loss: 0.6236 - accuracy: 0.6564 - val_loss: 0.6635 - val_accuracy: 0.6044\n",
      "Epoch 13/100\n",
      "313/313 [==============================] - 5s 16ms/step - loss: 0.6175 - accuracy: 0.6625 - val_loss: 0.6613 - val_accuracy: 0.6052\n",
      "Epoch 14/100\n",
      "313/313 [==============================] - 5s 16ms/step - loss: 0.6118 - accuracy: 0.6684 - val_loss: 0.6598 - val_accuracy: 0.6116\n",
      "Epoch 15/100\n",
      "313/313 [==============================] - 5s 17ms/step - loss: 0.6059 - accuracy: 0.6734 - val_loss: 0.6590 - val_accuracy: 0.6078\n",
      "Epoch 16/100\n",
      "313/313 [==============================] - 5s 17ms/step - loss: 0.6010 - accuracy: 0.6780 - val_loss: 0.6591 - val_accuracy: 0.6120\n",
      "Epoch 17/100\n",
      "313/313 [==============================] - 5s 17ms/step - loss: 0.5964 - accuracy: 0.6822 - val_loss: 0.6590 - val_accuracy: 0.6110\n",
      "Epoch 18/100\n",
      "313/313 [==============================] - 5s 17ms/step - loss: 0.5918 - accuracy: 0.6874 - val_loss: 0.6589 - val_accuracy: 0.6132\n",
      "Epoch 19/100\n",
      "313/313 [==============================] - 5s 17ms/step - loss: 0.5876 - accuracy: 0.6912 - val_loss: 0.6591 - val_accuracy: 0.6174\n",
      "Epoch 20/100\n",
      "313/313 [==============================] - 5s 17ms/step - loss: 0.5834 - accuracy: 0.6942 - val_loss: 0.6616 - val_accuracy: 0.6138\n",
      "Epoch 21/100\n",
      "313/313 [==============================] - 5s 17ms/step - loss: 0.5799 - accuracy: 0.6988 - val_loss: 0.6621 - val_accuracy: 0.6132\n"
     ]
    }
   ],
   "source": [
    "\n",
    "m1 = keras.Sequential()\n",
    "m1.add(keras.layers.Embedding(500,16,input_length=100))\n",
    "m1.add(keras.layers.SimpleRNN(8))\n",
    "m1.add(keras.layers.Dense(1,activation='sigmoid'))\n",
    "ot1 = keras.optimizers.RMSprop(learning_rate=1e-4)\n",
    "m1.compile(optimizer=ot1,loss = 'binary_crossentropy',metrics='accuracy')\n",
    "ck_p2 = keras.callbacks.ModelCheckpoint('Ex2_emd.h5',\n",
    "                                       save_best_only=True)\n",
    "e_st2 = keras.callbacks.EarlyStopping(patience=3\n",
    "                                     ,restore_best_weights=True)\n",
    "hy1 = m1.fit(s_t_x,t_y,epochs=100,batch_size=64,\n",
    "             validation_data=(s_v_x,v_t),callbacks=[ck_p2,e_st2])"
   ]
  },
  {
   "cell_type": "code",
   "execution_count": 36,
   "id": "7b2b5b69",
   "metadata": {},
   "outputs": [
    {
     "data": {
      "text/plain": [
       "[<matplotlib.lines.Line2D at 0x16613527130>]"
      ]
     },
     "execution_count": 36,
     "metadata": {},
     "output_type": "execute_result"
    },
    {
     "data": {
      "image/png": "[encoded data removed]",
      "text/plain": [
       "<Figure size 432x288 with 1 Axes>"
      ]
     },
     "metadata": {
      "needs_background": "light"
     },
     "output_type": "display_data"
    }
   ],
   "source": [
    "plt.plot(hy1.history['loss'])\n",
    "plt.plot(hy1.history['val_loss'])"
   ]
  },
  {
   "cell_type": "code",
   "execution_count": 28,
   "id": "dd4ad5f7",
   "metadata": {},
   "outputs": [],
   "source": [
    "(x_data, y_data),(tt_x,tt_y) = load_data(num_words=500)\n",
    "t_x,v_x,t_y,v_y = train_test_split(x_data, y_data,test_size=0.2,random_state=42)\n"
   ]
  },
  {
   "cell_type": "code",
   "execution_count": 29,
   "id": "57733ece",
   "metadata": {},
   "outputs": [],
   "source": [
    "s_t_x = pad_sequences(t_x,maxlen=100)\n",
    "s_v_x = pad_sequences(v_x,maxlen=100)"
   ]
  },
  {
   "cell_type": "code",
   "execution_count": 30,
   "id": "67fad250",
   "metadata": {},
   "outputs": [],
   "source": [
    "m2 = keras.Sequential()\n",
    "m2.add(keras.layers.Embedding(500,16,input_length=100))\n",
    "m2.add(keras.layers.LSTM(8,dropout=0.3))\n",
    "m2.add(keras.layers.Dense(1,activation='sigmoid'))"
   ]
  },
  {
   "cell_type": "code",
   "execution_count": 33,
   "id": "89570dc3",
   "metadata": {},
   "outputs": [
    {
     "name": "stdout",
     "output_type": "stream",
     "text": [
      "Epoch 1/100\n",
      "313/313 [==============================] - 11s 30ms/step - loss: 0.6923 - accuracy: 0.5444 - val_loss: 0.6918 - val_accuracy: 0.5740\n",
      "Epoch 2/100\n",
      "313/313 [==============================] - 9s 29ms/step - loss: 0.6906 - accuracy: 0.5942 - val_loss: 0.6895 - val_accuracy: 0.6116\n",
      "Epoch 3/100\n",
      "313/313 [==============================] - 9s 29ms/step - loss: 0.6867 - accuracy: 0.6132 - val_loss: 0.6836 - val_accuracy: 0.6338\n",
      "Epoch 4/100\n",
      "313/313 [==============================] - 9s 28ms/step - loss: 0.6661 - accuracy: 0.6220 - val_loss: 0.6379 - val_accuracy: 0.6534\n",
      "Epoch 5/100\n",
      "313/313 [==============================] - 10s 31ms/step - loss: 0.6121 - accuracy: 0.7178 - val_loss: 0.5993 - val_accuracy: 0.7344\n",
      "Epoch 6/100\n",
      "313/313 [==============================] - 10s 31ms/step - loss: 0.5877 - accuracy: 0.7344 - val_loss: 0.5785 - val_accuracy: 0.7480\n",
      "Epoch 7/100\n",
      "313/313 [==============================] - 9s 30ms/step - loss: 0.5700 - accuracy: 0.7463 - val_loss: 0.5647 - val_accuracy: 0.7544\n",
      "Epoch 8/100\n",
      "313/313 [==============================] - 9s 29ms/step - loss: 0.5575 - accuracy: 0.7521 - val_loss: 0.5500 - val_accuracy: 0.7604\n",
      "Epoch 9/100\n",
      "313/313 [==============================] - 9s 28ms/step - loss: 0.5434 - accuracy: 0.7618 - val_loss: 0.5378 - val_accuracy: 0.7670\n",
      "Epoch 10/100\n",
      "313/313 [==============================] - 9s 28ms/step - loss: 0.5312 - accuracy: 0.7702 - val_loss: 0.5267 - val_accuracy: 0.7702\n",
      "Epoch 11/100\n",
      "313/313 [==============================] - 9s 28ms/step - loss: 0.5182 - accuracy: 0.7747 - val_loss: 0.5186 - val_accuracy: 0.7748\n",
      "Epoch 12/100\n",
      "313/313 [==============================] - 9s 28ms/step - loss: 0.5106 - accuracy: 0.7746 - val_loss: 0.5071 - val_accuracy: 0.7830\n",
      "Epoch 13/100\n",
      "313/313 [==============================] - 9s 29ms/step - loss: 0.4989 - accuracy: 0.7827 - val_loss: 0.4987 - val_accuracy: 0.7834\n",
      "Epoch 14/100\n",
      "313/313 [==============================] - 9s 29ms/step - loss: 0.4903 - accuracy: 0.7865 - val_loss: 0.4891 - val_accuracy: 0.7844\n",
      "Epoch 15/100\n",
      "313/313 [==============================] - 9s 28ms/step - loss: 0.4841 - accuracy: 0.7885 - val_loss: 0.4833 - val_accuracy: 0.7820\n",
      "Epoch 16/100\n",
      "313/313 [==============================] - 9s 28ms/step - loss: 0.4745 - accuracy: 0.7916 - val_loss: 0.4760 - val_accuracy: 0.7852\n",
      "Epoch 17/100\n",
      "313/313 [==============================] - 9s 29ms/step - loss: 0.4690 - accuracy: 0.7940 - val_loss: 0.4699 - val_accuracy: 0.7872\n",
      "Epoch 18/100\n",
      "313/313 [==============================] - 9s 29ms/step - loss: 0.4626 - accuracy: 0.7933 - val_loss: 0.4652 - val_accuracy: 0.7906\n",
      "Epoch 19/100\n",
      "313/313 [==============================] - 9s 29ms/step - loss: 0.4577 - accuracy: 0.7973 - val_loss: 0.4615 - val_accuracy: 0.7890\n",
      "Epoch 20/100\n",
      "313/313 [==============================] - 9s 28ms/step - loss: 0.4514 - accuracy: 0.8012 - val_loss: 0.4560 - val_accuracy: 0.7916\n",
      "Epoch 21/100\n",
      "313/313 [==============================] - 9s 28ms/step - loss: 0.4480 - accuracy: 0.8001 - val_loss: 0.4527 - val_accuracy: 0.7920\n",
      "Epoch 22/100\n",
      "313/313 [==============================] - 9s 30ms/step - loss: 0.4454 - accuracy: 0.8024 - val_loss: 0.4515 - val_accuracy: 0.7908\n",
      "Epoch 23/100\n",
      "313/313 [==============================] - 9s 29ms/step - loss: 0.4435 - accuracy: 0.8005 - val_loss: 0.4489 - val_accuracy: 0.7976\n",
      "Epoch 24/100\n",
      "313/313 [==============================] - 9s 29ms/step - loss: 0.4379 - accuracy: 0.8048 - val_loss: 0.4465 - val_accuracy: 0.7938\n",
      "Epoch 25/100\n",
      "313/313 [==============================] - 9s 28ms/step - loss: 0.4365 - accuracy: 0.8033 - val_loss: 0.4440 - val_accuracy: 0.7978\n",
      "Epoch 26/100\n",
      "313/313 [==============================] - 9s 28ms/step - loss: 0.4344 - accuracy: 0.8051 - val_loss: 0.4430 - val_accuracy: 0.7930\n",
      "Epoch 27/100\n",
      "313/313 [==============================] - 9s 30ms/step - loss: 0.4323 - accuracy: 0.8051 - val_loss: 0.4462 - val_accuracy: 0.8002\n",
      "Epoch 28/100\n",
      "313/313 [==============================] - 9s 29ms/step - loss: 0.4298 - accuracy: 0.8084 - val_loss: 0.4416 - val_accuracy: 0.8004\n",
      "Epoch 29/100\n",
      "313/313 [==============================] - 9s 28ms/step - loss: 0.4300 - accuracy: 0.8069 - val_loss: 0.4396 - val_accuracy: 0.7982\n",
      "Epoch 30/100\n",
      "313/313 [==============================] - 9s 27ms/step - loss: 0.4272 - accuracy: 0.8101 - val_loss: 0.4402 - val_accuracy: 0.7928\n",
      "Epoch 31/100\n",
      "313/313 [==============================] - 9s 28ms/step - loss: 0.4266 - accuracy: 0.8085 - val_loss: 0.4373 - val_accuracy: 0.8018\n",
      "Epoch 32/100\n",
      "313/313 [==============================] - 9s 28ms/step - loss: 0.4254 - accuracy: 0.8073 - val_loss: 0.4374 - val_accuracy: 0.7974\n",
      "Epoch 33/100\n",
      "313/313 [==============================] - 9s 28ms/step - loss: 0.4241 - accuracy: 0.8074 - val_loss: 0.4410 - val_accuracy: 0.8036\n",
      "Epoch 34/100\n",
      "313/313 [==============================] - 9s 28ms/step - loss: 0.4241 - accuracy: 0.8078 - val_loss: 0.4377 - val_accuracy: 0.7930\n"
     ]
    }
   ],
   "source": [
    "ot1 = keras.optimizers.RMSprop(learning_rate=1e-4)\n",
    "m2.compile(optimizer=ot1,loss = 'binary_crossentropy',metrics='accuracy')\n",
    "ck_p2 = keras.callbacks.ModelCheckpoint('Ex2_LSTM.h5',\n",
    "                                       save_best_only=True)\n",
    "e_st2 = keras.callbacks.EarlyStopping(patience=3\n",
    "                                     ,restore_best_weights=True)\n",
    "hy2 = m2.fit(s_t_x,t_y,epochs=100,\n",
    "             batch_size=64,validation_data=(s_v_x,v_y),callbacks=[ck_p2,e_st2])"
   ]
  },
  {
   "cell_type": "code",
   "execution_count": 35,
   "id": "dd1249fd",
   "metadata": {},
   "outputs": [
    {
     "data": {
      "text/plain": [
       "[<matplotlib.lines.Line2D at 0x1660ec77eb0>]"
      ]
     },
     "execution_count": 35,
     "metadata": {},
     "output_type": "execute_result"
    },
    {
     "data": {
      "image/png": "[encoded data removed]",
      "text/plain": [
       "<Figure size 432x288 with 1 Axes>"
      ]
     },
     "metadata": {
      "needs_background": "light"
     },
     "output_type": "display_data"
    }
   ],
   "source": [
    "plt.plot(hy2.history['loss'])\n",
    "plt.plot(hy2.history['val_loss'])"
   ]
  },
  {
   "cell_type": "code",
   "execution_count": null,
   "id": "6355d5a7",
   "metadata": {},
   "outputs": [],
   "source": [
    "m3 = keras.Sequential()\n",
    "m3.add(keras.layers.Embedding(500,16,input_length=100))\n",
    "m3.add(keras.layers.LSTM(8,dropout=0.3,return_sequences=True))\n",
    "m3.add(keras.layers.LSTM(8,dropout=0.3))\n",
    "m3.add(keras.layers.Dense(1,activation='sigmoid'))"
   ]
  },
  {
   "cell_type": "code",
   "execution_count": null,
   "id": "57d6615f",
   "metadata": {},
   "outputs": [],
   "source": [
    "m4 = keras.Sequential()\n",
    "m4.add(keras.layers.Embedding(500,16,input_length=100))\n",
    "m4.add(keras.layers.GRU(8,dropout=0.3,return_sequences=True))\n",
    "m4.add(keras.layers.LSTM(8,dropout=0.3))\n",
    "m4.add(keras.layers.Dense(1,activation='sigmoid'))"
   ]
  }
 ],
 "metadata": {
  "kernelspec": {
   "display_name": "Python 3 (ipykernel)",
   "language": "python",
   "name": "python3"
  },
  "language_info": {
   "codemirror_mode": {
    "name": "ipython",
    "version": 3
   },
   "file_extension": ".py",
   "mimetype": "text/x-python",
   "name": "python",
   "nbconvert_exporter": "python",
   "pygments_lexer": "ipython3",
   "version": "3.9.7"
  }
 },
 "nbformat": 4,
 "nbformat_minor": 5
}
