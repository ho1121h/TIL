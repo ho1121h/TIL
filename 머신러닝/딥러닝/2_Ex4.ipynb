{
 "cells": [
  {
   "cell_type": "code",
   "execution_count": 8,
   "id": "672b8927",
   "metadata": {},
   "outputs": [
    {
     "data": {
      "text/plain": [
       "(28, 28)"
      ]
     },
     "execution_count": 8,
     "metadata": {},
     "output_type": "execute_result"
    }
   ],
   "source": [
    "#외부 모듈 수집\n",
    "import tensorflow as tf\n",
    "from tensorflow import keras\n",
    "import numpy as np\n",
    "import pandas as pd\n",
    "import matplotlib.pyplot as plt\n",
    "(t_x,t_y),(tt_x,tt_y) = keras.datasets.fashion_mnist.load_data()\n",
    "s_t_x = t_x/255.0\n",
    "s_tt_x=tt_x/255.0\n",
    "from sklearn.model_selection import train_test_split\n",
    "t_x, v_x, t_y, v_y = train_test_split(s_t_x,t_y ,test_size=0.2, random_state=42)\n",
    "t_x.shape[1:]"
   ]
  },
  {
   "cell_type": "markdown",
   "id": "103399a4",
   "metadata": {},
   "source": [
    "## 함수로 계층 생성"
   ]
  },
  {
   "cell_type": "code",
   "execution_count": 14,
   "id": "b505bb3a",
   "metadata": {},
   "outputs": [],
   "source": [
    "def s_my_m(l=None):\n",
    "    m = keras.Sequential()\n",
    "    m.add(keras.layers.Flatten(input_shape=(28,28)))\n",
    "    if l:\n",
    "        for i in l:\n",
    "            m.add(i)        \n",
    "    m.add(keras.layers.Dense(10,activation='softmax'))\n",
    "    m.compile(loss='sparse_categorical_crossentropy',\n",
    "          optimizer='adam',metrics='accuracy')\n",
    "    return m\n"
   ]
  },
  {
   "cell_type": "markdown",
   "id": "7132480f",
   "metadata": {},
   "source": [
    "## 인공신경망생성"
   ]
  },
  {
   "cell_type": "code",
   "execution_count": 10,
   "id": "c7c6cde8",
   "metadata": {},
   "outputs": [
    {
     "name": "stdout",
     "output_type": "stream",
     "text": [
      "Epoch 1/20\n",
      "1462/1500 [============================>.] - ETA: 0s - loss: 0.5913 - accuracy: 0.7926INFO:tensorflow:Assets written to: best_m.h\\assets\n",
      "1500/1500 [==============================] - 3s 2ms/step - loss: 0.5874 - accuracy: 0.7940 - val_loss: 0.4212 - val_accuracy: 0.8473\n",
      "Epoch 2/20\n",
      "1464/1500 [============================>.] - ETA: 0s - loss: 0.4392 - accuracy: 0.8410INFO:tensorflow:Assets written to: best_m.h\\assets\n",
      "1500/1500 [==============================] - 2s 2ms/step - loss: 0.4396 - accuracy: 0.8411 - val_loss: 0.3825 - val_accuracy: 0.8599\n",
      "Epoch 3/20\n",
      "1495/1500 [============================>.] - ETA: 0s - loss: 0.4051 - accuracy: 0.8555INFO:tensorflow:Assets written to: best_m.h\\assets\n",
      "1500/1500 [==============================] - 2s 2ms/step - loss: 0.4052 - accuracy: 0.8555 - val_loss: 0.3703 - val_accuracy: 0.8669\n",
      "Epoch 4/20\n",
      "1499/1500 [============================>.] - ETA: 0s - loss: 0.3796 - accuracy: 0.8596INFO:tensorflow:Assets written to: best_m.h\\assets\n",
      "1500/1500 [==============================] - 2s 2ms/step - loss: 0.3795 - accuracy: 0.8596 - val_loss: 0.3548 - val_accuracy: 0.8696\n",
      "Epoch 5/20\n",
      "1496/1500 [============================>.] - ETA: 0s - loss: 0.3676 - accuracy: 0.8664INFO:tensorflow:Assets written to: best_m.h\\assets\n",
      "1500/1500 [==============================] - 2s 2ms/step - loss: 0.3675 - accuracy: 0.8664 - val_loss: 0.3449 - val_accuracy: 0.8737\n",
      "Epoch 6/20\n",
      "1483/1500 [============================>.] - ETA: 0s - loss: 0.3522 - accuracy: 0.8704INFO:tensorflow:Assets written to: best_m.h\\assets\n",
      "1500/1500 [==============================] - 2s 2ms/step - loss: 0.3522 - accuracy: 0.8706 - val_loss: 0.3390 - val_accuracy: 0.8758\n",
      "Epoch 7/20\n",
      "1500/1500 [==============================] - 2s 1ms/step - loss: 0.3435 - accuracy: 0.8742 - val_loss: 0.3483 - val_accuracy: 0.8737\n",
      "Epoch 8/20\n",
      "1461/1500 [============================>.] - ETA: 0s - loss: 0.3332 - accuracy: 0.8762INFO:tensorflow:Assets written to: best_m.h\\assets\n",
      "1500/1500 [==============================] - 2s 2ms/step - loss: 0.3333 - accuracy: 0.8763 - val_loss: 0.3272 - val_accuracy: 0.8802\n",
      "Epoch 9/20\n",
      "1484/1500 [============================>.] - ETA: 0s - loss: 0.3286 - accuracy: 0.8786INFO:tensorflow:Assets written to: best_m.h\\assets\n",
      "1500/1500 [==============================] - 3s 2ms/step - loss: 0.3287 - accuracy: 0.8785 - val_loss: 0.3250 - val_accuracy: 0.8825\n",
      "Epoch 10/20\n",
      "1500/1500 [==============================] - 2s 1ms/step - loss: 0.3210 - accuracy: 0.8827 - val_loss: 0.3432 - val_accuracy: 0.8756\n",
      "Epoch 11/20\n",
      "1500/1500 [==============================] - 2s 1ms/step - loss: 0.3151 - accuracy: 0.8840 - val_loss: 0.3253 - val_accuracy: 0.8817\n",
      "Epoch 12/20\n",
      "1474/1500 [============================>.] - ETA: 0s - loss: 0.3114 - accuracy: 0.8857INFO:tensorflow:Assets written to: best_m.h\\assets\n",
      "1500/1500 [==============================] - 2s 2ms/step - loss: 0.3106 - accuracy: 0.8861 - val_loss: 0.3226 - val_accuracy: 0.8809\n",
      "Epoch 13/20\n",
      "1476/1500 [============================>.] - ETA: 0s - loss: 0.3056 - accuracy: 0.8873INFO:tensorflow:Assets written to: best_m.h\\assets\n",
      "1500/1500 [==============================] - 3s 2ms/step - loss: 0.3052 - accuracy: 0.8874 - val_loss: 0.3176 - val_accuracy: 0.8855\n",
      "Epoch 14/20\n",
      "1500/1500 [==============================] - 2s 1ms/step - loss: 0.2981 - accuracy: 0.8898 - val_loss: 0.3269 - val_accuracy: 0.8795\n",
      "Epoch 15/20\n",
      "1500/1500 [==============================] - 2s 1ms/step - loss: 0.2931 - accuracy: 0.8900 - val_loss: 0.3272 - val_accuracy: 0.8804\n",
      "Epoch 16/20\n",
      "1500/1500 [==============================] - 2s 1ms/step - loss: 0.2895 - accuracy: 0.8913 - val_loss: 0.3287 - val_accuracy: 0.8814\n",
      "Epoch 17/20\n",
      "1500/1500 [==============================] - 2s 1ms/step - loss: 0.2850 - accuracy: 0.8924 - val_loss: 0.3256 - val_accuracy: 0.8853\n",
      "Epoch 18/20\n",
      "1500/1500 [==============================] - 2s 1ms/step - loss: 0.2813 - accuracy: 0.8954 - val_loss: 0.3205 - val_accuracy: 0.8867\n",
      "Epoch 19/20\n",
      "1500/1500 [==============================] - 2s 1ms/step - loss: 0.2802 - accuracy: 0.8960 - val_loss: 0.3265 - val_accuracy: 0.8860\n",
      "Epoch 20/20\n",
      "1500/1500 [==============================] - 2s 1ms/step - loss: 0.2765 - accuracy: 0.8968 - val_loss: 0.3206 - val_accuracy: 0.8839\n"
     ]
    },
    {
     "data": {
      "text/plain": [
       "[<matplotlib.lines.Line2D at 0x11749b5dbe0>]"
      ]
     },
     "execution_count": 10,
     "metadata": {},
     "output_type": "execute_result"
    },
    {
     "data": {
      "image/png": "[encoded data removed]",
      "text/plain": [
       "<Figure size 432x288 with 1 Axes>"
      ]
     },
     "metadata": {
      "needs_background": "light"
     },
     "output_type": "display_data"
    }
   ],
   "source": [
    "m = keras.Sequential()\n",
    "m.add(keras.layers.Flatten(input_shape=(28,28)))\n",
    "m.add(keras.layers.Dense(100,activation='relu'))\n",
    "m.add(keras.layers.Dropout(0.3))\n",
    "m.add(keras.layers.Dense(10,activation='softmax'))\n",
    "#신경망의 구축\n",
    "m.compile(loss='sparse_categorical_crossentropy',\n",
    "          optimizer='adam',metrics='accuracy')\n",
    "#콜백함수:동작중에 실행할 함수\n",
    "ck_p = keras.callbacks.ModelCheckpoint('best_m.h',save_best_only=True)\n",
    "hy = m.fit(t_x,t_y, epochs=20,validation_data=(v_x,v_y),callbacks=[ck_p])#콜백은 학습도중에 써야함\n",
    "plt.plot(hy.history['loss'])\n",
    "plt.plot(hy.history['val_loss'])"
   ]
  },
  {
   "cell_type": "code",
   "execution_count": 11,
   "id": "1c996ce6",
   "metadata": {
    "scrolled": true
   },
   "outputs": [
    {
     "name": "stdout",
     "output_type": "stream",
     "text": [
      "375/375 [==============================] - 0s 781us/step - loss: 0.3206 - accuracy: 0.8839\n"
     ]
    },
    {
     "data": {
      "text/plain": [
       "[0.32059040665626526, 0.8839166760444641]"
      ]
     },
     "execution_count": 11,
     "metadata": {},
     "output_type": "execute_result"
    }
   ],
   "source": [
    "m2 = keras.models.load_model('best_m.h')\n",
    "m.evaluate(v_x,v_y)"
   ]
  },
  {
   "cell_type": "code",
   "execution_count": 12,
   "id": "af81f021",
   "metadata": {
    "scrolled": true
   },
   "outputs": [
    {
     "name": "stdout",
     "output_type": "stream",
     "text": [
      "375/375 [==============================] - 0s 858us/step - loss: 0.3176 - accuracy: 0.8855\n"
     ]
    },
    {
     "data": {
      "text/plain": [
       "[0.3176348805427551, 0.8855000138282776]"
      ]
     },
     "execution_count": 12,
     "metadata": {},
     "output_type": "execute_result"
    }
   ],
   "source": [
    "m2.evaluate(v_x,v_y)"
   ]
  },
  {
   "cell_type": "markdown",
   "id": "d52ebad5",
   "metadata": {},
   "source": [
    "- 목표치 달성은 학습중에 일어난다"
   ]
  },
  {
   "cell_type": "code",
   "execution_count": 30,
   "id": "47e02ed7",
   "metadata": {
    "scrolled": true
   },
   "outputs": [
    {
     "name": "stdout",
     "output_type": "stream",
     "text": [
      "Epoch 1/20\n",
      "1500/1500 [==============================] - 2s 1ms/step - loss: 0.5908 - accuracy: 0.7902 - val_loss: 0.4308 - val_accuracy: 0.8435\n",
      "Epoch 2/20\n",
      "1500/1500 [==============================] - 2s 1ms/step - loss: 0.4415 - accuracy: 0.8400 - val_loss: 0.4073 - val_accuracy: 0.8497\n",
      "Epoch 3/20\n",
      "1500/1500 [==============================] - 2s 1ms/step - loss: 0.4003 - accuracy: 0.8543 - val_loss: 0.3777 - val_accuracy: 0.8605\n",
      "Epoch 4/20\n",
      "1500/1500 [==============================] - 2s 1ms/step - loss: 0.3828 - accuracy: 0.8593 - val_loss: 0.3588 - val_accuracy: 0.8686\n",
      "Epoch 5/20\n",
      "1500/1500 [==============================] - 2s 1ms/step - loss: 0.3644 - accuracy: 0.8680 - val_loss: 0.3557 - val_accuracy: 0.8677\n",
      "Epoch 6/20\n",
      "1500/1500 [==============================] - 2s 1ms/step - loss: 0.3553 - accuracy: 0.8699 - val_loss: 0.3576 - val_accuracy: 0.8696\n",
      "Epoch 7/20\n",
      "1500/1500 [==============================] - 2s 1ms/step - loss: 0.3435 - accuracy: 0.8748 - val_loss: 0.3355 - val_accuracy: 0.8776\n",
      "Epoch 8/20\n",
      "1500/1500 [==============================] - 2s 1ms/step - loss: 0.3311 - accuracy: 0.8772 - val_loss: 0.3316 - val_accuracy: 0.8804\n",
      "Epoch 9/20\n",
      "1500/1500 [==============================] - 2s 1ms/step - loss: 0.3277 - accuracy: 0.8790 - val_loss: 0.3421 - val_accuracy: 0.8773\n",
      "Epoch 10/20\n",
      "1500/1500 [==============================] - 2s 1ms/step - loss: 0.3213 - accuracy: 0.8809 - val_loss: 0.3248 - val_accuracy: 0.8821\n",
      "Epoch 11/20\n",
      "1500/1500 [==============================] - 2s 1ms/step - loss: 0.3110 - accuracy: 0.8841 - val_loss: 0.3313 - val_accuracy: 0.8784\n",
      "Epoch 12/20\n",
      "1500/1500 [==============================] - 2s 1ms/step - loss: 0.3062 - accuracy: 0.8869 - val_loss: 0.3265 - val_accuracy: 0.8819\n"
     ]
    },
    {
     "data": {
      "text/plain": [
       "<keras.callbacks.History at 0x1174419a2e0>"
      ]
     },
     "execution_count": 30,
     "metadata": {},
     "output_type": "execute_result"
    }
   ],
   "source": [
    "#loss 함수를 통해 학습을 하다보면\n",
    "m1 =keras.Sequential()\n",
    "m1.add(keras.layers.Flatten(input_shape=(28,28)))\n",
    "m1.add(keras.layers.Dense(100,activation='relu'))\n",
    "m1.add(keras.layers.Dropout(0.3))    \n",
    "m1.add(keras.layers.Dense(10,activation='softmax'))\n",
    "m1.compile(loss='sparse_categorical_crossentropy',\n",
    "          optimizer='adam',metrics='accuracy')\n",
    "#층수 높아지면 느려짐 왜냐 기억할게 많아져서\n",
    "#얼리스타핑은 멈추는것 매개변수=검증점수  가 연속으로 안늘어나면 멈춘다\n",
    "#restore_best_weights = 멈출때 그전 좋은모델로 돌아감\n",
    "#평가점수 증가\n",
    "ck_p = keras.callbacks.ModelCheckpoint('best1_m.h5',save_best_only=True)\n",
    "e_st = keras.callbacks.EarlyStopping(patience=2)\n",
    "m1.fit(t_x,t_y, epochs=20,validation_data=(v_x,v_y),callbacks=[ck_p,e_st])"
   ]
  },
  {
   "cell_type": "code",
   "execution_count": 31,
   "id": "fc0a3ea1",
   "metadata": {},
   "outputs": [
    {
     "name": "stdout",
     "output_type": "stream",
     "text": [
      "375/375 [==============================] - 0s 810us/step - loss: 0.3265 - accuracy: 0.8819\n"
     ]
    },
    {
     "data": {
      "text/plain": [
       "[0.3264635503292084, 0.8819166421890259]"
      ]
     },
     "execution_count": 31,
     "metadata": {},
     "output_type": "execute_result"
    }
   ],
   "source": [
    "m1.evaluate(v_x,v_y)"
   ]
  },
  {
   "cell_type": "code",
   "execution_count": 32,
   "id": "88a8fbf8",
   "metadata": {},
   "outputs": [
    {
     "name": "stdout",
     "output_type": "stream",
     "text": [
      "375/375 [==============================] - 0s 789us/step - loss: 0.3248 - accuracy: 0.8821\n"
     ]
    },
    {
     "data": {
      "text/plain": [
       "[0.3248487412929535, 0.8820833563804626]"
      ]
     },
     "execution_count": 32,
     "metadata": {},
     "output_type": "execute_result"
    }
   ],
   "source": [
    "m2 = keras.models.load_model('best1_m.h5')\n",
    "m2.evaluate(v_x,v_y)"
   ]
  },
  {
   "cell_type": "code",
   "execution_count": 36,
   "id": "88209b46",
   "metadata": {},
   "outputs": [],
   "source": [
    "def sig(x):\n",
    "    return 1/(1+np.exp(-x))"
   ]
  },
  {
   "cell_type": "code",
   "execution_count": 39,
   "id": "9a9b9dd1",
   "metadata": {},
   "outputs": [
    {
     "data": {
      "text/plain": [
       "(-5.0, 5.0, -0.2, 1.2)"
      ]
     },
     "execution_count": 39,
     "metadata": {},
     "output_type": "execute_result"
    },
    {
     "data": {
      "image/png": "[encoded data removed]",
      "text/plain": [
       "<Figure size 432x288 with 1 Axes>"
      ]
     },
     "metadata": {
      "needs_background": "light"
     },
     "output_type": "display_data"
    }
   ],
   "source": [
    "x = np.linspace(-5,5,200)\n",
    "plt.plot([-5,5],[0,0])\n",
    "plt.plot([-5,5],[1,1])\n",
    "plt.plot([0,0],[-0.2,1.2])\n",
    "plt.plot([-5,5],[-3/4,7/4])\n",
    "plt.plot(x,sig(x))\n",
    "plt.grid(True)\n",
    "plt.axis([-5,5,-0.2,1.2])"
   ]
  },
  {
   "cell_type": "code",
   "execution_count": null,
   "id": "a0f62b6b",
   "metadata": {},
   "outputs": [],
   "source": [
    "# 심층학습"
   ]
  }
 ],
 "metadata": {
  "kernelspec": {
   "display_name": "Python 3 (ipykernel)",
   "language": "python",
   "name": "python3"
  },
  "language_info": {
   "codemirror_mode": {
    "name": "ipython",
    "version": 3
   },
   "file_extension": ".py",
   "mimetype": "text/x-python",
   "name": "python",
   "nbconvert_exporter": "python",
   "pygments_lexer": "ipython3",
   "version": "3.9.7"
  }
 },
 "nbformat": 4,
 "nbformat_minor": 5
}
