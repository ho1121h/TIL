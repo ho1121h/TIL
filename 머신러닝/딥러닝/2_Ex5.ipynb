{
 "cells": [
  {
   "cell_type": "code",
   "execution_count": 2,
   "id": "daf84f3b",
   "metadata": {},
   "outputs": [
    {
     "data": {
      "text/plain": [
       "'\\n#콜백\\n#얼리스타핑\\n#검증점수\\n#코드라인 완성하기\\n금중 주말간 숙제는 Ex5의 모델을 이용하여 학습하기\\n\\n1.최적을 모델 기록을 위한 코드라인적용\\n\\n2. 조건달성시 정지를 위한 코드라인\\n\\n3. 검증data를 이용한 모델 평가'"
      ]
     },
     "execution_count": 2,
     "metadata": {},
     "output_type": "execute_result"
    }
   ],
   "source": [
    "'''\n",
    "#콜백\n",
    "#얼리스타핑\n",
    "#검증점수\n",
    "#코드라인 완성하기\n",
    "금중 주말간 숙제는 Ex5의 모델을 이용하여 학습하기\n",
    "\n",
    "1.최적을 모델 기록을 위한 코드라인적용\n",
    "\n",
    "2. 조건달성시 정지를 위한 코드라인\n",
    "\n",
    "3. 검증data를 이용한 모델 평가'''"
   ]
  },
  {
   "cell_type": "code",
   "execution_count": 3,
   "id": "4120856b",
   "metadata": {},
   "outputs": [],
   "source": [
    "#가로세로높이\n",
    "from tensorflow import keras\n",
    "from sklearn.model_selection import train_test_split\n",
    "from keras.datasets.fashion_mnist import load_data\n",
    "(x_data,y_data),(t_x_data,t_y_data) = load_data()\n",
    "x_data = x_data.reshape(-1,28,28,1)/255.0 #이미지데이터의 전처리\n",
    "\n",
    "t_x, tt_x, t_y, tt_y = train_test_split(x_data,y_data,test_size=0.2,random_state=42)\n",
    "#s_t_x, v_x,s_t_y,v_y = train_test_split(t_x,t_y, random_state= 42, test_size= 0.2)"
   ]
  },
  {
   "cell_type": "code",
   "execution_count": 4,
   "id": "1aecdd32",
   "metadata": {},
   "outputs": [],
   "source": [
    "m = keras.Sequential()#모델 객체 생성\n",
    "m.add(keras.layers.Conv2D(32,kernel_size=3,activation='relu',padding='same',\n",
    "                         input_shape= (28,28,1)))#단일 피쳐\n",
    "#풀링작업\n",
    "m.add(keras.layers.MaxPool2D(2))\n",
    "#커널사이즈 = 가중치 사이즈\n",
    "m.add(keras.layers.Conv2D(64,kernel_size=(3,3),activation='relu',padding='same'))\n",
    "m.add(keras.layers.MaxPool2D(2))\n",
    "# 작업 하나끝"
   ]
  },
  {
   "cell_type": "code",
   "execution_count": 5,
   "id": "a912f3b5",
   "metadata": {},
   "outputs": [
    {
     "name": "stdout",
     "output_type": "stream",
     "text": [
      "Model: \"sequential\"\n",
      "_________________________________________________________________\n",
      " Layer (type)                Output Shape              Param #   \n",
      "=================================================================\n",
      " conv2d (Conv2D)             (None, 28, 28, 32)        320       \n",
      "                                                                 \n",
      " max_pooling2d (MaxPooling2D  (None, 14, 14, 32)       0         \n",
      " )                                                               \n",
      "                                                                 \n",
      " conv2d_1 (Conv2D)           (None, 14, 14, 64)        18496     \n",
      "                                                                 \n",
      " max_pooling2d_1 (MaxPooling  (None, 7, 7, 64)         0         \n",
      " 2D)                                                             \n",
      "                                                                 \n",
      " flatten (Flatten)           (None, 3136)              0         \n",
      "                                                                 \n",
      " dense (Dense)               (None, 100)               313700    \n",
      "                                                                 \n",
      " dropout (Dropout)           (None, 100)               0         \n",
      "                                                                 \n",
      " dense_1 (Dense)             (None, 10)                1010      \n",
      "                                                                 \n",
      "=================================================================\n",
      "Total params: 333,526\n",
      "Trainable params: 333,526\n",
      "Non-trainable params: 0\n",
      "_________________________________________________________________\n"
     ]
    }
   ],
   "source": [
    "m.add(keras.layers.Flatten())\n",
    "m.add(keras.layers.Dense(100,activation='relu'))\n",
    "m.add(keras.layers.Dropout(0.4))\n",
    "m.add(keras.layers.Dense(10,activation='softmax'))\n",
    "m.compile(loss='sparse_categorical_crossentropy',\n",
    "          optimizer='adam',metrics='accuracy')\n",
    "m.summary()"
   ]
  },
  {
   "cell_type": "code",
   "execution_count": 7,
   "id": "596d4983",
   "metadata": {},
   "outputs": [
    {
     "name": "stdout",
     "output_type": "stream",
     "text": [
      "Epoch 1/20\n",
      "1500/1500 [==============================] - 25s 17ms/step - loss: 0.5214 - accuracy: 0.8139 - val_loss: 0.3212 - val_accuracy: 0.8850\n",
      "Epoch 2/20\n",
      "1500/1500 [==============================] - 24s 16ms/step - loss: 0.3426 - accuracy: 0.8760 - val_loss: 0.2707 - val_accuracy: 0.9002\n",
      "Epoch 3/20\n",
      "1500/1500 [==============================] - 24s 16ms/step - loss: 0.2971 - accuracy: 0.8937 - val_loss: 0.2503 - val_accuracy: 0.9071\n",
      "Epoch 4/20\n",
      "1500/1500 [==============================] - 24s 16ms/step - loss: 0.2660 - accuracy: 0.9044 - val_loss: 0.2393 - val_accuracy: 0.9105\n",
      "Epoch 5/20\n",
      "1500/1500 [==============================] - 24s 16ms/step - loss: 0.2419 - accuracy: 0.9114 - val_loss: 0.2285 - val_accuracy: 0.9160\n",
      "Epoch 6/20\n",
      "1500/1500 [==============================] - 24s 16ms/step - loss: 0.2205 - accuracy: 0.9197 - val_loss: 0.2396 - val_accuracy: 0.9109\n",
      "Epoch 7/20\n",
      "1500/1500 [==============================] - 24s 16ms/step - loss: 0.2034 - accuracy: 0.9261 - val_loss: 0.2304 - val_accuracy: 0.9152\n"
     ]
    }
   ],
   "source": [
    "\n",
    "ck_p = keras.callbacks.ModelCheckpoint('best2_m.h5',save_best_only=True)\n",
    "e_st = keras.callbacks.EarlyStopping(patience=2,restore_best_weights=True\n",
    "                                    )\n",
    "hy = m.fit(t_x,t_y, epochs=20,validation_data=(tt_x,tt_y),callbacks=[ck_p,e_st])"
   ]
  },
  {
   "cell_type": "code",
   "execution_count": 8,
   "id": "8c5660bf",
   "metadata": {},
   "outputs": [
    {
     "data": {
      "image/png": "[encoded data removed]",
      "text/plain": [
       "<Figure size 432x288 with 1 Axes>"
      ]
     },
     "metadata": {
      "needs_background": "light"
     },
     "output_type": "display_data"
    }
   ],
   "source": [
    "import pandas as pd\n",
    "import matplotlib.pyplot as plt\n",
    "plt.plot(hy.history['loss'])\n",
    "plt.plot(hy.history['val_loss'])\n",
    "plt.xlabel('epoch')\n",
    "plt.ylabel('loss')\n",
    "plt.legend(['train','val'])\n",
    "plt.show()"
   ]
  },
  {
   "cell_type": "code",
   "execution_count": 9,
   "id": "6c695b57",
   "metadata": {},
   "outputs": [
    {
     "name": "stdout",
     "output_type": "stream",
     "text": [
      "375/375 [==============================] - 2s 5ms/step - loss: 0.2285 - accuracy: 0.9160\n"
     ]
    },
    {
     "data": {
      "text/plain": [
       "[0.22851940989494324, 0.9160000085830688]"
      ]
     },
     "execution_count": 9,
     "metadata": {},
     "output_type": "execute_result"
    }
   ],
   "source": [
    "m.evaluate(tt_x,tt_y)"
   ]
  },
  {
   "cell_type": "code",
   "execution_count": 12,
   "id": "19d6af7b",
   "metadata": {},
   "outputs": [
    {
     "data": {
      "image/png": "[encoded data removed]",
      "text/plain": [
       "<Figure size 432x288 with 1 Axes>"
      ]
     },
     "metadata": {
      "needs_background": "light"
     },
     "output_type": "display_data"
    }
   ],
   "source": [
    "plt.imshow(tt_x[0].reshape(28,28),cmap = 'gray_r')\n",
    "plt.show()"
   ]
  },
  {
   "cell_type": "code",
   "execution_count": 15,
   "id": "7422f048",
   "metadata": {},
   "outputs": [],
   "source": [
    "ck_data = m.predict(tt_x[0:1])"
   ]
  },
  {
   "cell_type": "code",
   "execution_count": 16,
   "id": "06286669",
   "metadata": {},
   "outputs": [
    {
     "data": {
      "text/plain": [
       "<BarContainer object of 10 artists>"
      ]
     },
     "execution_count": 16,
     "metadata": {},
     "output_type": "execute_result"
    },
    {
     "data": {
      "image/png": "[encoded data removed]",
      "text/plain": [
       "<Figure size 432x288 with 1 Axes>"
      ]
     },
     "metadata": {
      "needs_background": "light"
     },
     "output_type": "display_data"
    }
   ],
   "source": [
    "plt.bar(range(1,11),ck_data[0])"
   ]
  },
  {
   "cell_type": "code",
   "execution_count": 18,
   "id": "c671fd26",
   "metadata": {},
   "outputs": [
    {
     "data": {
      "text/plain": [
       "'가방'"
      ]
     },
     "execution_count": 18,
     "metadata": {},
     "output_type": "execute_result"
    }
   ],
   "source": [
    "import numpy as np\n",
    "classes = ['티셔츠','바지','스웨터','드레스',\n",
    "           '코트','샌달','셔츠','스니커즈','가방','앵클 부츠']\n",
    "classes[np.argmax(ck_data)]"
   ]
  },
  {
   "cell_type": "code",
   "execution_count": 19,
   "id": "67448060",
   "metadata": {},
   "outputs": [
    {
     "name": "stdout",
     "output_type": "stream",
     "text": [
      "313/313 [==============================] - 3s 6ms/step - loss: 0.2484 - accuracy: 0.9119\n"
     ]
    },
    {
     "data": {
      "text/plain": [
       "[0.24844133853912354, 0.911899983882904]"
      ]
     },
     "execution_count": 19,
     "metadata": {},
     "output_type": "execute_result"
    }
   ],
   "source": [
    "ck_data = t_x_data.reshape(-1,28,28,1)/255.0 \n",
    "m.evaluate(ck_data,t_y_data)"
   ]
  },
  {
   "cell_type": "code",
   "execution_count": 24,
   "id": "0cf8e941",
   "metadata": {},
   "outputs": [],
   "source": [
    "y_l=m.predict(ck_data[0:10])"
   ]
  },
  {
   "cell_type": "code",
   "execution_count": 22,
   "id": "88cd3ffe",
   "metadata": {},
   "outputs": [
    {
     "data": {
      "text/plain": [
       "'스웨터'"
      ]
     },
     "execution_count": 22,
     "metadata": {},
     "output_type": "execute_result"
    }
   ],
   "source": [
    "classes[np.argmax(y_l[1:2])]"
   ]
  },
  {
   "cell_type": "code",
   "execution_count": 23,
   "id": "06831d6e",
   "metadata": {},
   "outputs": [
    {
     "data": {
      "image/png": "[encoded data removed]",
      "text/plain": [
       "<Figure size 432x288 with 1 Axes>"
      ]
     },
     "metadata": {
      "needs_background": "light"
     },
     "output_type": "display_data"
    }
   ],
   "source": [
    "plt.imshow(ck_data[1].reshape(28,28),cmap = 'gray_r')\n",
    "plt.show()"
   ]
  },
  {
   "cell_type": "code",
   "execution_count": 25,
   "id": "f26e00f3",
   "metadata": {},
   "outputs": [
    {
     "data": {
      "text/plain": [
       "10"
      ]
     },
     "execution_count": 25,
     "metadata": {},
     "output_type": "execute_result"
    }
   ],
   "source": [
    "len(y_l)"
   ]
  },
  {
   "cell_type": "code",
   "execution_count": 27,
   "id": "96473021",
   "metadata": {},
   "outputs": [
    {
     "name": "stdout",
     "output_type": "stream",
     "text": [
      "앵클 부츠\n"
     ]
    },
    {
     "data": {
      "image/png": "[encoded data removed]",
      "text/plain": [
       "<Figure size 432x288 with 1 Axes>"
      ]
     },
     "metadata": {
      "needs_background": "light"
     },
     "output_type": "display_data"
    },
    {
     "name": "stdout",
     "output_type": "stream",
     "text": [
      "스웨터\n"
     ]
    },
    {
     "data": {
      "image/png": "[encoded data removed]",
      "text/plain": [
       "<Figure size 432x288 with 1 Axes>"
      ]
     },
     "metadata": {
      "needs_background": "light"
     },
     "output_type": "display_data"
    },
    {
     "name": "stdout",
     "output_type": "stream",
     "text": [
      "바지\n"
     ]
    },
    {
     "data": {
      "image/png": "[encoded data removed]",
      "text/plain": [
       "<Figure size 432x288 with 1 Axes>"
      ]
     },
     "metadata": {
      "needs_background": "light"
     },
     "output_type": "display_data"
    },
    {
     "name": "stdout",
     "output_type": "stream",
     "text": [
      "바지\n"
     ]
    },
    {
     "data": {
      "image/png": "[encoded data removed]",
      "text/plain": [
       "<Figure size 432x288 with 1 Axes>"
      ]
     },
     "metadata": {
      "needs_background": "light"
     },
     "output_type": "display_data"
    },
    {
     "name": "stdout",
     "output_type": "stream",
     "text": [
      "셔츠\n"
     ]
    },
    {
     "data": {
      "image/png": "[encoded data removed]",
      "text/plain": [
       "<Figure size 432x288 with 1 Axes>"
      ]
     },
     "metadata": {
      "needs_background": "light"
     },
     "output_type": "display_data"
    },
    {
     "name": "stdout",
     "output_type": "stream",
     "text": [
      "바지\n"
     ]
    },
    {
     "data": {
      "image/png": "[encoded data removed]",
      "text/plain": [
       "<Figure size 432x288 with 1 Axes>"
      ]
     },
     "metadata": {
      "needs_background": "light"
     },
     "output_type": "display_data"
    },
    {
     "name": "stdout",
     "output_type": "stream",
     "text": [
      "코트\n"
     ]
    },
    {
     "data": {
      "image/png": "[encoded data removed]",
      "text/plain": [
       "<Figure size 432x288 with 1 Axes>"
      ]
     },
     "metadata": {
      "needs_background": "light"
     },
     "output_type": "display_data"
    },
    {
     "name": "stdout",
     "output_type": "stream",
     "text": [
      "셔츠\n"
     ]
    },
    {
     "data": {
      "image/png": "[encoded data removed]",
      "text/plain": [
       "<Figure size 432x288 with 1 Axes>"
      ]
     },
     "metadata": {
      "needs_background": "light"
     },
     "output_type": "display_data"
    },
    {
     "name": "stdout",
     "output_type": "stream",
     "text": [
      "샌달\n"
     ]
    },
    {
     "data": {
      "image/png": "[encoded data removed]",
      "text/plain": [
       "<Figure size 432x288 with 1 Axes>"
      ]
     },
     "metadata": {
      "needs_background": "light"
     },
     "output_type": "display_data"
    },
    {
     "name": "stdout",
     "output_type": "stream",
     "text": [
      "스니커즈\n"
     ]
    },
    {
     "data": {
      "image/png": "[encoded data removed]",
      "text/plain": [
       "<Figure size 432x288 with 1 Axes>"
      ]
     },
     "metadata": {
      "needs_background": "light"
     },
     "output_type": "display_data"
    }
   ],
   "source": [
    "for i in range(len(y_l)):\n",
    "    print(classes[np.argmax(y_l[i:i+1])])\n",
    "    plt.imshow(ck_data[i].reshape(28,28),cmap = 'gray_r')\n",
    "    plt.show()"
   ]
  },
  {
   "cell_type": "code",
   "execution_count": null,
   "id": "1a254c30",
   "metadata": {},
   "outputs": [],
   "source": []
  }
 ],
 "metadata": {
  "kernelspec": {
   "display_name": "Python 3 (ipykernel)",
   "language": "python",
   "name": "python3"
  },
  "language_info": {
   "codemirror_mode": {
    "name": "ipython",
    "version": 3
   },
   "file_extension": ".py",
   "mimetype": "text/x-python",
   "name": "python",
   "nbconvert_exporter": "python",
   "pygments_lexer": "ipython3",
   "version": "3.9.7"
  }
 },
 "nbformat": 4,
 "nbformat_minor": 5
}
