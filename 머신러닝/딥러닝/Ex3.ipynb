{
 "cells": [
  {
   "cell_type": "code",
   "execution_count": 7,
   "id": "5eff92b9",
   "metadata": {},
   "outputs": [
    {
     "data": {
      "text/plain": [
       "((4, 3), (3, 6), (4, 6), (6, 1), (4, 1))"
      ]
     },
     "execution_count": 7,
     "metadata": {},
     "output_type": "execute_result"
    }
   ],
   "source": [
    "import numpy as np\n",
    "X = np.array([[0,0,1],[0,1,1],[1,0,1],[1,1,1]])\n",
    "y = np.array([[0],[1],[1],[0]])\n",
    "in_n = 3#3개입력 층\n",
    "h_n = 6 #은닉층\n",
    "out_n = 1# 출력 층\n",
    "np.random.seed(5)\n",
    "# 초기값\n",
    "w0 = 2*np.random.random((in_n,h_n))-1 #0\n",
    "w1 = 2*np.random.random((h_n,out_n))-1\n",
    "X.shape , w0.shape, X.dot(w0).shape,w1.shape,X.dot(w0).dot(w1).shape #4 개의 값 3개의 입력정보"
   ]
  },
  {
   "cell_type": "code",
   "execution_count": 14,
   "id": "42560f26",
   "metadata": {},
   "outputs": [
    {
     "data": {
      "text/plain": [
       "((4, 1), (1, 6), (4, 6))"
      ]
     },
     "execution_count": 14,
     "metadata": {},
     "output_type": "execute_result"
    }
   ],
   "source": [
    "end=X.dot(w0).dot(w1)\n",
    "(end-y).shape,w1.T.shape,(end-y).dot(w1.T).shape"
   ]
  },
  {
   "cell_type": "code",
   "execution_count": 13,
   "id": "c01d4122",
   "metadata": {},
   "outputs": [
    {
     "data": {
      "text/plain": [
       "array([[0],\n",
       "       [1],\n",
       "       [1],\n",
       "       [0]])"
      ]
     },
     "execution_count": 13,
     "metadata": {},
     "output_type": "execute_result"
    }
   ],
   "source": [
    "y"
   ]
  },
  {
   "cell_type": "code",
   "execution_count": null,
   "id": "21b87a00",
   "metadata": {},
   "outputs": [],
   "source": []
  }
 ],
 "metadata": {
  "kernelspec": {
   "display_name": "Python 3 (ipykernel)",
   "language": "python",
   "name": "python3"
  },
  "language_info": {
   "codemirror_mode": {
    "name": "ipython",
    "version": 3
   },
   "file_extension": ".py",
   "mimetype": "text/x-python",
   "name": "python",
   "nbconvert_exporter": "python",
   "pygments_lexer": "ipython3",
   "version": "3.9.7"
  }
 },
 "nbformat": 4,
 "nbformat_minor": 5
}
