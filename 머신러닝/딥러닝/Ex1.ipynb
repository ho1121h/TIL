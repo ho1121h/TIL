{
 "cells": [
  {
   "cell_type": "code",
   "execution_count": 1,
   "id": "6aabc92d",
   "metadata": {},
   "outputs": [
    {
     "data": {
      "text/plain": [
       "array([0, 0, 0, 1])"
      ]
     },
     "execution_count": 1,
     "metadata": {},
     "output_type": "execute_result"
    }
   ],
   "source": [
    "from sklearn.linear_model import Perceptron #신경망 퍼셉트론 클래스\n",
    "X = [[0,0],[0,1],[1,0],[1,1]]\n",
    "y = [0,0,0,1]\n",
    "p = Perceptron(tol=1e-3,random_state= 10)#종료값 매개변수 설정\n",
    "p.fit(X,y)\n",
    "p.predict(X)"
   ]
  },
  {
   "cell_type": "code",
   "execution_count": 2,
   "id": "9ddada26",
   "metadata": {},
   "outputs": [],
   "source": [
    "#뉴런 만들어보기 ^^ y=wx - b\n",
    "#뉴런의 계단함수 = 활성함수\n",
    "def n_f(in_data):\n",
    "    global w #가중치\n",
    "    global b #임계값\n",
    "    at_f = b# 액티베이션 함수\n",
    "    for i in range(2):\n",
    "        at_f +=w[i]*in_data[i]\n",
    "    if at_f >=0.0:# 함수값이 0이상이면 \n",
    "        return 1#참반환\n",
    "    else:\n",
    "        return 0#거짓반환"
   ]
  },
  {
   "cell_type": "code",
   "execution_count": null,
   "id": "d2a835c0",
   "metadata": {},
   "outputs": [],
   "source": []
  },
  {
   "cell_type": "code",
   "execution_count": 22,
   "id": "d7ede5c5",
   "metadata": {},
   "outputs": [
    {
     "data": {
      "text/plain": [
       "(1, 1, 1, 1)"
      ]
     },
     "execution_count": 22,
     "metadata": {},
     "output_type": "execute_result"
    }
   ],
   "source": [
    "X = [[0,0],[0,1],[1,0],[1,1]]\n",
    "y = [0,0,0,1]\n",
    "w =[0.0,0.0]#가중치\n",
    "b = 0.0 #임계값, 절편이기도하고 w0이기도함\n",
    "n_f(X[0]),n_f(X[1]),n_f(X[2]),n_f(X[3])"
   ]
  },
  {
   "cell_type": "code",
   "execution_count": 23,
   "id": "306c4cbd",
   "metadata": {},
   "outputs": [
    {
     "name": "stdout",
     "output_type": "stream",
     "text": [
      "[0.0, 0.0] -0.1\n",
      "[0.0, 0.1] 0.0\n",
      "[0.0, 0.1] 0.0\n",
      "[0.0, 0.1] 0.0\n",
      "에포크 = 0, 학습률 = 0.1, 에러 = 0\n",
      "[0.0, 0.1] -0.1\n",
      "[0.0, 0.1] -0.1\n",
      "[0.1, 0.1] 0.0\n",
      "[0.1, 0.1] 0.0\n",
      "에포크 = 1, 학습률 = 0.1, 에러 = 0\n",
      "[0.1, 0.1] -0.1\n",
      "[0.1, 0.1] -0.1\n",
      "[0.1, 0.1] -0.1\n",
      "[0.1, 0.1] -0.1\n",
      "에포크 = 2, 학습률 = 0.1, 에러 = 0\n",
      "[0.1, 0.1] -0.1\n",
      "[0.1, 0.1] -0.1\n",
      "[0.1, 0.1] -0.1\n",
      "[0.1, 0.1] -0.1\n",
      "에포크 = 3, 학습률 = 0.1, 에러 = 0\n",
      "[0.1, 0.1] -0.1\n",
      "[0.1, 0.1] -0.1\n",
      "[0.1, 0.1] -0.1\n",
      "[0.1, 0.1] -0.1\n",
      "에포크 = 4, 학습률 = 0.1, 에러 = 0\n"
     ]
    }
   ],
   "source": [
    "def t_f(X,y,l_r,epch):\n",
    "    global w\n",
    "    global b\n",
    "    for en in range(epch):\n",
    "        sum_e = 0.0\n",
    "        for r,t in zip(X,y):\n",
    "            at = n_f(r)#예측값\n",
    "            err = t - at #오차 정답값에 오차값을 빼다\n",
    "            b = b+l_r*err # 임계값갱신/\n",
    "            sum_e += err**2\n",
    "            for i in range(2): #가중치 2개\n",
    "                w[i] = w[i]+l_r*err*r[i]# 오차값은 가중치값으로 갱신\n",
    "            print(w,b)\n",
    "        print(f'에포크 = {en}, 학습률 = {l_r}, 에러 = {err}')\n",
    "    return w\n",
    "#data 준비\n",
    "X = [[0,0],[0,1],[1,0],[1,1]]\n",
    "y = [0,1,1,1]\n",
    "w =[0.0,0.0]#가중치\n",
    "b = 0.0 #임계값, 절편이기도하고 w0이기도함\n",
    "l_r=0.1 #학습률\n",
    "e = 5 #반복수\n",
    "w = t_f(X,y,l_r,e)"
   ]
  },
  {
   "cell_type": "code",
   "execution_count": 24,
   "id": "b64cba1c",
   "metadata": {},
   "outputs": [
    {
     "data": {
      "text/plain": [
       "(0, 1, 1, 1)"
      ]
     },
     "execution_count": 24,
     "metadata": {},
     "output_type": "execute_result"
    }
   ],
   "source": [
    "#y= w0x0 + w1x1 + b\n",
    "# y = 0.2x0 + 0.1(w1값)x1 +0.20000000000004(임계값)\n",
    "n_f(X[0]),n_f(X[1]),n_f(X[2]),n_f(X[3])"
   ]
  },
  {
   "cell_type": "code",
   "execution_count": 12,
   "id": "0f3d4925",
   "metadata": {},
   "outputs": [],
   "source": [
    "X = [[0,0],[0,1],[1,0],[1,1]]"
   ]
  },
  {
   "cell_type": "code",
   "execution_count": 17,
   "id": "3dad1a49",
   "metadata": {},
   "outputs": [],
   "source": [
    "#앤드연산\n",
    "def AND(X):\n",
    "    and_w = [0.2,0.1]\n",
    "    and_b = -0.20000000000000004\n",
    "    at_f=and_b\n",
    "    for i in range(2):\n",
    "        at_f +=and_w[i]*X[i]\n",
    "    if at_f >=0.0:# 함수값이 0이상이면 \n",
    "        return 1#참반환\n",
    "    else:\n",
    "        return 0"
   ]
  },
  {
   "cell_type": "code",
   "execution_count": 18,
   "id": "f753106e",
   "metadata": {},
   "outputs": [],
   "source": [
    "def OR(X):\n",
    "    or_w = [0.1,0.1]\n",
    "    or_b = -0.1\n",
    "    at_f=or_b\n",
    "    for i in range(2):\n",
    "        at_f +=or_w[i]*X[i]\n",
    "    if at_f >=0.0:# 함수값이 0이상이면 \n",
    "        return 1#참반환\n",
    "    else:\n",
    "        return 0"
   ]
  },
  {
   "cell_type": "code",
   "execution_count": 19,
   "id": "31263e87",
   "metadata": {},
   "outputs": [
    {
     "data": {
      "text/plain": [
       "(0, 0, 0, 1)"
      ]
     },
     "execution_count": 19,
     "metadata": {},
     "output_type": "execute_result"
    }
   ],
   "source": [
    "AND(X[0]),AND(X[1]),AND(X[2]),AND(X[3])"
   ]
  },
  {
   "cell_type": "code",
   "execution_count": 21,
   "id": "973f1d8d",
   "metadata": {},
   "outputs": [
    {
     "data": {
      "text/plain": [
       "(0, 1, 1, 1)"
      ]
     },
     "execution_count": 21,
     "metadata": {},
     "output_type": "execute_result"
    }
   ],
   "source": [
    "OR(X[0]),OR(X[1]),OR(X[2]),OR(X[3])"
   ]
  },
  {
   "cell_type": "code",
   "execution_count": 25,
   "id": "9098c0ca",
   "metadata": {},
   "outputs": [
    {
     "data": {
      "text/plain": [
       "(0, 1, 1, 0)"
      ]
     },
     "execution_count": 25,
     "metadata": {},
     "output_type": "execute_result"
    }
   ],
   "source": [
    "def XOR(X):\n",
    "    o_1 =  not AND(X)\n",
    "    o_2 = OR(X)\n",
    "    return AND([o_1,o_2])\n",
    "\n",
    "XOR(X[0]),XOR(X[1]),XOR(X[2]),XOR(X[3])"
   ]
  },
  {
   "cell_type": "code",
   "execution_count": null,
   "id": "6dc75826",
   "metadata": {},
   "outputs": [],
   "source": []
  }
 ],
 "metadata": {
  "kernelspec": {
   "display_name": "Python 3 (ipykernel)",
   "language": "python",
   "name": "python3"
  },
  "language_info": {
   "codemirror_mode": {
    "name": "ipython",
    "version": 3
   },
   "file_extension": ".py",
   "mimetype": "text/x-python",
   "name": "python",
   "nbconvert_exporter": "python",
   "pygments_lexer": "ipython3",
   "version": "3.9.7"
  }
 },
 "nbformat": 4,
 "nbformat_minor": 5
}
