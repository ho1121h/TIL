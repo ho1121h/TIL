{
 "cells": [
  {
   "cell_type": "code",
   "execution_count": 24,
   "id": "78f054fc",
   "metadata": {},
   "outputs": [
    {
     "data": {
      "text/plain": [
       "(8,)"
      ]
     },
     "execution_count": 24,
     "metadata": {},
     "output_type": "execute_result"
    }
   ],
   "source": [
    "from sklearn.datasets import fetch_california_housing\n",
    "from sklearn.model_selection import train_test_split\n",
    "from sklearn.preprocessing import StandardScaler\n",
    "import tensorflow as tf\n",
    "from tensorflow import keras\n",
    "import numpy as np\n",
    "import matplotlib.pyplot as plt\n",
    "import pandas as pd\n",
    "np.random.seed(42)\n",
    "tf.random.set_seed(42)#가져올 데이터가 고정\n",
    "\n",
    "data = fetch_california_housing()\n",
    "in_data = StandardScaler().fit_transform(data.data)\n",
    "x_data, tt_x, y_data, tt_y =train_test_split(in_data,data.target ,random_state=42)\n",
    "#x_data, tt_x, y_data, tt_y =train_test_split(data.data,data.target ,random_state=42)\n",
    "t_x, v_x,t_y,v_y = train_test_split(x_data,y_data, random_state= 42, test_size= 0.2)\n",
    "'''\n",
    "s = StandardScaler()\n",
    "#데이터 3개 검증\n",
    "t_x = s.fit_transform(t_x)\n",
    "tt_x = s.fit_transform(tt_x)\n",
    "v_x = s.fit_transform(v_x)'''\n",
    "\n",
    "t_x.shape[1:]# 입력 data의 차원의 형상"
   ]
  },
  {
   "cell_type": "code",
   "execution_count": 9,
   "id": "81d1a9c6",
   "metadata": {},
   "outputs": [
    {
     "name": "stdout",
     "output_type": "stream",
     "text": [
      "Model: \"sequential_1\"\n",
      "_________________________________________________________________\n",
      " Layer (type)                Output Shape              Param #   \n",
      "=================================================================\n",
      " flatten_1 (Flatten)         (None, 8)                 0         \n",
      "                                                                 \n",
      " dense_2 (Dense)             (None, 30)                270       \n",
      "                                                                 \n",
      " dense_3 (Dense)             (None, 1)                 31        \n",
      "                                                                 \n",
      "=================================================================\n",
      "Total params: 301\n",
      "Trainable params: 301\n",
      "Non-trainable params: 0\n",
      "_________________________________________________________________\n"
     ]
    }
   ],
   "source": [
    "m = keras.models.Sequential()\n",
    "m.add(keras.layers.Flatten(input_shape=t_x.shape[1:]))\n",
    "m.add(keras.layers.Dense(30,activation='relu'))\n",
    "m.add(keras.layers.Dense(1))\n",
    "m.summary()"
   ]
  },
  {
   "cell_type": "code",
   "execution_count": 14,
   "id": "67c903c8",
   "metadata": {},
   "outputs": [
    {
     "data": {
      "image/png": "[encoded data removed]",
      "text/plain": [
       "<IPython.core.display.Image object>"
      ]
     },
     "execution_count": 14,
     "metadata": {},
     "output_type": "execute_result"
    }
   ],
   "source": [
    "keras.utils.plot_model(m,'m.png')"
   ]
  },
  {
   "cell_type": "code",
   "execution_count": 15,
   "id": "9e617189",
   "metadata": {},
   "outputs": [
    {
     "data": {
      "image/png": "[encoded data removed]",
      "text/plain": [
       "<IPython.core.display.Image object>"
      ]
     },
     "execution_count": 15,
     "metadata": {},
     "output_type": "execute_result"
    }
   ],
   "source": [
    "keras.utils.plot_model(m,\"m.png\",show_shapes=True)\n"
   ]
  },
  {
   "cell_type": "code",
   "execution_count": 21,
   "id": "afe185ec",
   "metadata": {},
   "outputs": [
    {
     "name": "stdout",
     "output_type": "stream",
     "text": [
      "Epoch 1/20\n",
      "387/387 [==============================] - 1s 1ms/step - loss: 0.4683 - accuracy: 0.0033 - val_loss: 0.4424 - val_accuracy: 0.0032\n",
      "Epoch 2/20\n",
      "387/387 [==============================] - 0s 827us/step - loss: 0.4660 - accuracy: 0.0033 - val_loss: 0.4394 - val_accuracy: 0.0032\n",
      "Epoch 3/20\n",
      "387/387 [==============================] - 0s 1ms/step - loss: 0.4629 - accuracy: 0.0033 - val_loss: 0.4375 - val_accuracy: 0.0032\n",
      "Epoch 4/20\n",
      "387/387 [==============================] - 0s 992us/step - loss: 0.4607 - accuracy: 0.0033 - val_loss: 0.4357 - val_accuracy: 0.0032\n",
      "Epoch 5/20\n",
      "387/387 [==============================] - 0s 941us/step - loss: 0.4584 - accuracy: 0.0033 - val_loss: 0.4329 - val_accuracy: 0.0032\n",
      "Epoch 6/20\n",
      "387/387 [==============================] - 0s 850us/step - loss: 0.4568 - accuracy: 0.0033 - val_loss: 0.4314 - val_accuracy: 0.0032\n",
      "Epoch 7/20\n",
      "387/387 [==============================] - 0s 899us/step - loss: 0.4543 - accuracy: 0.0033 - val_loss: 0.4301 - val_accuracy: 0.0032\n",
      "Epoch 8/20\n",
      "387/387 [==============================] - 0s 832us/step - loss: 0.4530 - accuracy: 0.0033 - val_loss: 0.4281 - val_accuracy: 0.0032\n",
      "Epoch 9/20\n",
      "387/387 [==============================] - 0s 857us/step - loss: 0.4510 - accuracy: 0.0033 - val_loss: 0.4266 - val_accuracy: 0.0032\n",
      "Epoch 10/20\n",
      "387/387 [==============================] - 0s 896us/step - loss: 0.4494 - accuracy: 0.0033 - val_loss: 0.4252 - val_accuracy: 0.0032\n",
      "Epoch 11/20\n",
      "387/387 [==============================] - 0s 961us/step - loss: 0.4481 - accuracy: 0.0033 - val_loss: 0.4239 - val_accuracy: 0.0032\n",
      "Epoch 12/20\n",
      "387/387 [==============================] - 0s 912us/step - loss: 0.4463 - accuracy: 0.0033 - val_loss: 0.4226 - val_accuracy: 0.0032\n",
      "Epoch 13/20\n",
      "387/387 [==============================] - 0s 873us/step - loss: 0.4454 - accuracy: 0.0033 - val_loss: 0.4210 - val_accuracy: 0.0032\n",
      "Epoch 14/20\n",
      "387/387 [==============================] - 0s 902us/step - loss: 0.4441 - accuracy: 0.0033 - val_loss: 0.4198 - val_accuracy: 0.0032\n",
      "Epoch 15/20\n",
      "387/387 [==============================] - 0s 855us/step - loss: 0.4421 - accuracy: 0.0033 - val_loss: 0.4187 - val_accuracy: 0.0032\n",
      "Epoch 16/20\n",
      "387/387 [==============================] - 0s 873us/step - loss: 0.4408 - accuracy: 0.0033 - val_loss: 0.4175 - val_accuracy: 0.0032\n",
      "Epoch 17/20\n",
      "387/387 [==============================] - 0s 1ms/step - loss: 0.4397 - accuracy: 0.0033 - val_loss: 0.4159 - val_accuracy: 0.0032\n",
      "Epoch 18/20\n",
      "387/387 [==============================] - 0s 1ms/step - loss: 0.4387 - accuracy: 0.0033 - val_loss: 0.4159 - val_accuracy: 0.0032\n",
      "Epoch 19/20\n",
      "387/387 [==============================] - 0s 940us/step - loss: 0.4375 - accuracy: 0.0033 - val_loss: 0.4146 - val_accuracy: 0.0032\n",
      "Epoch 20/20\n",
      "387/387 [==============================] - 0s 888us/step - loss: 0.4364 - accuracy: 0.0033 - val_loss: 0.4133 - val_accuracy: 0.0032\n",
      "162/162 [==============================] - 0s 621us/step - loss: 0.4403 - accuracy: 0.0021\n"
     ]
    }
   ],
   "source": [
    "m.compile(optimizer=keras.optimizers.SGD(learning_rate=1e-3),loss='mean_squared_error',metrics='accuracy')\n",
    "hy=m.fit(t_x,t_y,validation_data=(v_x,v_y),epochs = 20)\n",
    "t_hy = m.evaluate(tt_x,tt_y)"
   ]
  },
  {
   "cell_type": "code",
   "execution_count": 22,
   "id": "7f0e1bfe",
   "metadata": {},
   "outputs": [
    {
     "data": {
      "text/plain": [
       "[<matplotlib.lines.Line2D at 0x1d26ce57fd0>,\n",
       " <matplotlib.lines.Line2D at 0x1d26ce579a0>,\n",
       " <matplotlib.lines.Line2D at 0x1d26ce573d0>,\n",
       " <matplotlib.lines.Line2D at 0x1d26ce57c10>]"
      ]
     },
     "execution_count": 22,
     "metadata": {},
     "output_type": "execute_result"
    },
    {
     "data": {
      "image/png": "[encoded data removed]",
      "text/plain": [
       "<Figure size 432x288 with 1 Axes>"
      ]
     },
     "metadata": {
      "needs_background": "light"
     },
     "output_type": "display_data"
    }
   ],
   "source": [
    "plt.plot(pd.DataFrame(hy.history))"
   ]
  },
  {
   "cell_type": "code",
   "execution_count": 20,
   "id": "60cfbb2a",
   "metadata": {},
   "outputs": [
    {
     "data": {
      "text/plain": [
       "array([0.477  , 0.458  , 5.00001])"
      ]
     },
     "execution_count": 20,
     "metadata": {},
     "output_type": "execute_result"
    }
   ],
   "source": [
    "tt_y[:3]"
   ]
  },
  {
   "cell_type": "code",
   "execution_count": 19,
   "id": "f79cf241",
   "metadata": {},
   "outputs": [
    {
     "data": {
      "text/plain": [
       "array([[0.68847674],\n",
       "       [1.4980192 ],\n",
       "       [2.9209414 ]], dtype=float32)"
      ]
     },
     "execution_count": 19,
     "metadata": {},
     "output_type": "execute_result"
    }
   ],
   "source": [
    "m.predict(tt_x[:3])"
   ]
  },
  {
   "cell_type": "code",
   "execution_count": null,
   "id": "d1196413",
   "metadata": {},
   "outputs": [],
   "source": []
  }
 ],
 "metadata": {
  "kernelspec": {
   "display_name": "Python 3 (ipykernel)",
   "language": "python",
   "name": "python3"
  },
  "language_info": {
   "codemirror_mode": {
    "name": "ipython",
    "version": 3
   },
   "file_extension": ".py",
   "mimetype": "text/x-python",
   "name": "python",
   "nbconvert_exporter": "python",
   "pygments_lexer": "ipython3",
   "version": "3.9.7"
  }
 },
 "nbformat": 4,
 "nbformat_minor": 5
}
