{
 "cells": [
  {
   "cell_type": "code",
   "execution_count": 1,
   "id": "d660fc70",
   "metadata": {},
   "outputs": [],
   "source": [
    "#외부 모듈 수집\n",
    "import tensorflow as tf\n",
    "from tensorflow import keras\n",
    "import numpy as np\n",
    "import pandas as pd\n",
    "import matplotlib.pyplot as plt\n",
    "(t_x,t_y),(tt_x,tt_y) = keras.datasets.fashion_mnist.load_data()\n",
    "s_t_x = t_x/255.0\n",
    "s_tt_x=tt_x/255.0\n",
    "from sklearn.model_selection import train_test_split\n",
    "t_x, v_x, t_y, v_y = train_test_split(s_t_x,t_y ,test_size=0.2, random_state=42)"
   ]
  },
  {
   "cell_type": "code",
   "execution_count": 2,
   "id": "7057122f",
   "metadata": {},
   "outputs": [],
   "source": [
    "m=keras.Sequential()\n",
    "m.add(keras.layers.Flatten(input_shape=t_x.shape[1:]))#784\n",
    "m.add(keras.layers.Dense(100,activation='relu'))#100\n",
    "m.add(keras.layers.Dense(300,activation='relu'))#300\n",
    "m.add(keras.layers.Dense(10,activation='softmax'))\n",
    "m.compile(optimizer='sgd',loss='sparse_categorical_crossentropy',metrics='accuracy')"
   ]
  },
  {
   "cell_type": "code",
   "execution_count": 3,
   "id": "9ea7ab47",
   "metadata": {},
   "outputs": [
    {
     "name": "stdout",
     "output_type": "stream",
     "text": [
      "Epoch 1/20\n",
      "1500/1500 [==============================] - 3s 2ms/step - loss: 0.8134 - accuracy: 0.7345 - val_loss: 0.5785 - val_accuracy: 0.8004\n",
      "Epoch 2/20\n",
      "1500/1500 [==============================] - 2s 2ms/step - loss: 0.5231 - accuracy: 0.8184 - val_loss: 0.4935 - val_accuracy: 0.8294\n",
      "Epoch 3/20\n",
      "1500/1500 [==============================] - 2s 2ms/step - loss: 0.4707 - accuracy: 0.8347 - val_loss: 0.4850 - val_accuracy: 0.8306\n",
      "Epoch 4/20\n",
      "1500/1500 [==============================] - 2s 2ms/step - loss: 0.4417 - accuracy: 0.8443 - val_loss: 0.4312 - val_accuracy: 0.8470\n",
      "Epoch 5/20\n",
      "1500/1500 [==============================] - 2s 2ms/step - loss: 0.4210 - accuracy: 0.8522 - val_loss: 0.4386 - val_accuracy: 0.8484\n",
      "Epoch 6/20\n",
      "1500/1500 [==============================] - 2s 1ms/step - loss: 0.4029 - accuracy: 0.8582 - val_loss: 0.4020 - val_accuracy: 0.8594\n",
      "Epoch 7/20\n",
      "1500/1500 [==============================] - 2s 1ms/step - loss: 0.3884 - accuracy: 0.8631 - val_loss: 0.3908 - val_accuracy: 0.8639\n",
      "Epoch 8/20\n",
      "1500/1500 [==============================] - 2s 1ms/step - loss: 0.3761 - accuracy: 0.8676 - val_loss: 0.3873 - val_accuracy: 0.8633\n",
      "Epoch 9/20\n",
      "1500/1500 [==============================] - 2s 1ms/step - loss: 0.3653 - accuracy: 0.8700 - val_loss: 0.3839 - val_accuracy: 0.8652\n",
      "Epoch 10/20\n",
      "1500/1500 [==============================] - 2s 1ms/step - loss: 0.3555 - accuracy: 0.8734 - val_loss: 0.3858 - val_accuracy: 0.8608\n",
      "Epoch 11/20\n",
      "1500/1500 [==============================] - 2s 1ms/step - loss: 0.3478 - accuracy: 0.8749 - val_loss: 0.3752 - val_accuracy: 0.8662\n",
      "Epoch 12/20\n",
      "1500/1500 [==============================] - 2s 1ms/step - loss: 0.3390 - accuracy: 0.8783 - val_loss: 0.3709 - val_accuracy: 0.8679\n",
      "Epoch 13/20\n",
      "1500/1500 [==============================] - 2s 1ms/step - loss: 0.3322 - accuracy: 0.8807 - val_loss: 0.3529 - val_accuracy: 0.8735\n",
      "Epoch 14/20\n",
      "1500/1500 [==============================] - 2s 1ms/step - loss: 0.3252 - accuracy: 0.8823 - val_loss: 0.3574 - val_accuracy: 0.8716\n",
      "Epoch 15/20\n",
      "1500/1500 [==============================] - 2s 1ms/step - loss: 0.3188 - accuracy: 0.8854 - val_loss: 0.3758 - val_accuracy: 0.8653\n",
      "Epoch 16/20\n",
      "1500/1500 [==============================] - 2s 1ms/step - loss: 0.3139 - accuracy: 0.8867 - val_loss: 0.3478 - val_accuracy: 0.8741\n",
      "Epoch 17/20\n",
      "1500/1500 [==============================] - 2s 1ms/step - loss: 0.3083 - accuracy: 0.8887 - val_loss: 0.3476 - val_accuracy: 0.8757\n",
      "Epoch 18/20\n",
      "1500/1500 [==============================] - 2s 2ms/step - loss: 0.3030 - accuracy: 0.8909 - val_loss: 0.3455 - val_accuracy: 0.8769\n",
      "Epoch 19/20\n",
      "1500/1500 [==============================] - 2s 1ms/step - loss: 0.2974 - accuracy: 0.8930 - val_loss: 0.3324 - val_accuracy: 0.8794\n",
      "Epoch 20/20\n",
      "1500/1500 [==============================] - 2s 2ms/step - loss: 0.2929 - accuracy: 0.8950 - val_loss: 0.3382 - val_accuracy: 0.8765\n"
     ]
    }
   ],
   "source": [
    "hy = m.fit(t_x,t_y,validation_data=(v_x,v_y),epochs = 20)\n"
   ]
  },
  {
   "cell_type": "code",
   "execution_count": 4,
   "id": "70546076",
   "metadata": {},
   "outputs": [
    {
     "data": {
      "text/plain": [
       "[<matplotlib.lines.Line2D at 0x2209fca1c70>]"
      ]
     },
     "execution_count": 4,
     "metadata": {},
     "output_type": "execute_result"
    },
    {
     "data": {
      "image/png": "[encoded data removed]",
      "text/plain": [
       "<Figure size 432x288 with 1 Axes>"
      ]
     },
     "metadata": {
      "needs_background": "light"
     },
     "output_type": "display_data"
    }
   ],
   "source": [
    "plt.plot(hy.history['loss'])\n",
    "plt.plot(hy.history['val_loss'])"
   ]
  },
  {
   "cell_type": "code",
   "execution_count": 7,
   "id": "630e1ed7",
   "metadata": {
    "scrolled": true
   },
   "outputs": [
    {
     "name": "stdout",
     "output_type": "stream",
     "text": [
      "Epoch 1/20\n",
      "1500/1500 [==============================] - 3s 2ms/step - loss: 0.5080 - accuracy: 0.8169 - val_loss: 0.4197 - val_accuracy: 0.8479\n",
      "Epoch 2/20\n",
      "1500/1500 [==============================] - 2s 1ms/step - loss: 0.3737 - accuracy: 0.8627 - val_loss: 0.3935 - val_accuracy: 0.8571\n",
      "Epoch 3/20\n",
      "1500/1500 [==============================] - 2s 1ms/step - loss: 0.3368 - accuracy: 0.8750 - val_loss: 0.3675 - val_accuracy: 0.8668\n",
      "Epoch 4/20\n",
      "1500/1500 [==============================] - 2s 1ms/step - loss: 0.3112 - accuracy: 0.8838 - val_loss: 0.3431 - val_accuracy: 0.8783\n",
      "Epoch 5/20\n",
      "1500/1500 [==============================] - 2s 1ms/step - loss: 0.2920 - accuracy: 0.8918 - val_loss: 0.3656 - val_accuracy: 0.8686\n",
      "Epoch 6/20\n",
      "1500/1500 [==============================] - 2s 1ms/step - loss: 0.2772 - accuracy: 0.8964 - val_loss: 0.3485 - val_accuracy: 0.8744\n",
      "Epoch 7/20\n",
      "1500/1500 [==============================] - 2s 2ms/step - loss: 0.2640 - accuracy: 0.9011 - val_loss: 0.3425 - val_accuracy: 0.8779\n",
      "Epoch 8/20\n",
      "1500/1500 [==============================] - 2s 2ms/step - loss: 0.2547 - accuracy: 0.9043 - val_loss: 0.3321 - val_accuracy: 0.8869\n",
      "Epoch 9/20\n",
      "1500/1500 [==============================] - 2s 2ms/step - loss: 0.2391 - accuracy: 0.9091 - val_loss: 0.3413 - val_accuracy: 0.8847\n",
      "Epoch 10/20\n",
      "1500/1500 [==============================] - 2s 2ms/step - loss: 0.2326 - accuracy: 0.9125 - val_loss: 0.3184 - val_accuracy: 0.8885\n",
      "Epoch 11/20\n",
      "1500/1500 [==============================] - 2s 2ms/step - loss: 0.2217 - accuracy: 0.9154 - val_loss: 0.3263 - val_accuracy: 0.8892\n",
      "Epoch 12/20\n",
      "1500/1500 [==============================] - 2s 1ms/step - loss: 0.2144 - accuracy: 0.9179 - val_loss: 0.3307 - val_accuracy: 0.8873\n",
      "Epoch 13/20\n",
      "1500/1500 [==============================] - 2s 1ms/step - loss: 0.2085 - accuracy: 0.9205 - val_loss: 0.3314 - val_accuracy: 0.8947\n",
      "Epoch 14/20\n",
      "1500/1500 [==============================] - 2s 1ms/step - loss: 0.1982 - accuracy: 0.9240 - val_loss: 0.3520 - val_accuracy: 0.8889\n",
      "Epoch 15/20\n",
      "1500/1500 [==============================] - 2s 1ms/step - loss: 0.1935 - accuracy: 0.9260 - val_loss: 0.3481 - val_accuracy: 0.8880\n",
      "Epoch 16/20\n",
      "1500/1500 [==============================] - 2s 2ms/step - loss: 0.1867 - accuracy: 0.9290 - val_loss: 0.3560 - val_accuracy: 0.8905\n",
      "Epoch 17/20\n",
      "1500/1500 [==============================] - 2s 2ms/step - loss: 0.1781 - accuracy: 0.9320 - val_loss: 0.3569 - val_accuracy: 0.8931\n",
      "Epoch 18/20\n",
      "1500/1500 [==============================] - 2s 1ms/step - loss: 0.1740 - accuracy: 0.9336 - val_loss: 0.3859 - val_accuracy: 0.8867\n",
      "Epoch 19/20\n",
      "1500/1500 [==============================] - 2s 1ms/step - loss: 0.1682 - accuracy: 0.9356 - val_loss: 0.3750 - val_accuracy: 0.8911\n",
      "Epoch 20/20\n",
      "1500/1500 [==============================] - 2s 2ms/step - loss: 0.1629 - accuracy: 0.9371 - val_loss: 0.3864 - val_accuracy: 0.8929\n"
     ]
    },
    {
     "data": {
      "text/plain": [
       "[<matplotlib.lines.Line2D at 0x220a115f280>]"
      ]
     },
     "execution_count": 7,
     "metadata": {},
     "output_type": "execute_result"
    },
    {
     "data": {
      "image/png": "[encoded data removed]",
      "text/plain": [
       "<Figure size 432x288 with 1 Axes>"
      ]
     },
     "metadata": {
      "needs_background": "light"
     },
     "output_type": "display_data"
    }
   ],
   "source": [
    "m1=keras.Sequential()\n",
    "m1.add(keras.layers.Flatten(input_shape=t_x.shape[1:]))#784\n",
    "m1.add(keras.layers.Dense(100,activation='relu'))#100\n",
    "m1.add(keras.layers.Dense(300,activation='relu'))#300\n",
    "m1.add(keras.layers.Dense(10,activation='softmax'))\n",
    "m1.compile(optimizer='adam',loss='sparse_categorical_crossentropy',metrics='accuracy')\n",
    "hy = m1.fit(t_x,t_y,validation_data=(v_x,v_y),epochs = 20)\n",
    "plt.plot(hy.history['loss'])\n",
    "plt.plot(hy.history['val_loss'])"
   ]
  },
  {
   "cell_type": "code",
   "execution_count": 8,
   "id": "8bc718c2",
   "metadata": {},
   "outputs": [
    {
     "name": "stdout",
     "output_type": "stream",
     "text": [
      "Epoch 1/20\n",
      "1500/1500 [==============================] - 3s 2ms/step - loss: 0.5743 - accuracy: 0.7912 - val_loss: 0.4168 - val_accuracy: 0.8487\n",
      "Epoch 2/20\n",
      "1500/1500 [==============================] - 2s 2ms/step - loss: 0.4387 - accuracy: 0.8394 - val_loss: 0.3866 - val_accuracy: 0.8576\n",
      "Epoch 3/20\n",
      "1500/1500 [==============================] - 2s 2ms/step - loss: 0.4014 - accuracy: 0.8510 - val_loss: 0.3748 - val_accuracy: 0.8622\n",
      "Epoch 4/20\n",
      "1500/1500 [==============================] - 3s 2ms/step - loss: 0.3835 - accuracy: 0.8566 - val_loss: 0.3550 - val_accuracy: 0.8687\n",
      "Epoch 5/20\n",
      "1500/1500 [==============================] - 3s 2ms/step - loss: 0.3691 - accuracy: 0.8622 - val_loss: 0.3409 - val_accuracy: 0.8776\n",
      "Epoch 6/20\n",
      "1500/1500 [==============================] - 2s 2ms/step - loss: 0.3544 - accuracy: 0.8685 - val_loss: 0.3614 - val_accuracy: 0.8653\n",
      "Epoch 7/20\n",
      "1500/1500 [==============================] - 2s 2ms/step - loss: 0.3429 - accuracy: 0.8722 - val_loss: 0.3326 - val_accuracy: 0.8795\n",
      "Epoch 8/20\n",
      "1500/1500 [==============================] - 2s 2ms/step - loss: 0.3358 - accuracy: 0.8747 - val_loss: 0.3283 - val_accuracy: 0.8784\n",
      "Epoch 9/20\n",
      "1500/1500 [==============================] - 3s 2ms/step - loss: 0.3290 - accuracy: 0.8774 - val_loss: 0.3385 - val_accuracy: 0.8765\n",
      "Epoch 10/20\n",
      "1500/1500 [==============================] - 2s 2ms/step - loss: 0.3225 - accuracy: 0.8798 - val_loss: 0.3258 - val_accuracy: 0.8825\n",
      "Epoch 11/20\n",
      "1500/1500 [==============================] - 3s 2ms/step - loss: 0.3163 - accuracy: 0.8811 - val_loss: 0.3217 - val_accuracy: 0.8801\n",
      "Epoch 12/20\n",
      "1500/1500 [==============================] - 2s 2ms/step - loss: 0.3097 - accuracy: 0.8830 - val_loss: 0.3348 - val_accuracy: 0.8798\n",
      "Epoch 13/20\n",
      "1500/1500 [==============================] - 2s 2ms/step - loss: 0.3031 - accuracy: 0.8862 - val_loss: 0.3179 - val_accuracy: 0.8857\n",
      "Epoch 14/20\n",
      "1500/1500 [==============================] - 2s 2ms/step - loss: 0.3027 - accuracy: 0.8870 - val_loss: 0.3207 - val_accuracy: 0.8831\n",
      "Epoch 15/20\n",
      "1500/1500 [==============================] - 2s 2ms/step - loss: 0.2972 - accuracy: 0.8881 - val_loss: 0.3189 - val_accuracy: 0.8857\n",
      "Epoch 16/20\n",
      "1500/1500 [==============================] - 2s 2ms/step - loss: 0.2930 - accuracy: 0.8910 - val_loss: 0.3204 - val_accuracy: 0.8857\n",
      "Epoch 17/20\n",
      "1500/1500 [==============================] - 2s 2ms/step - loss: 0.2893 - accuracy: 0.8914 - val_loss: 0.3092 - val_accuracy: 0.8866\n",
      "Epoch 18/20\n",
      "1500/1500 [==============================] - 3s 2ms/step - loss: 0.2868 - accuracy: 0.8926 - val_loss: 0.3201 - val_accuracy: 0.8833\n",
      "Epoch 19/20\n",
      "1500/1500 [==============================] - 3s 2ms/step - loss: 0.2832 - accuracy: 0.8941 - val_loss: 0.3075 - val_accuracy: 0.8893\n",
      "Epoch 20/20\n",
      "1500/1500 [==============================] - 3s 2ms/step - loss: 0.2779 - accuracy: 0.8949 - val_loss: 0.3047 - val_accuracy: 0.8892\n"
     ]
    },
    {
     "data": {
      "text/plain": [
       "[<matplotlib.lines.Line2D at 0x220d564bdc0>]"
      ]
     },
     "execution_count": 8,
     "metadata": {},
     "output_type": "execute_result"
    },
    {
     "data": {
      "image/png": "[encoded data removed]",
      "text/plain": [
       "<Figure size 432x288 with 1 Axes>"
      ]
     },
     "metadata": {
      "needs_background": "light"
     },
     "output_type": "display_data"
    }
   ],
   "source": [
    "#뉴런이 너~~무 많다 걸러주자\n",
    "m1=keras.Sequential()\n",
    "m1.add(keras.layers.Flatten(input_shape=t_x.shape[1:]))#784\n",
    "m1.add(keras.layers.Dense(100,activation='relu'))#100\n",
    "m1.add(keras.layers.Dropout(0.3))#30퍼의 뉴런을 삭제\n",
    "m1.add(keras.layers.Dense(300,activation='relu'))#300\n",
    "m1.add(keras.layers.Dense(10,activation='softmax'))\n",
    "m1.compile(optimizer='adam',loss='sparse_categorical_crossentropy',metrics='accuracy')\n",
    "hy = m1.fit(t_x,t_y,validation_data=(v_x,v_y),epochs = 20)\n",
    "plt.plot(hy.history['loss'])\n",
    "plt.plot(hy.history['val_loss'])"
   ]
  },
  {
   "cell_type": "code",
   "execution_count": 13,
   "id": "37e1d79c",
   "metadata": {},
   "outputs": [
    {
     "name": "stdout",
     "output_type": "stream",
     "text": [
      "1500/1500 [==============================] - 1s 943us/step - loss: 0.2242 - accuracy: 0.9168\n"
     ]
    },
    {
     "data": {
      "text/plain": [
       "[0.2241733819246292, 0.9167708158493042]"
      ]
     },
     "execution_count": 13,
     "metadata": {},
     "output_type": "execute_result"
    }
   ],
   "source": [
    "m1.evaluate(t_x,t_y)"
   ]
  },
  {
   "cell_type": "markdown",
   "id": "a2125354",
   "metadata": {},
   "source": [
    "m.weights"
   ]
  },
  {
   "cell_type": "code",
   "execution_count": 10,
   "id": "22c25303",
   "metadata": {},
   "outputs": [],
   "source": [
    "m1.save_weights('m_1_w.h5')#모델의 웨이트값"
   ]
  },
  {
   "cell_type": "code",
   "execution_count": 11,
   "id": "eb657ffd",
   "metadata": {},
   "outputs": [],
   "source": [
    "m1.save('m1.h5')# 모델 저장"
   ]
  },
  {
   "cell_type": "code",
   "execution_count": 14,
   "id": "706c760b",
   "metadata": {},
   "outputs": [
    {
     "name": "stdout",
     "output_type": "stream",
     "text": [
      "1500/1500 [==============================] - 2s 929us/step - loss: 2.4159 - accuracy: 0.0724\n"
     ]
    },
    {
     "data": {
      "text/plain": [
       "[2.4159414768218994, 0.07237499952316284]"
      ]
     },
     "execution_count": 14,
     "metadata": {},
     "output_type": "execute_result"
    }
   ],
   "source": [
    "m2=keras.Sequential()\n",
    "m2.add(keras.layers.Flatten(input_shape=t_x.shape[1:]))#784\n",
    "m2.add(keras.layers.Dense(100,activation='relu'))#100\n",
    "m2.add(keras.layers.Dropout(0.3))#30퍼의 뉴런을 삭제\n",
    "m2.add(keras.layers.Dense(300,activation='relu'))#300\n",
    "m2.add(keras.layers.Dense(10,activation='softmax'))\n",
    "m2.compile(optimizer='adam',loss='sparse_categorical_crossentropy',metrics='accuracy')\n",
    "m2.evaluate(t_x,t_y)\n"
   ]
  },
  {
   "cell_type": "markdown",
   "id": "c4ee9a32",
   "metadata": {},
   "source": [
    "**학습된 가중치 불러오기**"
   ]
  },
  {
   "cell_type": "code",
   "execution_count": 15,
   "id": "d1f2d8bf",
   "metadata": {},
   "outputs": [],
   "source": [
    "m2.load_weights(\"m_1_w.h5\")"
   ]
  },
  {
   "cell_type": "code",
   "execution_count": 16,
   "id": "1aa4a922",
   "metadata": {},
   "outputs": [
    {
     "name": "stdout",
     "output_type": "stream",
     "text": [
      "1500/1500 [==============================] - 2s 995us/step - loss: 0.2169 - accuracy: 0.9225\n"
     ]
    },
    {
     "data": {
      "text/plain": [
       "[0.216901496052742, 0.9225208163261414]"
      ]
     },
     "execution_count": 16,
     "metadata": {},
     "output_type": "execute_result"
    }
   ],
   "source": [
    "m2.evaluate(t_x,t_y)# m1 의 학습된 모델이 불러와짐"
   ]
  },
  {
   "cell_type": "markdown",
   "id": "477bfa03",
   "metadata": {},
   "source": [
    "**학습된 모델 불러오기**"
   ]
  },
  {
   "cell_type": "code",
   "execution_count": 18,
   "id": "de6e18e8",
   "metadata": {},
   "outputs": [
    {
     "name": "stdout",
     "output_type": "stream",
     "text": [
      "1500/1500 [==============================] - 1s 938us/step - loss: 0.2242 - accuracy: 0.9168\n"
     ]
    },
    {
     "data": {
      "text/plain": [
       "[0.2241733819246292, 0.9167708158493042]"
      ]
     },
     "execution_count": 18,
     "metadata": {},
     "output_type": "execute_result"
    }
   ],
   "source": [
    "m3 = keras.models.load_model('m1.h5')    \n",
    "m3.evaluate(t_x,t_y)"
   ]
  },
  {
   "cell_type": "code",
   "execution_count": null,
   "id": "ef03e4f5",
   "metadata": {},
   "outputs": [],
   "source": []
  }
 ],
 "metadata": {
  "kernelspec": {
   "display_name": "Python 3 (ipykernel)",
   "language": "python",
   "name": "python3"
  },
  "language_info": {
   "codemirror_mode": {
    "name": "ipython",
    "version": 3
   },
   "file_extension": ".py",
   "mimetype": "text/x-python",
   "name": "python",
   "nbconvert_exporter": "python",
   "pygments_lexer": "ipython3",
   "version": "3.9.7"
  }
 },
 "nbformat": 4,
 "nbformat_minor": 5
}
