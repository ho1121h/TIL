{
 "cells": [
  {
   "cell_type": "code",
   "execution_count": 39,
   "id": "80725d4c",
   "metadata": {},
   "outputs": [],
   "source": [
    "from tensorflow import keras\n",
    "import numpy as np\n",
    "(t_x,t_y),(tt_x,tt_y) = keras.datasets.fashion_mnist.load_data()"
   ]
  },
  {
   "cell_type": "code",
   "execution_count": 40,
   "id": "31abe79e",
   "metadata": {},
   "outputs": [
    {
     "data": {
      "text/plain": [
       "(60000, 28, 28)"
      ]
     },
     "execution_count": 40,
     "metadata": {},
     "output_type": "execute_result"
    }
   ],
   "source": [
    "t_x.shape"
   ]
  },
  {
   "cell_type": "code",
   "execution_count": 41,
   "id": "cd3f5519",
   "metadata": {},
   "outputs": [
    {
     "data": {
      "text/plain": [
       "(60000, 784)"
      ]
     },
     "execution_count": 41,
     "metadata": {},
     "output_type": "execute_result"
    }
   ],
   "source": [
    "s_t_x = t_x/255.0\n",
    "s_t_x = s_t_x.reshape(-1,28*28)\n",
    "s_t_x.shape"
   ]
  },
  {
   "cell_type": "code",
   "execution_count": 42,
   "id": "6767ef9c",
   "metadata": {
    "scrolled": true
   },
   "outputs": [
    {
     "name": "stderr",
     "output_type": "stream",
     "text": [
      "C:\\Users\\ho316\\anaconda3\\lib\\site-packages\\sklearn\\linear_model\\_stochastic_gradient.py:574: ConvergenceWarning: Maximum number of iteration reached before convergence. Consider increasing max_iter to improve the fit.\n",
      "  warnings.warn(\"Maximum number of iteration reached before \"\n",
      "C:\\Users\\ho316\\anaconda3\\lib\\site-packages\\sklearn\\linear_model\\_stochastic_gradient.py:574: ConvergenceWarning: Maximum number of iteration reached before convergence. Consider increasing max_iter to improve the fit.\n",
      "  warnings.warn(\"Maximum number of iteration reached before \"\n",
      "C:\\Users\\ho316\\anaconda3\\lib\\site-packages\\sklearn\\linear_model\\_stochastic_gradient.py:574: ConvergenceWarning: Maximum number of iteration reached before convergence. Consider increasing max_iter to improve the fit.\n",
      "  warnings.warn(\"Maximum number of iteration reached before \"\n",
      "C:\\Users\\ho316\\anaconda3\\lib\\site-packages\\sklearn\\linear_model\\_stochastic_gradient.py:574: ConvergenceWarning: Maximum number of iteration reached before convergence. Consider increasing max_iter to improve the fit.\n",
      "  warnings.warn(\"Maximum number of iteration reached before \"\n",
      "C:\\Users\\ho316\\anaconda3\\lib\\site-packages\\sklearn\\linear_model\\_stochastic_gradient.py:574: ConvergenceWarning: Maximum number of iteration reached before convergence. Consider increasing max_iter to improve the fit.\n",
      "  warnings.warn(\"Maximum number of iteration reached before \"\n"
     ]
    },
    {
     "data": {
      "text/plain": [
       "0.8192833333333333"
      ]
     },
     "execution_count": 42,
     "metadata": {},
     "output_type": "execute_result"
    }
   ],
   "source": [
    "from sklearn.linear_model import SGDClassifier\n",
    "from sklearn.model_selection import cross_validate\n",
    "sc = SGDClassifier(loss = 'log',max_iter=5, random_state=42)\n",
    "scr = cross_validate(sc, s_t_x,t_y)\n",
    "np.mean(scr['test_score'])"
   ]
  },
  {
   "cell_type": "code",
   "execution_count": 44,
   "id": "99ec01c0",
   "metadata": {},
   "outputs": [],
   "source": [
    "import tensorflow as tf"
   ]
  },
  {
   "cell_type": "code",
   "execution_count": 45,
   "id": "d5dd4bfa",
   "metadata": {},
   "outputs": [],
   "source": [
    "from sklearn.model_selection import train_test_split\n",
    "t_x, v_x, t_y, v_y = train_test_split(s_t_x,t_y ,test_size=0.2, random_state=42)\n"
   ]
  },
  {
   "cell_type": "code",
   "execution_count": 46,
   "id": "56d2d3c1",
   "metadata": {},
   "outputs": [],
   "source": [
    "#입력 출력 갯수를 정하자 다중분류는 소프트 맥스 ,단일은 시그모이드\n",
    "dense = keras.layers.Dense(10,activation='softmax',input_shape=(784,))\n",
    "#단층으로 쌓음"
   ]
  },
  {
   "cell_type": "code",
   "execution_count": 47,
   "id": "869fa8d4",
   "metadata": {},
   "outputs": [],
   "source": [
    "model = keras.Sequential(dense)\n",
    "model.compile(loss='sparse_categorical_crossentropy',metrics='accuracy')#다중분류의 로스값"
   ]
  },
  {
   "cell_type": "code",
   "execution_count": 50,
   "id": "658ada3e",
   "metadata": {},
   "outputs": [
    {
     "name": "stdout",
     "output_type": "stream",
     "text": [
      "Epoch 1/10\n",
      "1500/1500 [==============================] - 1s 896us/step - loss: 0.4321 - accuracy: 0.8574\n",
      "Epoch 2/10\n",
      "1500/1500 [==============================] - 1s 841us/step - loss: 0.4278 - accuracy: 0.8589\n",
      "Epoch 3/10\n",
      "1500/1500 [==============================] - 1s 852us/step - loss: 0.4245 - accuracy: 0.8611\n",
      "Epoch 4/10\n",
      "1500/1500 [==============================] - 1s 814us/step - loss: 0.4229 - accuracy: 0.8604\n",
      "Epoch 5/10\n",
      "1500/1500 [==============================] - 1s 862us/step - loss: 0.4203 - accuracy: 0.8624\n",
      "Epoch 6/10\n",
      "1500/1500 [==============================] - 1s 849us/step - loss: 0.4176 - accuracy: 0.8624\n",
      "Epoch 7/10\n",
      "1500/1500 [==============================] - 1s 857us/step - loss: 0.4164 - accuracy: 0.8640\n",
      "Epoch 8/10\n",
      "1500/1500 [==============================] - 1s 837us/step - loss: 0.4146 - accuracy: 0.8649\n",
      "Epoch 9/10\n",
      "1500/1500 [==============================] - 1s 929us/step - loss: 0.4132 - accuracy: 0.8654\n",
      "Epoch 10/10\n",
      "1500/1500 [==============================] - 1s 958us/step - loss: 0.4131 - accuracy: 0.8655\n"
     ]
    },
    {
     "data": {
      "text/plain": [
       "<keras.callbacks.History at 0x21cb2add310>"
      ]
     },
     "execution_count": 50,
     "metadata": {},
     "output_type": "execute_result"
    }
   ],
   "source": [
    "#완성된 모델 학습\n",
    "model.fit(t_x,t_y,epochs=10)"
   ]
  },
  {
   "cell_type": "code",
   "execution_count": 52,
   "id": "5de1804b",
   "metadata": {},
   "outputs": [
    {
     "name": "stdout",
     "output_type": "stream",
     "text": [
      "375/375 [==============================] - 0s 663us/step - loss: 0.4579 - accuracy: 0.8491\n"
     ]
    },
    {
     "data": {
      "text/plain": [
       "[0.45789197087287903, 0.8490833044052124]"
      ]
     },
     "execution_count": 52,
     "metadata": {},
     "output_type": "execute_result"
    }
   ],
   "source": [
    "model.evaluate(v_x,v_y)"
   ]
  },
  {
   "cell_type": "code",
   "execution_count": null,
   "id": "7ce5d1bf",
   "metadata": {},
   "outputs": [],
   "source": []
  }
 ],
 "metadata": {
  "kernelspec": {
   "display_name": "Python 3 (ipykernel)",
   "language": "python",
   "name": "python3"
  },
  "language_info": {
   "codemirror_mode": {
    "name": "ipython",
    "version": 3
   },
   "file_extension": ".py",
   "mimetype": "text/x-python",
   "name": "python",
   "nbconvert_exporter": "python",
   "pygments_lexer": "ipython3",
   "version": "3.9.7"
  }
 },
 "nbformat": 4,
 "nbformat_minor": 5
}
