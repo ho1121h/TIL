{
 "cells": [
  {
   "cell_type": "code",
   "execution_count": 40,
   "id": "16384ac8",
   "metadata": {},
   "outputs": [
    {
     "data": {
      "text/plain": [
       "(48000, 28, 28)"
      ]
     },
     "execution_count": 40,
     "metadata": {},
     "output_type": "execute_result"
    }
   ],
   "source": [
    "import tensorflow as tf\n",
    "from tensorflow import keras\n",
    "import numpy as np\n",
    "(t_x,t_y),(tt_x,tt_y) = keras.datasets.fashion_mnist.load_data()\n",
    "s_t_x = t_x/255.0\n",
    "s_tt_x=tt_x/255.0\n",
    "from sklearn.model_selection import train_test_split\n",
    "t_x, v_x, t_y, v_y = train_test_split(s_t_x,t_y ,test_size=0.2, random_state=42)\n",
    "t_x.shape"
   ]
  },
  {
   "cell_type": "code",
   "execution_count": 2,
   "id": "28d93e82",
   "metadata": {},
   "outputs": [
    {
     "name": "stdout",
     "output_type": "stream",
     "text": [
      "Model: \"sequential\"\n",
      "_________________________________________________________________\n",
      " Layer (type)                Output Shape              Param #   \n",
      "=================================================================\n",
      " flatten (Flatten)           (None, 784)               0         \n",
      "                                                                 \n",
      " hidden (Dense)              (None, 100)               78500     \n",
      "                                                                 \n",
      " output (Dense)              (None, 10)                1010      \n",
      "                                                                 \n",
      "=================================================================\n",
      "Total params: 79,510\n",
      "Trainable params: 79,510\n",
      "Non-trainable params: 0\n",
      "_________________________________________________________________\n",
      "Epoch 1/5\n",
      "1500/1500 [==============================] - 2s 1ms/step - loss: 0.5307 - accuracy: 0.8136\n",
      "Epoch 2/5\n",
      "1500/1500 [==============================] - 2s 1ms/step - loss: 0.3932 - accuracy: 0.8587\n",
      "Epoch 3/5\n",
      "1500/1500 [==============================] - 2s 1ms/step - loss: 0.3572 - accuracy: 0.8722\n",
      "Epoch 4/5\n",
      "1500/1500 [==============================] - 2s 1ms/step - loss: 0.3366 - accuracy: 0.8802\n",
      "Epoch 5/5\n",
      "1500/1500 [==============================] - 2s 1ms/step - loss: 0.3220 - accuracy: 0.8843\n"
     ]
    },
    {
     "data": {
      "text/plain": [
       "<keras.callbacks.History at 0x230df66ce20>"
      ]
     },
     "execution_count": 2,
     "metadata": {},
     "output_type": "execute_result"
    }
   ],
   "source": [
    "model = keras.Sequential()\n",
    "model.add(keras.layers.Flatten(input_shape=(28,28)))\n",
    "model.add(keras.layers.Dense(100,activation='relu',input_shape=(784,),name='hidden'))#은닉층\n",
    "model.add(keras.layers.Dense(10,activation='softmax',name = 'output'))          \n",
    "model.summary()\n",
    "model.compile(loss='sparse_categorical_crossentropy',metrics='accuracy')\n",
    "model.fit(t_x,t_y,epochs=5)"
   ]
  },
  {
   "cell_type": "code",
   "execution_count": 3,
   "id": "8ace0092",
   "metadata": {},
   "outputs": [
    {
     "name": "stdout",
     "output_type": "stream",
     "text": [
      "375/375 [==============================] - 1s 735us/step - loss: 0.3540 - accuracy: 0.8796\n"
     ]
    },
    {
     "data": {
      "text/plain": [
       "[0.35404708981513977, 0.8795833587646484]"
      ]
     },
     "execution_count": 3,
     "metadata": {},
     "output_type": "execute_result"
    }
   ],
   "source": [
    "model.evaluate(v_x,v_y)"
   ]
  },
  {
   "cell_type": "code",
   "execution_count": 4,
   "id": "4f6c43ed",
   "metadata": {},
   "outputs": [],
   "source": [
    "#학습 규칙 설정 출력 규칙설정, 컴파일:고급어를 기계어로 변환,규칙설정\n",
    "model.compile(optimizer='sgd',loss='sparse_categorical_crossentropy',metrics='accuracy')"
   ]
  },
  {
   "cell_type": "code",
   "execution_count": 5,
   "id": "80921cbf",
   "metadata": {},
   "outputs": [],
   "source": [
    "sgd = keras.optimizers.SGD(learning_rate=0.1)\n",
    "#분류기 \n",
    "model.compile(optimizer='sgd',loss='sparse_categorical_crossentropy',metrics='accuracy')"
   ]
  },
  {
   "cell_type": "code",
   "execution_count": 6,
   "id": "4fa8be1b",
   "metadata": {},
   "outputs": [],
   "source": [
    "sgd = keras.optimizers.SGD(momentum=0.9,nesterov=True)"
   ]
  },
  {
   "cell_type": "code",
   "execution_count": 7,
   "id": "47aa0a27",
   "metadata": {},
   "outputs": [
    {
     "data": {
      "text/plain": [
       "keras.optimizer_v2.rmsprop.RMSprop"
      ]
     },
     "execution_count": 7,
     "metadata": {},
     "output_type": "execute_result"
    }
   ],
   "source": [
    "keras.optimizers.RMSprop"
   ]
  },
  {
   "cell_type": "code",
   "execution_count": 8,
   "id": "6eca9007",
   "metadata": {},
   "outputs": [
    {
     "data": {
      "text/plain": [
       "keras.optimizer_v2.adagrad.Adagrad"
      ]
     },
     "execution_count": 8,
     "metadata": {},
     "output_type": "execute_result"
    }
   ],
   "source": [
    "keras.optimizers.Adagrad"
   ]
  },
  {
   "cell_type": "code",
   "execution_count": 9,
   "id": "f9dba23c",
   "metadata": {},
   "outputs": [
    {
     "name": "stdout",
     "output_type": "stream",
     "text": [
      "Model: \"sequential_1\"\n",
      "_________________________________________________________________\n",
      " Layer (type)                Output Shape              Param #   \n",
      "=================================================================\n",
      " flatten_1 (Flatten)         (None, 784)               0         \n",
      "                                                                 \n",
      " hidden (Dense)              (None, 100)               78500     \n",
      "                                                                 \n",
      " output (Dense)              (None, 10)                1010      \n",
      "                                                                 \n",
      "=================================================================\n",
      "Total params: 79,510\n",
      "Trainable params: 79,510\n",
      "Non-trainable params: 0\n",
      "_________________________________________________________________\n"
     ]
    }
   ],
   "source": [
    "model1 = keras.Sequential()\n",
    "model1.add(keras.layers.Flatten(input_shape=(28,28)))\n",
    "model1.add(keras.layers.Dense(100,activation='relu',input_shape=(784,),name='hidden'))#은닉층\n",
    "model1.add(keras.layers.Dense(10,activation='softmax',name = 'output'))          \n",
    "model1.summary()"
   ]
  },
  {
   "cell_type": "code",
   "execution_count": 13,
   "id": "f7d17e6c",
   "metadata": {},
   "outputs": [
    {
     "name": "stdout",
     "output_type": "stream",
     "text": [
      "Epoch 1/5\n",
      "1500/1500 [==============================] - 2s 1ms/step - loss: 0.2933 - accuracy: 0.8924\n",
      "Epoch 2/5\n",
      "1500/1500 [==============================] - 2s 1ms/step - loss: 0.2803 - accuracy: 0.8960\n",
      "Epoch 3/5\n",
      "1500/1500 [==============================] - 2s 1ms/step - loss: 0.2673 - accuracy: 0.9009\n",
      "Epoch 4/5\n",
      "1500/1500 [==============================] - 2s 1ms/step - loss: 0.2584 - accuracy: 0.9040\n",
      "Epoch 5/5\n",
      "1500/1500 [==============================] - 2s 1ms/step - loss: 0.2491 - accuracy: 0.9085\n"
     ]
    },
    {
     "data": {
      "text/plain": [
       "<keras.callbacks.History at 0x230e2041fa0>"
      ]
     },
     "execution_count": 13,
     "metadata": {},
     "output_type": "execute_result"
    }
   ],
   "source": [
    "model1.compile(optimizer='adam',loss='sparse_categorical_crossentropy',metrics='accuracy')\n",
    "model1.fit(s_tt_x,t_y,epochs=5)"
   ]
  },
  {
   "cell_type": "code",
   "execution_count": 14,
   "id": "10083c51",
   "metadata": {},
   "outputs": [
    {
     "name": "stdout",
     "output_type": "stream",
     "text": [
      "375/375 [==============================] - 0s 800us/step - loss: 0.3540 - accuracy: 0.8796\n",
      "375/375 [==============================] - 0s 817us/step - loss: 0.3350 - accuracy: 0.8822\n"
     ]
    },
    {
     "data": {
      "text/plain": [
       "([0.35404708981513977, 0.8795833587646484],\n",
       " [0.33496177196502686, 0.8821666836738586])"
      ]
     },
     "execution_count": 14,
     "metadata": {},
     "output_type": "execute_result"
    }
   ],
   "source": [
    "model.evaluate(v_x,v_y),model1.evaluate(v_x,v_y) #검증데이터점수"
   ]
  },
  {
   "cell_type": "code",
   "execution_count": 15,
   "id": "219347a7",
   "metadata": {},
   "outputs": [
    {
     "data": {
      "text/plain": [
       "(48000, 28, 28)"
      ]
     },
     "execution_count": 15,
     "metadata": {},
     "output_type": "execute_result"
    }
   ],
   "source": [
    "t_x.shape"
   ]
  },
  {
   "cell_type": "code",
   "execution_count": 17,
   "id": "17b40a49",
   "metadata": {},
   "outputs": [
    {
     "name": "stdout",
     "output_type": "stream",
     "text": [
      "Model: \"sequential_3\"\n",
      "_________________________________________________________________\n",
      " Layer (type)                Output Shape              Param #   \n",
      "=================================================================\n",
      " flatten_3 (Flatten)         (None, 784)               0         \n",
      "                                                                 \n",
      " dense_3 (Dense)             (None, 100)               78500     \n",
      "                                                                 \n",
      " dense_4 (Dense)             (None, 300)               30300     \n",
      "                                                                 \n",
      " dense_5 (Dense)             (None, 10)                3010      \n",
      "                                                                 \n",
      "=================================================================\n",
      "Total params: 111,810\n",
      "Trainable params: 111,810\n",
      "Non-trainable params: 0\n",
      "_________________________________________________________________\n"
     ]
    }
   ],
   "source": [
    "m1 = keras.Sequential()#모델생성!\n",
    "m1.add(keras.layers.Flatten(input_shape = (28,28)))#입력층 레이어 생성\n",
    "m1.add(keras.layers.Dense(100,activation='relu'))\n",
    "m1.add(keras.layers.Dense(300,activation='relu'))\n",
    "m1.add(keras.layers.Dense(10,activation='softmax'))#종단 뉴런 층\n",
    "m1.summary()"
   ]
  },
  {
   "cell_type": "code",
   "execution_count": 18,
   "id": "7e543c04",
   "metadata": {},
   "outputs": [
    {
     "name": "stdout",
     "output_type": "stream",
     "text": [
      "Epoch 1/30\n",
      "1500/1500 [==============================] - 3s 2ms/step - loss: 0.5006 - accuracy: 0.8206 - val_loss: 0.4203 - val_accuracy: 0.8491\n",
      "Epoch 2/30\n",
      "1500/1500 [==============================] - 2s 2ms/step - loss: 0.3700 - accuracy: 0.8644 - val_loss: 0.3696 - val_accuracy: 0.8654\n",
      "Epoch 3/30\n",
      "1500/1500 [==============================] - 2s 2ms/step - loss: 0.3340 - accuracy: 0.8758 - val_loss: 0.3684 - val_accuracy: 0.8671\n",
      "Epoch 4/30\n",
      "1500/1500 [==============================] - 2s 2ms/step - loss: 0.3076 - accuracy: 0.8855 - val_loss: 0.3550 - val_accuracy: 0.8710\n",
      "Epoch 5/30\n",
      "1500/1500 [==============================] - 2s 2ms/step - loss: 0.2918 - accuracy: 0.8908 - val_loss: 0.3556 - val_accuracy: 0.8724\n",
      "Epoch 6/30\n",
      "1500/1500 [==============================] - 2s 2ms/step - loss: 0.2761 - accuracy: 0.8965 - val_loss: 0.3365 - val_accuracy: 0.8813\n",
      "Epoch 7/30\n",
      "1500/1500 [==============================] - 2s 2ms/step - loss: 0.2647 - accuracy: 0.9001 - val_loss: 0.3499 - val_accuracy: 0.8723\n",
      "Epoch 8/30\n",
      "1500/1500 [==============================] - 2s 2ms/step - loss: 0.2529 - accuracy: 0.9040 - val_loss: 0.3338 - val_accuracy: 0.8817\n",
      "Epoch 9/30\n",
      "1500/1500 [==============================] - 2s 2ms/step - loss: 0.2389 - accuracy: 0.9088 - val_loss: 0.3302 - val_accuracy: 0.8869\n",
      "Epoch 10/30\n",
      "1500/1500 [==============================] - 2s 2ms/step - loss: 0.2327 - accuracy: 0.9120 - val_loss: 0.3263 - val_accuracy: 0.8851\n",
      "Epoch 11/30\n",
      "1500/1500 [==============================] - 2s 2ms/step - loss: 0.2245 - accuracy: 0.9142 - val_loss: 0.3225 - val_accuracy: 0.8891\n",
      "Epoch 12/30\n",
      "1500/1500 [==============================] - 2s 2ms/step - loss: 0.2150 - accuracy: 0.9175 - val_loss: 0.3462 - val_accuracy: 0.8863\n",
      "Epoch 13/30\n",
      "1500/1500 [==============================] - 2s 2ms/step - loss: 0.2068 - accuracy: 0.9208 - val_loss: 0.3225 - val_accuracy: 0.8898\n",
      "Epoch 14/30\n",
      "1500/1500 [==============================] - 2s 2ms/step - loss: 0.1987 - accuracy: 0.9232 - val_loss: 0.3350 - val_accuracy: 0.8885\n",
      "Epoch 15/30\n",
      "1500/1500 [==============================] - 2s 2ms/step - loss: 0.1950 - accuracy: 0.9263 - val_loss: 0.3584 - val_accuracy: 0.8818\n",
      "Epoch 16/30\n",
      "1500/1500 [==============================] - 2s 2ms/step - loss: 0.1853 - accuracy: 0.9281 - val_loss: 0.3688 - val_accuracy: 0.8878\n",
      "Epoch 17/30\n",
      "1500/1500 [==============================] - 2s 2ms/step - loss: 0.1809 - accuracy: 0.9307 - val_loss: 0.3508 - val_accuracy: 0.8892\n",
      "Epoch 18/30\n",
      "1500/1500 [==============================] - 2s 2ms/step - loss: 0.1753 - accuracy: 0.9332 - val_loss: 0.3573 - val_accuracy: 0.8905\n",
      "Epoch 19/30\n",
      "1500/1500 [==============================] - 2s 2ms/step - loss: 0.1671 - accuracy: 0.9356 - val_loss: 0.3711 - val_accuracy: 0.8919\n",
      "Epoch 20/30\n",
      "1500/1500 [==============================] - 2s 2ms/step - loss: 0.1633 - accuracy: 0.9380 - val_loss: 0.3734 - val_accuracy: 0.8878\n",
      "Epoch 21/30\n",
      "1500/1500 [==============================] - 2s 2ms/step - loss: 0.1595 - accuracy: 0.9384 - val_loss: 0.3582 - val_accuracy: 0.8925\n",
      "Epoch 22/30\n",
      "1500/1500 [==============================] - 2s 2ms/step - loss: 0.1521 - accuracy: 0.9399 - val_loss: 0.3798 - val_accuracy: 0.8901\n",
      "Epoch 23/30\n",
      "1500/1500 [==============================] - 2s 2ms/step - loss: 0.1495 - accuracy: 0.9428 - val_loss: 0.3991 - val_accuracy: 0.8953\n",
      "Epoch 24/30\n",
      "1500/1500 [==============================] - 2s 2ms/step - loss: 0.1470 - accuracy: 0.9442 - val_loss: 0.4099 - val_accuracy: 0.8913\n",
      "Epoch 25/30\n",
      "1500/1500 [==============================] - 2s 2ms/step - loss: 0.1380 - accuracy: 0.9466 - val_loss: 0.3994 - val_accuracy: 0.8890\n",
      "Epoch 26/30\n",
      "1500/1500 [==============================] - 2s 2ms/step - loss: 0.1368 - accuracy: 0.9481 - val_loss: 0.4200 - val_accuracy: 0.8949\n",
      "Epoch 27/30\n",
      "1500/1500 [==============================] - 2s 2ms/step - loss: 0.1313 - accuracy: 0.9492 - val_loss: 0.4243 - val_accuracy: 0.8934\n",
      "Epoch 28/30\n",
      "1500/1500 [==============================] - 2s 2ms/step - loss: 0.1296 - accuracy: 0.9495 - val_loss: 0.4265 - val_accuracy: 0.8953\n",
      "Epoch 29/30\n",
      "1500/1500 [==============================] - 2s 2ms/step - loss: 0.1272 - accuracy: 0.9507 - val_loss: 0.4363 - val_accuracy: 0.8947\n",
      "Epoch 30/30\n",
      "1500/1500 [==============================] - 2s 2ms/step - loss: 0.1206 - accuracy: 0.9533 - val_loss: 0.4559 - val_accuracy: 0.8919\n"
     ]
    }
   ],
   "source": [
    "m1.compile(optimizer='adam',loss='sparse_categorical_crossentropy',metrics='accuracy')\n",
    "history = m1.fit(t_x, t_y, epochs = 30, validation_data=(v_x,v_y))"
   ]
  },
  {
   "cell_type": "code",
   "execution_count": 19,
   "id": "320c610a",
   "metadata": {},
   "outputs": [
    {
     "data": {
      "text/plain": [
       "{'verbose': 1, 'epochs': 30, 'steps': 1500}"
      ]
     },
     "execution_count": 19,
     "metadata": {},
     "output_type": "execute_result"
    }
   ],
   "source": [
    "history.params"
   ]
  },
  {
   "cell_type": "code",
   "execution_count": 21,
   "id": "a9759cea",
   "metadata": {},
   "outputs": [
    {
     "data": {
      "text/plain": [
       "dict_keys(['loss', 'accuracy', 'val_loss', 'val_accuracy'])"
      ]
     },
     "execution_count": 21,
     "metadata": {},
     "output_type": "execute_result"
    }
   ],
   "source": [
    "history.history.keys() #"
   ]
  },
  {
   "cell_type": "code",
   "execution_count": 25,
   "id": "6aff6b45",
   "metadata": {},
   "outputs": [
    {
     "data": {
      "text/plain": [
       "(0.0, 1.0)"
      ]
     },
     "execution_count": 25,
     "metadata": {},
     "output_type": "execute_result"
    },
    {
     "data": {
      "image/png": "[encoded data removed]",
      "text/plain": [
       "<Figure size 576x360 with 1 Axes>"
      ]
     },
     "metadata": {
      "needs_background": "light"
     },
     "output_type": "display_data"
    }
   ],
   "source": [
    "import pandas as pd\n",
    "import matplotlib.pyplot as plt\n",
    "pd.DataFrame(history.history).plot(figsize=(8,5))\n",
    "plt.grid(True)\n",
    "plt.gca().set_ylim(0,1)\n",
    "#과대적합됨"
   ]
  },
  {
   "cell_type": "code",
   "execution_count": 26,
   "id": "f0bd005e",
   "metadata": {},
   "outputs": [
    {
     "name": "stdout",
     "output_type": "stream",
     "text": [
      "Model: \"sequential_4\"\n",
      "_________________________________________________________________\n",
      " Layer (type)                Output Shape              Param #   \n",
      "=================================================================\n",
      " flatten_4 (Flatten)         (None, 784)               0         \n",
      "                                                                 \n",
      " dense_6 (Dense)             (None, 300)               235500    \n",
      "                                                                 \n",
      " dense_7 (Dense)             (None, 100)               30100     \n",
      "                                                                 \n",
      " dense_8 (Dense)             (None, 10)                1010      \n",
      "                                                                 \n",
      "=================================================================\n",
      "Total params: 266,610\n",
      "Trainable params: 266,610\n",
      "Non-trainable params: 0\n",
      "_________________________________________________________________\n"
     ]
    }
   ],
   "source": [
    "m2 = keras.Sequential()#모델생성!\n",
    "m2.add(keras.layers.Flatten(input_shape = (28,28)))#입력층 레이어 생성\n",
    "m2.add(keras.layers.Dense(300,activation='relu'))\n",
    "m2.add(keras.layers.Dense(100,activation='relu'))\n",
    "m2.add(keras.layers.Dense(10,activation='softmax'))#종단 뉴런 층\n",
    "m2.summary()"
   ]
  },
  {
   "cell_type": "code",
   "execution_count": 30,
   "id": "1e9ac87d",
   "metadata": {},
   "outputs": [
    {
     "name": "stdout",
     "output_type": "stream",
     "text": [
      "Epoch 1/20\n",
      "1500/1500 [==============================] - 3s 2ms/step - loss: 0.4907 - accuracy: 0.8228 - val_loss: 0.4274 - val_accuracy: 0.8477\n",
      "Epoch 2/20\n",
      "1500/1500 [==============================] - 3s 2ms/step - loss: 0.3707 - accuracy: 0.8633 - val_loss: 0.3814 - val_accuracy: 0.8597\n",
      "Epoch 3/20\n",
      "1500/1500 [==============================] - 3s 2ms/step - loss: 0.3312 - accuracy: 0.8779 - val_loss: 0.3457 - val_accuracy: 0.8732\n",
      "Epoch 4/20\n",
      "1500/1500 [==============================] - 3s 2ms/step - loss: 0.3089 - accuracy: 0.8857 - val_loss: 0.3399 - val_accuracy: 0.8780\n",
      "Epoch 5/20\n",
      "1500/1500 [==============================] - 3s 2ms/step - loss: 0.2914 - accuracy: 0.8907 - val_loss: 0.3363 - val_accuracy: 0.8771\n",
      "Epoch 6/20\n",
      "1500/1500 [==============================] - 3s 2ms/step - loss: 0.2731 - accuracy: 0.8978 - val_loss: 0.3501 - val_accuracy: 0.8756\n",
      "Epoch 7/20\n",
      "1500/1500 [==============================] - 3s 2ms/step - loss: 0.2598 - accuracy: 0.9021 - val_loss: 0.3540 - val_accuracy: 0.8807\n",
      "Epoch 8/20\n",
      "1500/1500 [==============================] - 3s 2ms/step - loss: 0.2489 - accuracy: 0.9053 - val_loss: 0.3313 - val_accuracy: 0.8828\n",
      "Epoch 9/20\n",
      "1500/1500 [==============================] - 3s 2ms/step - loss: 0.2374 - accuracy: 0.9120 - val_loss: 0.3160 - val_accuracy: 0.8886\n",
      "Epoch 10/20\n",
      "1500/1500 [==============================] - 3s 2ms/step - loss: 0.2305 - accuracy: 0.9129 - val_loss: 0.3198 - val_accuracy: 0.8887\n",
      "Epoch 11/20\n",
      "1500/1500 [==============================] - 3s 2ms/step - loss: 0.2172 - accuracy: 0.9185 - val_loss: 0.3306 - val_accuracy: 0.8848\n",
      "Epoch 12/20\n",
      "1500/1500 [==============================] - 3s 2ms/step - loss: 0.2146 - accuracy: 0.9185 - val_loss: 0.3472 - val_accuracy: 0.8843\n",
      "Epoch 13/20\n",
      "1500/1500 [==============================] - 3s 2ms/step - loss: 0.2039 - accuracy: 0.9220 - val_loss: 0.3485 - val_accuracy: 0.8835\n",
      "Epoch 14/20\n",
      "1500/1500 [==============================] - 3s 2ms/step - loss: 0.1994 - accuracy: 0.9231 - val_loss: 0.3188 - val_accuracy: 0.8892\n",
      "Epoch 15/20\n",
      "1500/1500 [==============================] - 3s 2ms/step - loss: 0.1904 - accuracy: 0.9276 - val_loss: 0.3316 - val_accuracy: 0.8907\n",
      "Epoch 16/20\n",
      "1500/1500 [==============================] - 3s 2ms/step - loss: 0.1813 - accuracy: 0.9305 - val_loss: 0.3725 - val_accuracy: 0.8869\n",
      "Epoch 17/20\n",
      "1500/1500 [==============================] - 3s 2ms/step - loss: 0.1811 - accuracy: 0.9311 - val_loss: 0.3533 - val_accuracy: 0.8898\n",
      "Epoch 18/20\n",
      "1500/1500 [==============================] - 3s 2ms/step - loss: 0.1733 - accuracy: 0.9337 - val_loss: 0.3304 - val_accuracy: 0.8963\n",
      "Epoch 19/20\n",
      "1500/1500 [==============================] - 3s 2ms/step - loss: 0.1670 - accuracy: 0.9356 - val_loss: 0.3417 - val_accuracy: 0.8946\n",
      "Epoch 20/20\n",
      "1500/1500 [==============================] - 3s 2ms/step - loss: 0.1632 - accuracy: 0.9371 - val_loss: 0.3520 - val_accuracy: 0.8957\n"
     ]
    }
   ],
   "source": [
    "m2.compile(optimizer='adam',loss='sparse_categorical_crossentropy',metrics='accuracy')\n",
    "history1 = m2.fit(t_x, t_y, epochs = 20, validation_data=(v_x,v_y))"
   ]
  },
  {
   "cell_type": "code",
   "execution_count": 31,
   "id": "271222f1",
   "metadata": {},
   "outputs": [
    {
     "data": {
      "text/plain": [
       "(0.0, 1.0)"
      ]
     },
     "execution_count": 31,
     "metadata": {},
     "output_type": "execute_result"
    },
    {
     "data": {
      "image/png": "[encoded data removed]",
      "text/plain": [
       "<Figure size 576x360 with 1 Axes>"
      ]
     },
     "metadata": {
      "needs_background": "light"
     },
     "output_type": "display_data"
    }
   ],
   "source": [
    "pd.DataFrame(history1.history).plot(figsize=(8,5))\n",
    "plt.gca().set_ylim(0,1)"
   ]
  },
  {
   "cell_type": "code",
   "execution_count": 32,
   "id": "530263c4",
   "metadata": {
    "scrolled": true
   },
   "outputs": [
    {
     "name": "stdout",
     "output_type": "stream",
     "text": [
      "Model: \"sequential_5\"\n",
      "_________________________________________________________________\n",
      " Layer (type)                Output Shape              Param #   \n",
      "=================================================================\n",
      " flatten_5 (Flatten)         (None, 784)               0         \n",
      "                                                                 \n",
      " dense_9 (Dense)             (None, 300)               235500    \n",
      "                                                                 \n",
      " dense_10 (Dense)            (None, 100)               30100     \n",
      "                                                                 \n",
      " dense_11 (Dense)            (None, 10)                1010      \n",
      "                                                                 \n",
      "=================================================================\n",
      "Total params: 266,610\n",
      "Trainable params: 266,610\n",
      "Non-trainable params: 0\n",
      "_________________________________________________________________\n"
     ]
    }
   ],
   "source": [
    "m3 = keras.Sequential()#모델생성!\n",
    "m3.add(keras.layers.Flatten(input_shape = (28,28)))#입력층 레이어 생성\n",
    "m3.add(keras.layers.Dense(300,activation='relu'))\n",
    "m3.add(keras.layers.Dense(100,activation='relu'))\n",
    "m3.add(keras.layers.Dense(10,activation='softmax'))#종단 뉴런 층\n",
    "m3.summary()"
   ]
  },
  {
   "cell_type": "code",
   "execution_count": 33,
   "id": "163b1756",
   "metadata": {},
   "outputs": [
    {
     "name": "stdout",
     "output_type": "stream",
     "text": [
      "Epoch 1/20\n",
      "1500/1500 [==============================] - 3s 2ms/step - loss: 0.7388 - accuracy: 0.7534 - val_loss: 0.5475 - val_accuracy: 0.8117\n",
      "Epoch 2/20\n",
      "1500/1500 [==============================] - 3s 2ms/step - loss: 0.4990 - accuracy: 0.8267 - val_loss: 0.4881 - val_accuracy: 0.8305\n",
      "Epoch 3/20\n",
      "1500/1500 [==============================] - 3s 2ms/step - loss: 0.4526 - accuracy: 0.8414 - val_loss: 0.4562 - val_accuracy: 0.8400\n",
      "Epoch 4/20\n",
      "1500/1500 [==============================] - 3s 2ms/step - loss: 0.4243 - accuracy: 0.8515 - val_loss: 0.4213 - val_accuracy: 0.8515\n",
      "Epoch 5/20\n",
      "1500/1500 [==============================] - 3s 2ms/step - loss: 0.4050 - accuracy: 0.8578 - val_loss: 0.4040 - val_accuracy: 0.8572\n",
      "Epoch 6/20\n",
      "1500/1500 [==============================] - 3s 2ms/step - loss: 0.3886 - accuracy: 0.8638 - val_loss: 0.4042 - val_accuracy: 0.8573\n",
      "Epoch 7/20\n",
      "1500/1500 [==============================] - 3s 2ms/step - loss: 0.3746 - accuracy: 0.8679 - val_loss: 0.3977 - val_accuracy: 0.8583\n",
      "Epoch 8/20\n",
      "1500/1500 [==============================] - 3s 2ms/step - loss: 0.3624 - accuracy: 0.8718 - val_loss: 0.4071 - val_accuracy: 0.8547\n",
      "Epoch 9/20\n",
      "1500/1500 [==============================] - 3s 2ms/step - loss: 0.3517 - accuracy: 0.8754 - val_loss: 0.3734 - val_accuracy: 0.8658\n",
      "Epoch 10/20\n",
      "1500/1500 [==============================] - 3s 2ms/step - loss: 0.3424 - accuracy: 0.8786 - val_loss: 0.3646 - val_accuracy: 0.8668\n",
      "Epoch 11/20\n",
      "1500/1500 [==============================] - 3s 2ms/step - loss: 0.3322 - accuracy: 0.8824 - val_loss: 0.3629 - val_accuracy: 0.8705\n",
      "Epoch 12/20\n",
      "1500/1500 [==============================] - 3s 2ms/step - loss: 0.3260 - accuracy: 0.8831 - val_loss: 0.3534 - val_accuracy: 0.8723\n",
      "Epoch 13/20\n",
      "1500/1500 [==============================] - 3s 2ms/step - loss: 0.3174 - accuracy: 0.8869 - val_loss: 0.3480 - val_accuracy: 0.8776\n",
      "Epoch 14/20\n",
      "1500/1500 [==============================] - 3s 2ms/step - loss: 0.3101 - accuracy: 0.8890 - val_loss: 0.3506 - val_accuracy: 0.8745\n",
      "Epoch 15/20\n",
      "1500/1500 [==============================] - 3s 2ms/step - loss: 0.3039 - accuracy: 0.8911 - val_loss: 0.3403 - val_accuracy: 0.8772\n",
      "Epoch 16/20\n",
      "1500/1500 [==============================] - 3s 2ms/step - loss: 0.2978 - accuracy: 0.8933 - val_loss: 0.3484 - val_accuracy: 0.8772\n",
      "Epoch 17/20\n",
      "1500/1500 [==============================] - 3s 2ms/step - loss: 0.2911 - accuracy: 0.8968 - val_loss: 0.3447 - val_accuracy: 0.8745\n",
      "Epoch 18/20\n",
      "1500/1500 [==============================] - 3s 2ms/step - loss: 0.2867 - accuracy: 0.8977 - val_loss: 0.3375 - val_accuracy: 0.8808\n",
      "Epoch 19/20\n",
      "1500/1500 [==============================] - 3s 2ms/step - loss: 0.2790 - accuracy: 0.8999 - val_loss: 0.3322 - val_accuracy: 0.8817\n",
      "Epoch 20/20\n",
      "1500/1500 [==============================] - 3s 2ms/step - loss: 0.2746 - accuracy: 0.9004 - val_loss: 0.3256 - val_accuracy: 0.8813\n"
     ]
    }
   ],
   "source": [
    "m3.compile(optimizer='sgd',loss='sparse_categorical_crossentropy',metrics='accuracy')\n",
    "history2 = m3.fit(t_x, t_y, epochs = 20, validation_data=(v_x,v_y))"
   ]
  },
  {
   "cell_type": "code",
   "execution_count": 34,
   "id": "7b5bc708",
   "metadata": {},
   "outputs": [
    {
     "data": {
      "text/plain": [
       "(0.0, 1.0)"
      ]
     },
     "execution_count": 34,
     "metadata": {},
     "output_type": "execute_result"
    },
    {
     "data": {
      "image/png": "[encoded data removed]",
      "text/plain": [
       "<Figure size 576x360 with 1 Axes>"
      ]
     },
     "metadata": {
      "needs_background": "light"
     },
     "output_type": "display_data"
    }
   ],
   "source": [
    "pd.DataFrame(history2.history).plot(figsize=(8,5))\n",
    "plt.gca().set_ylim(0,1)\n",
    "#loss 가 안떨어지면 기울기를 못찾는중일 것"
   ]
  },
  {
   "cell_type": "code",
   "execution_count": 35,
   "id": "10251702",
   "metadata": {},
   "outputs": [
    {
     "name": "stdout",
     "output_type": "stream",
     "text": [
      "313/313 [==============================] - 1s 2ms/step - loss: 72.8005 - accuracy: 0.8272\n"
     ]
    },
    {
     "data": {
      "text/plain": [
       "[72.80054473876953, 0.8271999955177307]"
      ]
     },
     "execution_count": 35,
     "metadata": {},
     "output_type": "execute_result"
    }
   ],
   "source": [
    "m3.evaluate(tt_x,tt_y)"
   ]
  },
  {
   "cell_type": "code",
   "execution_count": 36,
   "id": "64a2d8f1",
   "metadata": {},
   "outputs": [
    {
     "name": "stdout",
     "output_type": "stream",
     "text": [
      "313/313 [==============================] - 1s 1ms/step - loss: 78.9014 - accuracy: 0.8665\n"
     ]
    },
    {
     "data": {
      "text/plain": [
       "[78.90141296386719, 0.8665000200271606]"
      ]
     },
     "execution_count": 36,
     "metadata": {},
     "output_type": "execute_result"
    }
   ],
   "source": [
    "m2.evaluate(tt_x,tt_y)"
   ]
  },
  {
   "cell_type": "code",
   "execution_count": 38,
   "id": "25af039c",
   "metadata": {},
   "outputs": [
    {
     "name": "stdout",
     "output_type": "stream",
     "text": [
      "313/313 [==============================] - 0s 1ms/step - loss: 153.7139 - accuracy: 0.8520\n"
     ]
    },
    {
     "data": {
      "text/plain": [
       "[153.7139434814453, 0.8519999980926514]"
      ]
     },
     "execution_count": 38,
     "metadata": {},
     "output_type": "execute_result"
    }
   ],
   "source": [
    "m1.evaluate(tt_x,tt_y)"
   ]
  },
  {
   "cell_type": "code",
   "execution_count": null,
   "id": "a9075cbe",
   "metadata": {},
   "outputs": [],
   "source": []
  }
 ],
 "metadata": {
  "kernelspec": {
   "display_name": "Python 3 (ipykernel)",
   "language": "python",
   "name": "python3"
  },
  "language_info": {
   "codemirror_mode": {
    "name": "ipython",
    "version": 3
   },
   "file_extension": ".py",
   "mimetype": "text/x-python",
   "name": "python",
   "nbconvert_exporter": "python",
   "pygments_lexer": "ipython3",
   "version": "3.9.7"
  }
 },
 "nbformat": 4,
 "nbformat_minor": 5
}
