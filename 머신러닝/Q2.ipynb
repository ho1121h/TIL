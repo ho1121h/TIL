{
 "cells": [
  {
   "cell_type": "code",
   "execution_count": 1,
   "id": "b15772d6",
   "metadata": {},
   "outputs": [],
   "source": [
    "import numpy as np #data계산을 위한 모듈\n",
    "import pandas as pd #data 로드를 위한 모듈\n",
    "from sklearn.model_selection import train_test_split #학습 data와 태스트 data 분할 모듈\n",
    "from sklearn.preprocessing import PolynomialFeatures #피처 증가를 위한 모듈\n",
    "from sklearn.linear_model import LinearRegression ,Lasso, Ridge #선형 회기 모델 모듈\n",
    "from sklearn.preprocessing import StandardScaler #data 전처리 (중복 정보 정리)-> 벨런싱 작업\n",
    "import matplotlib.pyplot as plt #시각화 모듈"
   ]
  },
  {
   "cell_type": "code",
   "execution_count": 2,
   "id": "5a022cdf",
   "metadata": {},
   "outputs": [
    {
     "data": {
      "text/plain": [
       "dict_keys(['data', 'target', 'feature_names', 'DESCR', 'filename'])"
      ]
     },
     "execution_count": 2,
     "metadata": {},
     "output_type": "execute_result"
    }
   ],
   "source": [
    "from sklearn.datasets import load_boston\n",
    "b_data=load_boston()\n",
    "b_data.keys()"
   ]
  },
  {
   "cell_type": "code",
   "execution_count": 3,
   "id": "e04369d2",
   "metadata": {
    "scrolled": true
   },
   "outputs": [
    {
     "data": {
      "text/plain": [
       "(506,)"
      ]
     },
     "execution_count": 3,
     "metadata": {},
     "output_type": "execute_result"
    }
   ],
   "source": [
    "X=b_data.data\n",
    "Y=b_data.target\n",
    "Y.shape"
   ]
  },
  {
   "cell_type": "code",
   "execution_count": 4,
   "id": "e093ca06",
   "metadata": {
    "scrolled": false
   },
   "outputs": [
    {
     "data": {
      "text/plain": [
       "(506, 1)"
      ]
     },
     "execution_count": 4,
     "metadata": {},
     "output_type": "execute_result"
    }
   ],
   "source": [
    "#y_data=Y.reshape(Y.size,1)\n",
    "y_data=Y.reshape(-1,1)\n",
    "y_data.shape"
   ]
  },
  {
   "cell_type": "code",
   "execution_count": null,
   "id": "c47bfd41",
   "metadata": {},
   "outputs": [],
   "source": [
    "from sklearn.preprocessing import MinMaxScaler\n",
    "mm_m=MinMaxScaler(feature_range=(0,5)).fit(X)\n",
    "sc_x_data=mm_m.transform(X)"
   ]
  },
  {
   "cell_type": "markdown",
   "id": "1d9aa7e0",
   "metadata": {},
   "source": [
    " # 전처리된 data를 이용하여 코드를 완성하시오\n",
    "1. 4가지 선형 회귀 모델을 학습 (LinearRegression, Lasso, Ridge, SGDRegressor)\n",
    "2. 학습 성능 평가"
   ]
  }
 ],
 "metadata": {
  "kernelspec": {
   "display_name": "Python 3 (ipykernel)",
   "language": "python",
   "name": "python3"
  },
  "language_info": {
   "codemirror_mode": {
    "name": "ipython",
    "version": 3
   },
   "file_extension": ".py",
   "mimetype": "text/x-python",
   "name": "python",
   "nbconvert_exporter": "python",
   "pygments_lexer": "ipython3",
   "version": "3.9.7"
  }
 },
 "nbformat": 4,
 "nbformat_minor": 5
}
