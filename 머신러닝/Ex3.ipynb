{
 "cells": [
  {
   "cell_type": "markdown",
   "id": "94739ba3",
   "metadata": {},
   "source": [
    "# K-NN(k-nearest neighbors) 회귀"
   ]
  },
  {
   "cell_type": "code",
   "execution_count": 1,
   "id": "3f8fa161",
   "metadata": {
    "scrolled": false
   },
   "outputs": [],
   "source": [
    "import pandas as pd\n",
    "import numpy as np\n",
    "data=pd.read_csv('data1_all.csv')"
   ]
  },
  {
   "cell_type": "markdown",
   "id": "b803e420",
   "metadata": {},
   "source": [
    "1.data수집"
   ]
  },
  {
   "cell_type": "code",
   "execution_count": 2,
   "id": "d375133f",
   "metadata": {},
   "outputs": [],
   "source": [
    "data_X=data[['Weight','Length','Diagonal','Height','Width']].to_numpy()\n",
    "data_Y=data['Name'].to_numpy()"
   ]
  },
  {
   "cell_type": "markdown",
   "id": "298eede4",
   "metadata": {},
   "source": [
    "2.data 전처리"
   ]
  },
  {
   "cell_type": "code",
   "execution_count": 3,
   "id": "696f9bb2",
   "metadata": {},
   "outputs": [],
   "source": [
    "from sklearn.preprocessing import StandardScaler\n",
    "ss=StandardScaler().fit(data_X)\n",
    "data_X=ss.transform(data_X)"
   ]
  },
  {
   "cell_type": "markdown",
   "id": "fff7cb97",
   "metadata": {},
   "source": [
    "3.입력 data 정리"
   ]
  },
  {
   "cell_type": "code",
   "execution_count": 4,
   "id": "01666b89",
   "metadata": {},
   "outputs": [],
   "source": [
    "from sklearn.model_selection import train_test_split\n",
    "t_x,tt_x,t_y,tt_y=train_test_split(data_X,data_Y,random_state=42)"
   ]
  },
  {
   "cell_type": "markdown",
   "id": "f6a46377",
   "metadata": {},
   "source": [
    "4.모델 생성 및 학습"
   ]
  },
  {
   "cell_type": "code",
   "execution_count": 5,
   "id": "b56a4292",
   "metadata": {},
   "outputs": [
    {
     "data": {
      "text/plain": [
       "KNeighborsClassifier(n_neighbors=3)"
      ]
     },
     "execution_count": 5,
     "metadata": {},
     "output_type": "execute_result"
    }
   ],
   "source": [
    "from sklearn.neighbors import KNeighborsClassifier\n",
    "kn=KNeighborsClassifier(n_neighbors=3)\n",
    "kn.fit(t_x,t_y)"
   ]
  },
  {
   "cell_type": "markdown",
   "id": "fe361b3f",
   "metadata": {},
   "source": [
    "5.검증"
   ]
  },
  {
   "cell_type": "code",
   "execution_count": 6,
   "id": "f7c683f0",
   "metadata": {
    "scrolled": true
   },
   "outputs": [
    {
     "data": {
      "text/plain": [
       "(0.8823529411764706, 0.85)"
      ]
     },
     "execution_count": 6,
     "metadata": {},
     "output_type": "execute_result"
    }
   ],
   "source": [
    "kn.score(t_x,t_y),kn.score(tt_x,tt_y)"
   ]
  },
  {
   "cell_type": "code",
   "execution_count": 7,
   "id": "0e49dfa0",
   "metadata": {
    "scrolled": true
   },
   "outputs": [
    {
     "data": {
      "text/plain": [
       "array(['E', 'G', 'F', 'E'], dtype=object)"
      ]
     },
     "execution_count": 7,
     "metadata": {},
     "output_type": "execute_result"
    }
   ],
   "source": [
    "kn.predict(tt_x[:4])"
   ]
  },
  {
   "cell_type": "code",
   "execution_count": 8,
   "id": "cead812e",
   "metadata": {
    "scrolled": true
   },
   "outputs": [
    {
     "data": {
      "text/plain": [
       "array(['E', 'G', 'F', 'C'], dtype=object)"
      ]
     },
     "execution_count": 8,
     "metadata": {},
     "output_type": "execute_result"
    }
   ],
   "source": [
    "tt_y[:4]"
   ]
  },
  {
   "cell_type": "code",
   "execution_count": 9,
   "id": "44ff86eb",
   "metadata": {},
   "outputs": [
    {
     "name": "stdout",
     "output_type": "stream",
     "text": [
      "[[0.    0.    0.    0.    1.    0.    0.   ]\n",
      " [0.    0.    0.    0.    0.    0.    1.   ]\n",
      " [0.    0.    0.    0.    0.    1.    0.   ]\n",
      " [0.    0.333 0.    0.    0.667 0.    0.   ]]\n"
     ]
    }
   ],
   "source": [
    "print(np.round(kn.predict_proba(tt_x[:4]),decimals=3))"
   ]
  }
 ],
 "metadata": {
  "kernelspec": {
   "display_name": "Python 3 (ipykernel)",
   "language": "python",
   "name": "python3"
  },
  "language_info": {
   "codemirror_mode": {
    "name": "ipython",
    "version": 3
   },
   "file_extension": ".py",
   "mimetype": "text/x-python",
   "name": "python",
   "nbconvert_exporter": "python",
   "pygments_lexer": "ipython3",
   "version": "3.9.7"
  }
 },
 "nbformat": 4,
 "nbformat_minor": 5
}
