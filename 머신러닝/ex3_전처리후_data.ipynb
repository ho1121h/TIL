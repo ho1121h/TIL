{
 "cells": [
  {
   "cell_type": "code",
   "execution_count": 3,
   "id": "9a2abe38",
   "metadata": {},
   "outputs": [],
   "source": [
    "import pandas as pd\n",
    "import numpy as np\n",
    "train_df = pd.read_csv(\"train (1).csv\")\n",
    "test_df = pd.read_csv(\"test (2).csv\")\n",
    "\n",
    "train_id = train_df[\"PassengerId\"].values\n",
    "test_id = test_df[\"PassengerId\"].values\n",
    "\n",
    "all_df = train_df.append(test_df).set_index('PassengerId')\n",
    "all_df[\"Sex\"] = all_df[\"Sex\"].replace({\"male\":0,\"female\":1})\n",
    "\n",
    "all_df[\"Age\"].fillna(\n",
    "    all_df.groupby(\"Pclass\")[\"Age\"].transform(\"mean\"), inplace=True)\n",
    "all_df[\"cabin_count\"] = all_df[\"Cabin\"].map(\n",
    "         lambda x : len(x.split()) if type(x) == str else 0)\n",
    "def transform_status(x):\n",
    "    if \"Mrs\" in x or \"Ms\" in x:\n",
    "        return \"Mrs\"\n",
    "    elif \"Mr\" in x:\n",
    "        return \"Mr\"\n",
    "    elif \"Miss\" in x:\n",
    "        return \"Miss\"\n",
    "    elif \"Master\" in x:\n",
    "        return \"Master\"\n",
    "    elif \"Dr\" in x:\n",
    "        return \"Dr\"\n",
    "    elif \"Rev\" in x:\n",
    "        return \"Rev\"\n",
    "    elif \"Col\" in x:\n",
    "        return \"Col\"\n",
    "    else:\n",
    "        return \"0\"\n",
    "\n",
    "all_df[\"social_status\"] = all_df[\"Name\"].map(lambda x : transform_status(x))\n",
    "all_df[\"social_status\"].value_counts()\n",
    "#all_df[all_df[\"Embarked\"].isnull()]\n",
    "all_df = all_df.drop([62,830])\n",
    "train_id =np.delete(train_id, [62-1,830-1])\n",
    "#all_df[all_df[\"Fare\"].isnull()]\n",
    "all_df.groupby([\"Pclass\",\"Sex\"])[\"Fare\"].mean()\n",
    "all_df.loc[all_df[\"Fare\"].isnull(), \"Fare\"] = 12.415462\n",
    "all_df[\"cabin_type\"] = all_df[\"Cabin\"].map(lambda x : x[0] if type(x) == str else \"99\")\n",
    "del all_df[\"Cabin\"]\n",
    "del all_df[\"Name\"]\n",
    "del all_df[\"Ticket\"]\n",
    "y = all_df.loc[train_id, \"Survived\"].values\n",
    "del all_df[\"Survived\"]\n",
    "X_df = pd.get_dummies(all_df)\n",
    "X = X_df.values\n",
    "from sklearn.preprocessing import MinMaxScaler\n",
    "mm = MinMaxScaler()\n",
    "X= mm.fit_transform(X)\n"
   ]
  },
  {
   "cell_type": "code",
   "execution_count": 5,
   "id": "cf593ac3",
   "metadata": {},
   "outputs": [
    {
     "data": {
      "text/plain": [
       "((889,), (1307, 27))"
      ]
     },
     "execution_count": 5,
     "metadata": {},
     "output_type": "execute_result"
    }
   ],
   "source": [
    "y.shape,X.shape\n"
   ]
  },
  {
   "cell_type": "code",
   "execution_count": 7,
   "id": "436ff512",
   "metadata": {},
   "outputs": [],
   "source": [
    "#홀드아웃메서드 사용 안하고 나누기\n",
    "t_x=X[:len(train_id)] \n",
    "tt_x = X[len(train_id):]"
   ]
  },
  {
   "cell_type": "code",
   "execution_count": 15,
   "id": "2dd71340",
   "metadata": {},
   "outputs": [
    {
     "data": {
      "text/plain": [
       "<AxesSubplot:>"
      ]
     },
     "execution_count": 15,
     "metadata": {},
     "output_type": "execute_result"
    },
    {
     "data": {
      "image/png": "[encoded data removed]",
      "text/plain": [
       "<Figure size 432x288 with 1 Axes>"
      ]
     },
     "metadata": {
      "needs_background": "light"
     },
     "output_type": "display_data"
    }
   ],
   "source": [
    "from sklearn.tree import DecisionTreeClassifier#의사결정트리사용\n",
    "from sklearn.model_selection import cross_val_score#교차검증\n",
    "from sklearn.metrics import accuracy_score #정확도\n",
    "t_l = []\n",
    "tt_l = []\n",
    "for i in range(3,20):\n",
    "    dt = DecisionTreeClassifier(min_samples_leaf=i)\n",
    "    acc = cross_val_score(dt,t_x,y,scoring='accuracy',cv=5).mean() #cv는 쪼갬\n",
    "    t_l.append(accuracy_score(dt.fit(t_x,y).predict(t_x),y))#두개의 y값이 얼마나 정확한지 정확도 계산\n",
    "    tt_l.append(acc)\n",
    "r = pd.DataFrame(t_l,index=range(3,20),columns=['train'])\n",
    "r['test'] = tt_l\n",
    "r.plot()"
   ]
  },
  {
   "cell_type": "code",
   "execution_count": 16,
   "id": "201e1002",
   "metadata": {},
   "outputs": [
    {
     "data": {
      "text/plain": [
       "[0.9133858267716536,\n",
       " 0.9021372328458943,\n",
       " 0.889763779527559,\n",
       " 0.8796400449943758,\n",
       " 0.8740157480314961,\n",
       " 0.8717660292463442,\n",
       " 0.8695163104611924,\n",
       " 0.8650168728908887,\n",
       " 0.8638920134983127,\n",
       " 0.859392575928009,\n",
       " 0.8582677165354331,\n",
       " 0.8571428571428571,\n",
       " 0.8571428571428571,\n",
       " 0.8470191226096738,\n",
       " 0.8413948256467941,\n",
       " 0.8380202474690663,\n",
       " 0.8380202474690663]"
      ]
     },
     "execution_count": 16,
     "metadata": {},
     "output_type": "execute_result"
    }
   ],
   "source": [
    "t_l"
   ]
  },
  {
   "cell_type": "code",
   "execution_count": 17,
   "id": "9057c9a6",
   "metadata": {},
   "outputs": [
    {
     "data": {
      "text/plain": [
       "[0.7919570875388815,\n",
       " 0.7975623690725576,\n",
       " 0.815546245159652,\n",
       " 0.8110709071288008,\n",
       " 0.8132927061512094,\n",
       " 0.815552593156859,\n",
       " 0.8177870881736812,\n",
       " 0.8211642226877419,\n",
       " 0.8256649527074208,\n",
       " 0.8166317526820288,\n",
       " 0.811013775153939,\n",
       " 0.8087665841427031,\n",
       " 0.8087665841427031,\n",
       " 0.8042722021202311,\n",
       " 0.8053957976258491,\n",
       " 0.7986542245921412,\n",
       " 0.7975306290865232]"
      ]
     },
     "execution_count": 17,
     "metadata": {},
     "output_type": "execute_result"
    }
   ],
   "source": [
    "tt_l"
   ]
  },
  {
   "cell_type": "code",
   "execution_count": null,
   "id": "510d86fc",
   "metadata": {},
   "outputs": [],
   "source": []
  }
 ],
 "metadata": {
  "kernelspec": {
   "display_name": "Python 3 (ipykernel)",
   "language": "python",
   "name": "python3"
  },
  "language_info": {
   "codemirror_mode": {
    "name": "ipython",
    "version": 3
   },
   "file_extension": ".py",
   "mimetype": "text/x-python",
   "name": "python",
   "nbconvert_exporter": "python",
   "pygments_lexer": "ipython3",
   "version": "3.9.7"
  }
 },
 "nbformat": 4,
 "nbformat_minor": 5
}
