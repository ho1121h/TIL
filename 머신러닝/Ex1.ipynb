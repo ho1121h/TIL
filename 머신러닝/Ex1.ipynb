{
 "cells": [
  {
   "cell_type": "code",
   "execution_count": 1,
   "id": "e5cc8474",
   "metadata": {},
   "outputs": [
    {
     "data": {
      "text/plain": [
       "(42, 3)"
      ]
     },
     "execution_count": 1,
     "metadata": {},
     "output_type": "execute_result"
    }
   ],
   "source": [
    "import numpy as np\n",
    "import pandas as pd \n",
    "from sklearn.model_selection import train_test_split\n",
    "df=pd.read_csv('perch_full.csv')\n",
    "X=df.to_numpy()\n",
    "Y = np.array(\n",
    "    [5.9, 32.0, 40.0, 51.5, 70.0, 100.0, 78.0, 80.0, 85.0, 85.0, \n",
    "     110.0, 115.0, 125.0, 130.0, 120.0, 120.0, 130.0, 135.0, 110.0, \n",
    "     130.0, 150.0, 145.0, 150.0, 170.0, 225.0, 145.0, 188.0, 180.0, \n",
    "     197.0, 218.0, 300.0, 260.0, 265.0, 250.0, 250.0, 300.0, 320.0, \n",
    "     514.0, 556.0, 840.0, 685.0, 700.0, 700.0, 690.0, 900.0, 650.0, \n",
    "     820.0, 850.0, 900.0, 1015.0, 820.0, 1100.0, 1000.0, 1100.0, \n",
    "     1000.0, 1000.0]\n",
    "     )\n",
    "t_x,tt_x,t_y,tt_y=train_test_split(X,Y,random_state=42)\n",
    "t_x.shape"
   ]
  },
  {
   "cell_type": "code",
   "execution_count": 2,
   "id": "55c5cb19",
   "metadata": {},
   "outputs": [
    {
     "data": {
      "text/plain": [
       "array([[2., 3., 4., 6., 9.]])"
      ]
     },
     "execution_count": 2,
     "metadata": {},
     "output_type": "execute_result"
    }
   ],
   "source": [
    "from sklearn.preprocessing import PolynomialFeatures\n",
    "p_m=PolynomialFeatures(include_bias=False)# 전처리기\n",
    "p_m.fit([[2,3]])\n",
    "p_m.transform([[2,3]])"
   ]
  },
  {
   "cell_type": "code",
   "execution_count": 3,
   "id": "7efc48af",
   "metadata": {
    "scrolled": false
   },
   "outputs": [],
   "source": [
    "p_m=PolynomialFeatures(include_bias=False)\n",
    "p_m.fit(t_x)\n",
    "p_t_x=p_m.transform(t_x)\n",
    "p_tt_x=p_m.transform(tt_x)"
   ]
  },
  {
   "cell_type": "code",
   "execution_count": 4,
   "id": "d6624556",
   "metadata": {
    "scrolled": true
   },
   "outputs": [
    {
     "data": {
      "text/plain": [
       "['x0', 'x1', 'x2', 'x0^2', 'x0 x1', 'x0 x2', 'x1^2', 'x1 x2', 'x2^2']"
      ]
     },
     "execution_count": 4,
     "metadata": {},
     "output_type": "execute_result"
    }
   ],
   "source": [
    "p_m.get_feature_names()"
   ]
  },
  {
   "cell_type": "code",
   "execution_count": 5,
   "id": "f2451f80",
   "metadata": {},
   "outputs": [
    {
     "name": "stdout",
     "output_type": "stream",
     "text": [
      "0.8796419177546366 0.9559326821885706\n"
     ]
    }
   ],
   "source": [
    "from sklearn.linear_model import LinearRegression\n",
    "m_lr=LinearRegression()\n",
    "m_lr.fit(p_t_x,t_y)\n",
    "lr=LinearRegression().fit(t_x,t_y)\n",
    "print(lr.score(tt_x,tt_y),lr.score(t_x,t_y))"
   ]
  },
  {
   "cell_type": "code",
   "execution_count": 6,
   "id": "a148897f",
   "metadata": {},
   "outputs": [
    {
     "data": {
      "text/plain": [
       "0.9714559911594155"
      ]
     },
     "execution_count": 6,
     "metadata": {},
     "output_type": "execute_result"
    }
   ],
   "source": [
    "m_lr.score(p_tt_x,tt_y)"
   ]
  },
  {
   "cell_type": "code",
   "execution_count": 7,
   "id": "42c83528",
   "metadata": {
    "scrolled": true
   },
   "outputs": [
    {
     "data": {
      "text/plain": [
       "0.9903183436982125"
      ]
     },
     "execution_count": 7,
     "metadata": {},
     "output_type": "execute_result"
    }
   ],
   "source": [
    "m_lr.score(p_t_x,t_y)"
   ]
  },
  {
   "cell_type": "code",
   "execution_count": 8,
   "id": "c893fbbf",
   "metadata": {},
   "outputs": [],
   "source": [
    "p_m1=PolynomialFeatures(degree=5,include_bias=False).fit(t_x)\n",
    "d_t_x=p_m1.transform(t_x)\n",
    "d_tt_x=p_m1.transform(tt_x)"
   ]
  },
  {
   "cell_type": "code",
   "execution_count": 9,
   "id": "3fe5c69e",
   "metadata": {
    "scrolled": true
   },
   "outputs": [
    {
     "data": {
      "text/plain": [
       "(42, 55)"
      ]
     },
     "execution_count": 9,
     "metadata": {},
     "output_type": "execute_result"
    }
   ],
   "source": [
    "d_t_x.shape"
   ]
  },
  {
   "cell_type": "code",
   "execution_count": 10,
   "id": "05ecdfd8",
   "metadata": {},
   "outputs": [
    {
     "name": "stdout",
     "output_type": "stream",
     "text": [
      "-144.40744532797535 0.9999999999938143\n"
     ]
    }
   ],
   "source": [
    "m_lr1=LinearRegression().fit(d_t_x,t_y)\n",
    "print(m_lr1.score(d_tt_x,tt_y),m_lr1.score(d_t_x,t_y))"
   ]
  },
  {
   "cell_type": "code",
   "execution_count": 11,
   "id": "1264f297",
   "metadata": {},
   "outputs": [
    {
     "data": {
      "text/plain": [
       "(42, 55)"
      ]
     },
     "execution_count": 11,
     "metadata": {},
     "output_type": "execute_result"
    }
   ],
   "source": [
    "from sklearn.preprocessing import StandardScaler\n",
    "ss=StandardScaler().fit(d_t_x)\n",
    "sc_t_x= ss.transform(d_t_x)\n",
    "sc_tt_x= ss.transform(d_tt_x)\n",
    "sc_t_x.shape"
   ]
  },
  {
   "cell_type": "code",
   "execution_count": 12,
   "id": "4f26511e",
   "metadata": {},
   "outputs": [
    {
     "data": {
      "text/plain": [
       "0.9896101671037343"
      ]
     },
     "execution_count": 12,
     "metadata": {},
     "output_type": "execute_result"
    }
   ],
   "source": [
    "from sklearn.linear_model import Ridge, Lasso\n",
    "rg=Ridge().fit(sc_t_x,t_y)\n",
    "rg.score(sc_t_x,t_y)"
   ]
  },
  {
   "cell_type": "code",
   "execution_count": 13,
   "id": "d3a74104",
   "metadata": {},
   "outputs": [
    {
     "data": {
      "text/plain": [
       "0.979069397761539"
      ]
     },
     "execution_count": 13,
     "metadata": {},
     "output_type": "execute_result"
    }
   ],
   "source": [
    "rg.score(sc_tt_x,tt_y)"
   ]
  },
  {
   "cell_type": "code",
   "execution_count": 14,
   "id": "1eb53b96",
   "metadata": {},
   "outputs": [],
   "source": [
    "import matplotlib.pyplot as plt\n",
    "t_l=[]\n",
    "tt_l=[]\n",
    "ap_l=[0.001,0.01,0.1,1,10,100]\n",
    "for i in ap_l:\n",
    "    f_rg=Ridge(alpha=i).fit(sc_t_x,t_y)\n",
    "    t_l.append(f_rg.score(sc_t_x,t_y))\n",
    "    tt_l.append(f_rg.score(sc_tt_x,tt_y))"
   ]
  },
  {
   "cell_type": "code",
   "execution_count": 15,
   "id": "32944265",
   "metadata": {},
   "outputs": [
    {
     "data": {
      "text/plain": [
       "[<matplotlib.lines.Line2D at 0x27e83c17670>]"
      ]
     },
     "execution_count": 15,
     "metadata": {},
     "output_type": "execute_result"
    },
    {
     "data": {
      "image/png": "[encoded data removed]",
      "text/plain": [
       "<Figure size 432x288 with 1 Axes>"
      ]
     },
     "metadata": {
      "needs_background": "light"
     },
     "output_type": "display_data"
    }
   ],
   "source": [
    "plt.plot(np.log10(ap_l),t_l)#R^2\n",
    "plt.plot(np.log10(ap_l),tt_l)"
   ]
  },
  {
   "cell_type": "code",
   "execution_count": 16,
   "id": "db4ad08c",
   "metadata": {},
   "outputs": [
    {
     "name": "stdout",
     "output_type": "stream",
     "text": [
      "0.9903815817570368\n",
      "0.9827976465386954\n"
     ]
    }
   ],
   "source": [
    "rlr=Ridge(alpha=0.1).fit(sc_t_x,t_y)\n",
    "print(rlr.score(sc_t_x,t_y))\n",
    "print(rlr.score(sc_tt_x,tt_y))"
   ]
  },
  {
   "cell_type": "code",
   "execution_count": 17,
   "id": "53567980",
   "metadata": {},
   "outputs": [
    {
     "name": "stderr",
     "output_type": "stream",
     "text": [
      "C:\\ProgramData\\Anaconda3\\lib\\site-packages\\sklearn\\linear_model\\_coordinate_descent.py:530: ConvergenceWarning: Objective did not converge. You might want to increase the number of iterations. Duality gap: 23364.075969939724, tolerance: 518.2793833333334\n",
      "  model = cd_fast.enet_coordinate_descent(\n",
      "C:\\ProgramData\\Anaconda3\\lib\\site-packages\\sklearn\\linear_model\\_coordinate_descent.py:530: ConvergenceWarning: Objective did not converge. You might want to increase the number of iterations. Duality gap: 20251.975097475362, tolerance: 518.2793833333334\n",
      "  model = cd_fast.enet_coordinate_descent(\n",
      "C:\\ProgramData\\Anaconda3\\lib\\site-packages\\sklearn\\linear_model\\_coordinate_descent.py:530: ConvergenceWarning: Objective did not converge. You might want to increase the number of iterations. Duality gap: 806.2370926335934, tolerance: 518.2793833333334\n",
      "  model = cd_fast.enet_coordinate_descent(\n"
     ]
    },
    {
     "data": {
      "text/plain": [
       "[<matplotlib.lines.Line2D at 0x27e83d4ef70>]"
      ]
     },
     "execution_count": 17,
     "metadata": {},
     "output_type": "execute_result"
    },
    {
     "data": {
      "image/png": "[encoded data removed]",
      "text/plain": [
       "<Figure size 432x288 with 1 Axes>"
      ]
     },
     "metadata": {
      "needs_background": "light"
     },
     "output_type": "display_data"
    }
   ],
   "source": [
    "t_l=[]\n",
    "tt_l=[]\n",
    "ap_l=[0.001,0.01,0.1,1,10,100]\n",
    "for i in ap_l:\n",
    "    lo=Lasso(alpha=i).fit(sc_t_x,t_y)\n",
    "    t_l.append(lo.score(sc_t_x,t_y))\n",
    "    tt_l.append(lo.score(sc_tt_x,tt_y))\n",
    "plt.plot(np.log10(ap_l),t_l)#R^2\n",
    "plt.plot(np.log10(ap_l),tt_l)"
   ]
  },
  {
   "cell_type": "code",
   "execution_count": 18,
   "id": "614d5e56",
   "metadata": {},
   "outputs": [
    {
     "name": "stdout",
     "output_type": "stream",
     "text": [
      "0.9888067471131867 0.9824470598706695\n"
     ]
    }
   ],
   "source": [
    "lasso = Lasso(alpha=10)\n",
    "lasso.fit(sc_t_x,t_y)\n",
    "print(lasso.score(sc_t_x,t_y),lasso.score(sc_tt_x,tt_y))"
   ]
  }
 ],
 "metadata": {
  "kernelspec": {
   "display_name": "Python 3 (ipykernel)",
   "language": "python",
   "name": "python3"
  },
  "language_info": {
   "codemirror_mode": {
    "name": "ipython",
    "version": 3
   },
   "file_extension": ".py",
   "mimetype": "text/x-python",
   "name": "python",
   "nbconvert_exporter": "python",
   "pygments_lexer": "ipython3",
   "version": "3.9.7"
  }
 },
 "nbformat": 4,
 "nbformat_minor": 5
}
