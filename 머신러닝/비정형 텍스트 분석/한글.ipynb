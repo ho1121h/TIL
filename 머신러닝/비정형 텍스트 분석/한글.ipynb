{
 "cells": [
  {
   "cell_type": "code",
   "execution_count": 9,
   "id": "b1420f1c",
   "metadata": {},
   "outputs": [
    {
     "name": "stderr",
     "output_type": "stream",
     "text": [
      "C:\\Users\\ho316\\AppData\\Local\\Temp/ipykernel_21368/2399286019.py:30: FutureWarning: The default value of regex will change from True to False in a future version.\n",
      "  data['clean_X']=data.X.str.replace('[^ㄱ-ㅎㅏ-ㅣ가-힣 ]','') #한글외 정리\n",
      "C:\\Users\\ho316\\AppData\\Local\\Temp/ipykernel_21368/2399286019.py:30: SettingWithCopyWarning: \n",
      "A value is trying to be set on a copy of a slice from a DataFrame.\n",
      "Try using .loc[row_indexer,col_indexer] = value instead\n",
      "\n",
      "See the caveats in the documentation: https://pandas.pydata.org/pandas-docs/stable/user_guide/indexing.html#returning-a-view-versus-a-copy\n",
      "  data['clean_X']=data.X.str.replace('[^ㄱ-ㅎㅏ-ㅣ가-힣 ]','') #한글외 정리\n",
      "C:\\Users\\ho316\\AppData\\Local\\Temp/ipykernel_21368/2399286019.py:31: FutureWarning: The default value of regex will change from True to False in a future version.\n",
      "  data['clean_X']=data.clean_X.str.replace('^ +','')#공백 시작문자 정리\n",
      "C:\\Users\\ho316\\AppData\\Local\\Temp/ipykernel_21368/2399286019.py:31: SettingWithCopyWarning: \n",
      "A value is trying to be set on a copy of a slice from a DataFrame.\n",
      "Try using .loc[row_indexer,col_indexer] = value instead\n",
      "\n",
      "See the caveats in the documentation: https://pandas.pydata.org/pandas-docs/stable/user_guide/indexing.html#returning-a-view-versus-a-copy\n",
      "  data['clean_X']=data.clean_X.str.replace('^ +','')#공백 시작문자 정리\n",
      "C:\\Users\\ho316\\AppData\\Local\\Temp/ipykernel_21368/2399286019.py:32: SettingWithCopyWarning: \n",
      "A value is trying to be set on a copy of a slice from a DataFrame.\n",
      "Try using .loc[row_indexer,col_indexer] = value instead\n",
      "\n",
      "See the caveats in the documentation: https://pandas.pydata.org/pandas-docs/stable/user_guide/indexing.html#returning-a-view-versus-a-copy\n",
      "  data['clean_X']=data.clean_X.replace('',np.nan) #공백을 nan으로\n"
     ]
    },
    {
     "name": "stdout",
     "output_type": "stream",
     "text": [
      "결측치 확인:False\n",
      "X 중복 확인:(190994, 193518)\n",
      "y 중복 확인:(2, 193518)\n"
     ]
    },
    {
     "name": "stderr",
     "output_type": "stream",
     "text": [
      "100%|█████████████████████████████████████████████████████████████████████████| 193518/193518 [07:34<00:00, 425.48it/s]\n",
      "C:\\Users\\ho316\\anaconda3\\lib\\site-packages\\numpy\\core\\_asarray.py:83: VisibleDeprecationWarning: Creating an ndarray from ragged nested sequences (which is a list-or-tuple of lists-or-tuples-or ndarrays with different lengths or shapes) is deprecated. If you meant to do this, you must specify 'dtype=object' when creating the ndarray\n",
      "  return array(a, dtype, copy=False, order=order)\n"
     ]
    },
    {
     "name": "stdout",
     "output_type": "stream",
     "text": [
      "(107910, 68) (107910,) (57757, 68) (57757,) (26965, 68) (26965,)\n"
     ]
    }
   ],
   "source": [
    "from konlpy.tag import Okt#한글 토큰 클래스\n",
    "from tensorflow.keras.preprocessing.text import Tokenizer#토큰화 클래스\n",
    "from tensorflow.keras.preprocessing.sequence import pad_sequences#정규패딩\n",
    "from sklearn.preprocessing import LabelEncoder#수치형데이터화 클래스\n",
    "from sklearn.model_selection import train_test_split#학습테스트 스플릿\n",
    "from tensorflow.keras.utils import to_categorical#원핫인코딩화\n",
    "import numpy as np#넘파이사용\n",
    "from nltk.corpus import stopwords#불용어\n",
    "from bs4 import BeautifulSoup#웹\n",
    "import re#정규식\n",
    "from tqdm import tqdm#진행도 시각화\n",
    "import pandas as pd#판다스사용\n",
    "import numpy as np\n",
    "train_data = pd.read_table('ratings_train (1).txt')[['document','label']]\n",
    "test_data = pd.read_table('ratings_test (2).txt')[['document','label']]\n",
    "data=pd.concat((train_data,test_data),axis=0)\n",
    "\n",
    "data=data.rename(columns = {'label':'y', 'document' : 'X'}) #이름바꿈\n",
    "    #불용어 추가\n",
    "okt=Okt()#한글 명사로 토큰화 처리\n",
    "s_w=set(['은','는','이','가','를','들','에게','의','을','도','으로','만','라서','하다'])\n",
    "    #s_w.add(불용어 추가문자열) #추가할 붕용어는 add를 이용하여 입력\n",
    "okt=Okt()#형태소 분석기(자율)\n",
    "\n",
    "class 한글_전처리기:            \n",
    "    \n",
    "    def __init__(self, data):\n",
    "\n",
    "        data=data.drop_duplicates(subset=['X'])#X의 중복제거(set과 비슷)\n",
    "        data['clean_X']=data.X.str.replace('[^ㄱ-ㅎㅏ-ㅣ가-힣 ]','') #한글외 정리\n",
    "        data['clean_X']=data.clean_X.str.replace('^ +','')#공백 시작문자 정리\n",
    "        data['clean_X']=data.clean_X.replace('',np.nan) #공백을 nan으로\n",
    "        data=data.dropna(how='any') #nan값 모두 제거        \n",
    "        self.data=data\n",
    "\n",
    "    def ck_m(self):\n",
    "        print(f'결측치 확인:{self.data.isnull().values.any()}')\n",
    "        print(f\"X 중복 확인:{self.data['clean_X'].nunique(), len(self.data['clean_X'])}\\n\"\n",
    "              f\"y 중복 확인:{self.data['y'].nunique(), len(self.data['y'])}\")\n",
    "\n",
    "    def 전처리_결과_출력(self, n=1):\n",
    "        self.data['y_name']=self.data['y']#정답 이름 기록\n",
    "        self.data['encoder_y']=LabelEncoder().fit_transform(self.data['y'])#정답 수치화\n",
    "        self.data['categorical_y']=list(to_categorical(self.data['encoder_y']))#다중 정답을 위한 희소행렬화\n",
    "        #원핫인코딩 = 희소행렬\n",
    "        from tqdm import tqdm\n",
    "        X_data = []\n",
    "        for i in tqdm(self.data['clean_X']):\n",
    "            tk_d = okt.morphs(i)\n",
    "            end_d = [w for w in tk_d if not w in s_w]  # 불용어처리\n",
    "            X_data.append(' '.join(end_d))  # X데이터 최종단\n",
    "        if n == 1:  # 이진분류면 다음을 실행\n",
    "            Y=np.array(self.data['encoder_y'])#이진\n",
    "        else:  # 다중이면 다음을 실행\n",
    "            Y=to_categorical(self.data['encoder_y'])#다중\n",
    "            \n",
    "        X=np.array(X_data)#리스트를 넘파이배열화,입력정리\n",
    "\n",
    "        #학습,테스트\n",
    "        x_data,test_x,y_data,test_y = train_test_split(X,Y,test_size=0.3,random_state=0)\n",
    "        #학습2, 검증\n",
    "        train_x,val_x,train_y,val_y = train_test_split(x_data,y_data,test_size=0.2,random_state=0)\n",
    "\n",
    "\n",
    "        tk = Tokenizer()#토큰화\n",
    "        tk.fit_on_texts(train_x)#문서의 단어수 확인\n",
    "\n",
    "        #4번이하 입력단어 정리시 길이 확인\n",
    "        n=len([d for d in sorted(list(tk.word_counts.items()),key=lambda x:x[1]) if d[1]>4])+1\n",
    "        token=Tokenizer(n)#고정된 단어수로 정리\n",
    "        token.fit_on_texts(train_x)#다시 토큰화\n",
    "        token_train_x=token.texts_to_sequences(train_x)#정수화\n",
    "        token_test_x=token.texts_to_sequences(test_x)\n",
    "        token_val_x=token.texts_to_sequences(val_x)\n",
    "        #빈문장 정보 확인\n",
    "        drop_train = [index for index, sentence in enumerate(token_train_x) if len(sentence) < 1]\n",
    "        drop_test = [index for index, sentence in enumerate(token_test_x) if len(sentence) < 1]\n",
    "        drop_val = [index for index, sentence in enumerate(token_val_x) if len(sentence) < 1]\n",
    "        #필요없는 데이터를 제거\n",
    "        token_train_x = np.delete(token_train_x, drop_train, axis=0)#빈문장 정리\n",
    "        train_y = np.delete(train_y, drop_train, axis=0)#빈문장 정리\n",
    "\n",
    "        token_test_x = np.delete(token_test_x, drop_test, axis=0)#빈문장 정리\n",
    "        test_y = np.delete(test_y, drop_test, axis=0)#빈문장 정리\n",
    "\n",
    "        token_val_x = np.delete(token_val_x, drop_val, axis=0)#빈문장 정리\n",
    "        val_y = np.delete(val_y, drop_val, axis=0)#빈문장 정리\n",
    "\n",
    "        w_l = max(len(pad_sequences(token_train_x)[0]),\n",
    "                  len(pad_sequences(token_test_x)[0]),\n",
    "                  len(pad_sequences(token_val_x)[0]))\n",
    "        #패딩화 작업\n",
    "        train_inputs = pad_sequences(token_train_x,maxlen=w_l)#동일문장 길이화\n",
    "        test_inputs = pad_sequences(token_test_x,maxlen=w_l)#동일문장 길이화\n",
    "        val_inputs = pad_sequences(token_val_x,maxlen=w_l)#동일문장 길이화\n",
    "        #이름 재정의\n",
    "        train_outputs=train_y\n",
    "        test_outputs=test_y\n",
    "        val_outputs=val_y\n",
    "        #각 학습 타겟 /테스트,터겟 /검증,타겟 크기 확인, 길이가 맞춰짐을 볼 수 있다.\n",
    "        return train_inputs, train_outputs, test_inputs, test_outputs, val_inputs, val_outputs,n\n",
    "\n",
    "    \n",
    "pr_mc=한글_전처리기(data)\n",
    "pr_mc.ck_m()\n",
    "t_x,t_y,tt_x,tt_y,v_x,v_y,w_n=pr_mc.전처리_결과_출력()\n",
    "print(t_x.shape,t_y.shape,tt_x.shape,tt_y.shape,v_x.shape,v_y.shape,w_n)\n",
    "\n",
    "\n",
    "\n",
    "\n",
    "\n",
    "\n"
   ]
  },
  {
   "cell_type": "code",
   "execution_count": 10,
   "id": "823bd11c",
   "metadata": {},
   "outputs": [
    {
     "name": "stdout",
     "output_type": "stream",
     "text": [
      "(107910, 68) (107910,) (57757, 68) (57757,) (26965, 68) (26965,) 18092\n"
     ]
    }
   ],
   "source": [
    "print(t_x.shape,t_y.shape,tt_x.shape,tt_y.shape,v_x.shape,v_y.shape,w_n)"
   ]
  },
  {
   "cell_type": "code",
   "execution_count": 13,
   "id": "1606e720",
   "metadata": {},
   "outputs": [],
   "source": [
    "from tensorflow.keras.layers import Dense , Embedding,SimpleRNN,Dropout,LSTM,GRU,Layer,Bidirectional\n",
    "from tensorflow.keras.models import Sequential\n",
    "from tensorflow.keras.callbacks import EarlyStopping, ModelCheckpoint\n",
    "from tensorflow.keras.models import load_model"
   ]
  },
  {
   "cell_type": "code",
   "execution_count": 14,
   "id": "72dd3133",
   "metadata": {},
   "outputs": [],
   "source": [
    "배치크기 = 128\n",
    "총단어수= 18093\n",
    "최고문장길이=68\n",
    "임베딩길이=64\n",
    "뉴런수=64\n",
    "뉴런수2=32\n",
    "d_out=0.5\n",
    "ec=50\n",
    "배치사이즈=64"
   ]
  },
  {
   "cell_type": "code",
   "execution_count": 15,
   "id": "08cc6d64",
   "metadata": {},
   "outputs": [
    {
     "name": "stdout",
     "output_type": "stream",
     "text": [
      "Epoch 1/50\n",
      "1687/1687 [==============================] - 59s 34ms/step - loss: 0.4563 - acc: 0.7752 - val_loss: 0.3772 - val_acc: 0.8334\n",
      "\n",
      "Epoch 00001: val_acc improved from -inf to 0.83338, saving model to best_k_m1.h5\n",
      "Epoch 2/50\n",
      "1687/1687 [==============================] - 56s 33ms/step - loss: 0.3674 - acc: 0.8410 - val_loss: 0.3804 - val_acc: 0.8354\n",
      "\n",
      "Epoch 00002: val_acc improved from 0.83338 to 0.83542, saving model to best_k_m1.h5\n",
      "Epoch 3/50\n",
      "1687/1687 [==============================] - 56s 33ms/step - loss: 0.3185 - acc: 0.8670 - val_loss: 0.3697 - val_acc: 0.8406\n",
      "\n",
      "Epoch 00003: val_acc improved from 0.83542 to 0.84065, saving model to best_k_m1.h5\n",
      "Epoch 4/50\n",
      "1687/1687 [==============================] - 56s 33ms/step - loss: 0.2824 - acc: 0.8845 - val_loss: 0.3876 - val_acc: 0.8377\n",
      "\n",
      "Epoch 00004: val_acc did not improve from 0.84065\n",
      "Epoch 5/50\n",
      "1687/1687 [==============================] - 57s 34ms/step - loss: 0.2522 - acc: 0.8992 - val_loss: 0.3988 - val_acc: 0.8353\n",
      "\n",
      "Epoch 00005: val_acc did not improve from 0.84065\n",
      "Epoch 6/50\n",
      "1687/1687 [==============================] - 56s 33ms/step - loss: 0.2427 - acc: 0.9030 - val_loss: 0.4163 - val_acc: 0.8302\n",
      "\n",
      "Epoch 00006: val_acc did not improve from 0.84065\n",
      "Epoch 7/50\n",
      "1687/1687 [==============================] - 58s 34ms/step - loss: 0.2220 - acc: 0.9130 - val_loss: 0.4510 - val_acc: 0.8309\n",
      "\n",
      "Epoch 00007: val_acc did not improve from 0.84065\n",
      "Epoch 00007: early stopping\n"
     ]
    }
   ],
   "source": [
    "es = EarlyStopping(monitor='val_loss',\n",
    "                   mode='min', verbose=1, patience=4)\n",
    "mc1 = ModelCheckpoint('best_k_m1.h5', monitor='val_acc', mode='max', verbose=1, save_best_only=True)\n",
    "\n",
    "m1 = Sequential()\n",
    "m1.add(Embedding(총단어수, 임베딩길이))\n",
    "m1.add(SimpleRNN(뉴런수,dropout=d_out,return_sequences=True)) \n",
    "m1.add(SimpleRNN(뉴런수2,dropout=d_out))\n",
    "m1.add(Dense(1, activation='sigmoid'))\n",
    "m1.compile(optimizer='adam', loss='binary_crossentropy', metrics=['acc'])\n",
    "history1 = m1.fit(t_x, t_y,epochs=ec,\n",
    "                  callbacks=[es, mc1],batch_size=배치사이즈, \n",
    "                  validation_data=(v_x,v_y) )"
   ]
  },
  {
   "cell_type": "code",
   "execution_count": 16,
   "id": "09f01824",
   "metadata": {},
   "outputs": [
    {
     "data": {
      "image/png": "[encoded data removed]",
      "text/plain": [
       "<Figure size 432x288 with 1 Axes>"
      ]
     },
     "metadata": {
      "needs_background": "light"
     },
     "output_type": "display_data"
    }
   ],
   "source": [
    "import matplotlib.pyplot as plt\n",
    "ec=range(1,len(history1.history['acc'])+1)\n",
    "plt.plot(ec,history1.history['loss'])\n",
    "plt.plot(ec,history1.history['val_loss'])\n",
    "plt.show()"
   ]
  },
  {
   "cell_type": "code",
   "execution_count": 17,
   "id": "4f774b2f",
   "metadata": {},
   "outputs": [
    {
     "name": "stdout",
     "output_type": "stream",
     "text": [
      "1805/1805 [==============================] - 9s 5ms/step - loss: 0.4457 - acc: 0.8327\n"
     ]
    }
   ],
   "source": [
    "ck1=m1.evaluate(tt_x, tt_y)"
   ]
  },
  {
   "cell_type": "code",
   "execution_count": 35,
   "id": "a310ef16",
   "metadata": {},
   "outputs": [],
   "source": [
    "배치크기 = 128\n",
    "총단어수= 18093\n",
    "최고문장길이=68\n",
    "임베딩길이=64\n",
    "뉴런수=64\n",
    "뉴런수2=32\n",
    "d_out=0.5\n",
    "ec=50\n",
    "배치사이즈=64"
   ]
  },
  {
   "cell_type": "code",
   "execution_count": 36,
   "id": "520eee3f",
   "metadata": {},
   "outputs": [
    {
     "name": "stdout",
     "output_type": "stream",
     "text": [
      "Epoch 1/50\n",
      "1687/1687 [==============================] - 133s 77ms/step - loss: 0.4051 - acc: 0.8100 - val_loss: 0.3500 - val_acc: 0.8450\n",
      "\n",
      "Epoch 00001: val_acc improved from -inf to 0.84498, saving model to best_k_m2.h5\n",
      "Epoch 2/50\n",
      "1687/1687 [==============================] - 129s 77ms/step - loss: 0.3141 - acc: 0.8639 - val_loss: 0.3431 - val_acc: 0.8511\n",
      "\n",
      "Epoch 00002: val_acc improved from 0.84498 to 0.85114, saving model to best_k_m2.h5\n",
      "Epoch 3/50\n",
      "1687/1687 [==============================] - 130s 77ms/step - loss: 0.2801 - acc: 0.8804 - val_loss: 0.3494 - val_acc: 0.8526\n",
      "\n",
      "Epoch 00003: val_acc improved from 0.85114 to 0.85259, saving model to best_k_m2.h5\n",
      "Epoch 4/50\n",
      "1687/1687 [==============================] - 127s 75ms/step - loss: 0.2545 - acc: 0.8927 - val_loss: 0.3653 - val_acc: 0.8508\n",
      "\n",
      "Epoch 00004: val_acc did not improve from 0.85259\n",
      "Epoch 5/50\n",
      "1687/1687 [==============================] - 126s 75ms/step - loss: 0.2337 - acc: 0.9019 - val_loss: 0.3824 - val_acc: 0.8469\n",
      "\n",
      "Epoch 00005: val_acc did not improve from 0.85259\n",
      "Epoch 6/50\n",
      "1687/1687 [==============================] - 128s 76ms/step - loss: 0.2161 - acc: 0.9098 - val_loss: 0.3922 - val_acc: 0.8461\n",
      "\n",
      "Epoch 00006: val_acc did not improve from 0.85259\n",
      "Epoch 00006: early stopping\n"
     ]
    }
   ],
   "source": [
    "es = EarlyStopping(monitor='val_loss',\n",
    "                   mode='min', verbose=1, patience=4)\n",
    "mc2 = ModelCheckpoint('best_k_m2.h5', monitor='val_acc', mode='max', verbose=1, save_best_only=True)\n",
    "\n",
    "m2 = Sequential()\n",
    "m2.add(Embedding(총단어수, 임베딩길이))\n",
    "m2.add(LSTM(뉴런수,dropout=d_out,return_sequences=True)) \n",
    "m2.add(LSTM(뉴런수2,dropout=d_out))\n",
    "m2.add(Dense(1, activation='sigmoid'))\n",
    "m2.compile(optimizer='adam', loss='binary_crossentropy', metrics=['acc'])\n",
    "history2 = m2.fit(t_x, t_y,epochs=ec,\n",
    "                  callbacks=[es, mc2],batch_size=배치사이즈, \n",
    "                  validation_data=(v_x,v_y) )"
   ]
  },
  {
   "cell_type": "code",
   "execution_count": 24,
   "id": "14515a0a",
   "metadata": {},
   "outputs": [
    {
     "data": {
      "image/png": "[encoded data removed]",
      "text/plain": [
       "<Figure size 432x288 with 1 Axes>"
      ]
     },
     "metadata": {
      "needs_background": "light"
     },
     "output_type": "display_data"
    }
   ],
   "source": [
    "ec=range(1,len(history2.history['acc'])+1)\n",
    "plt.plot(ec,history2.history['loss'])\n",
    "plt.plot(ec,history2.history['val_loss'])\n",
    "plt.show()"
   ]
  },
  {
   "cell_type": "code",
   "execution_count": 25,
   "id": "05f0e89b",
   "metadata": {},
   "outputs": [
    {
     "name": "stdout",
     "output_type": "stream",
     "text": [
      "1805/1805 [==============================] - 22s 12ms/step - loss: 0.4041 - acc: 0.8454\n"
     ]
    }
   ],
   "source": [
    "ck2=m2.evaluate(tt_x, tt_y)"
   ]
  },
  {
   "cell_type": "code",
   "execution_count": 37,
   "id": "95012dba",
   "metadata": {},
   "outputs": [
    {
     "name": "stdout",
     "output_type": "stream",
     "text": [
      "Epoch 1/50\n",
      "1687/1687 [==============================] - 125s 72ms/step - loss: 0.4017 - acc: 0.8131 - val_loss: 0.3470 - val_acc: 0.8481\n",
      "\n",
      "Epoch 00001: val_acc improved from -inf to 0.84814, saving model to best_k_m3.h5\n",
      "Epoch 2/50\n",
      "1687/1687 [==============================] - 124s 74ms/step - loss: 0.3110 - acc: 0.8672 - val_loss: 0.3440 - val_acc: 0.8516\n",
      "\n",
      "Epoch 00002: val_acc improved from 0.84814 to 0.85162, saving model to best_k_m3.h5\n",
      "Epoch 3/50\n",
      "1687/1687 [==============================] - 126s 74ms/step - loss: 0.2778 - acc: 0.8838 - val_loss: 0.3412 - val_acc: 0.8519\n",
      "\n",
      "Epoch 00003: val_acc improved from 0.85162 to 0.85188, saving model to best_k_m3.h5\n",
      "Epoch 4/50\n",
      "1687/1687 [==============================] - 124s 74ms/step - loss: 0.2535 - acc: 0.8961 - val_loss: 0.3586 - val_acc: 0.8480\n",
      "\n",
      "Epoch 00004: val_acc did not improve from 0.85188\n",
      "Epoch 5/50\n",
      "1687/1687 [==============================] - 130s 77ms/step - loss: 0.2343 - acc: 0.9030 - val_loss: 0.3615 - val_acc: 0.8447\n",
      "\n",
      "Epoch 00005: val_acc did not improve from 0.85188\n",
      "Epoch 6/50\n",
      "1687/1687 [==============================] - 126s 75ms/step - loss: 0.2185 - acc: 0.9107 - val_loss: 0.3862 - val_acc: 0.8453\n",
      "\n",
      "Epoch 00006: val_acc did not improve from 0.85188\n",
      "Epoch 7/50\n",
      "1687/1687 [==============================] - 124s 73ms/step - loss: 0.2028 - acc: 0.9169 - val_loss: 0.4082 - val_acc: 0.8454\n",
      "\n",
      "Epoch 00007: val_acc did not improve from 0.85188\n",
      "Epoch 00007: early stopping\n"
     ]
    }
   ],
   "source": [
    "배치크기 = 128\n",
    "총단어수= 18093\n",
    "최고문장길이=68\n",
    "임베딩길이=64\n",
    "뉴런수=64\n",
    "뉴런수2=32\n",
    "d_out=0.5\n",
    "ec=50\n",
    "배치사이즈=64\n",
    "es = EarlyStopping(monitor='val_loss',\n",
    "                   mode='min', verbose=1, patience=4)\n",
    "mc3 = ModelCheckpoint('best_k_m3.h5', monitor='val_acc', mode='max', verbose=1, save_best_only=True)\n",
    "\n",
    "m3 = Sequential()\n",
    "m3.add(Embedding(총단어수, 임베딩길이))\n",
    "m3.add(GRU(뉴런수,dropout=d_out,return_sequences=True)) \n",
    "m3.add(GRU(뉴런수2,dropout=d_out))\n",
    "m3.add(Dense(1, activation='sigmoid'))\n",
    "m3.compile(optimizer='adam', loss='binary_crossentropy', metrics=['acc'])\n",
    "history3 = m3.fit(t_x, t_y,epochs=ec,\n",
    "                  callbacks=[es, mc3],batch_size=배치사이즈, \n",
    "                  validation_data=(v_x,v_y) )"
   ]
  },
  {
   "cell_type": "code",
   "execution_count": 38,
   "id": "432e4a6f",
   "metadata": {},
   "outputs": [
    {
     "data": {
      "image/png": "[encoded data removed]",
      "text/plain": [
       "<Figure size 432x288 with 1 Axes>"
      ]
     },
     "metadata": {
      "needs_background": "light"
     },
     "output_type": "display_data"
    }
   ],
   "source": [
    "ec=range(1,len(history3.history['acc'])+1)\n",
    "plt.plot(ec,history3.history['loss'])\n",
    "plt.plot(ec,history3.history['val_loss'])\n",
    "plt.show()"
   ]
  },
  {
   "cell_type": "code",
   "execution_count": 29,
   "id": "2e19d83b",
   "metadata": {},
   "outputs": [
    {
     "name": "stdout",
     "output_type": "stream",
     "text": [
      "1805/1805 [==============================] - 16s 9ms/step - loss: 0.4087 - acc: 0.8449\n"
     ]
    }
   ],
   "source": [
    "ck3=m3.evaluate(tt_x, tt_y)"
   ]
  },
  {
   "cell_type": "code",
   "execution_count": 30,
   "id": "e5cd1201",
   "metadata": {},
   "outputs": [
    {
     "name": "stdout",
     "output_type": "stream",
     "text": [
      "Epoch 1/50\n",
      "1687/1687 [==============================] - 175s 101ms/step - loss: 0.3980 - acc: 0.8154 - val_loss: 0.3556 - val_acc: 0.8432\n",
      "\n",
      "Epoch 00001: val_acc improved from -inf to 0.84317, saving model to best_K_m4.h5\n",
      "Epoch 2/50\n",
      "1687/1687 [==============================] - 172s 102ms/step - loss: 0.3067 - acc: 0.8687 - val_loss: 0.3457 - val_acc: 0.8501\n",
      "\n",
      "Epoch 00002: val_acc improved from 0.84317 to 0.85006, saving model to best_K_m4.h5\n",
      "Epoch 3/50\n",
      "1687/1687 [==============================] - 177s 105ms/step - loss: 0.2673 - acc: 0.8860 - val_loss: 0.3571 - val_acc: 0.8464\n",
      "\n",
      "Epoch 00003: val_acc did not improve from 0.85006\n",
      "Epoch 4/50\n",
      "1687/1687 [==============================] - 176s 104ms/step - loss: 0.2351 - acc: 0.9001 - val_loss: 0.3865 - val_acc: 0.8462\n",
      "\n",
      "Epoch 00004: val_acc did not improve from 0.85006\n",
      "Epoch 5/50\n",
      "1687/1687 [==============================] - 187s 111ms/step - loss: 0.2117 - acc: 0.9107 - val_loss: 0.4050 - val_acc: 0.8375\n",
      "\n",
      "Epoch 00005: val_acc did not improve from 0.85006\n",
      "Epoch 6/50\n",
      "1687/1687 [==============================] - 183s 109ms/step - loss: 0.1914 - acc: 0.9201 - val_loss: 0.4373 - val_acc: 0.8383\n",
      "\n",
      "Epoch 00006: val_acc did not improve from 0.85006\n",
      "Epoch 00006: early stopping\n"
     ]
    }
   ],
   "source": [
    "배치크기 = 128\n",
    "총단어수= 18093\n",
    "최고문장길이=68\n",
    "임베딩길이=64\n",
    "뉴런수=64\n",
    "뉴런수2=32\n",
    "d_out=0.5\n",
    "ec=50\n",
    "배치사이즈=64\n",
    "es = EarlyStopping(monitor='val_loss',\n",
    "                   mode='min', verbose=1, patience=4)\n",
    "mc4 = ModelCheckpoint('best_K_m4.h5', monitor='val_acc', mode='max', verbose=1, save_best_only=True)\n",
    "\n",
    "m4 = Sequential()\n",
    "m4.add(Embedding(총단어수, 임베딩길이))\n",
    "m4.add(Bidirectional(LSTM(뉴런수,dropout=d_out,return_sequences=True)))\n",
    "m4.add(Bidirectional(LSTM(뉴런수2,dropout=d_out)))\n",
    "m4.add(Dense(1, activation='sigmoid'))\n",
    "m4.compile(optimizer='adam', loss='binary_crossentropy', metrics=['acc'])\n",
    "history4 = m4.fit(t_x, t_y,epochs=ec,\n",
    "                  callbacks=[es, mc4],batch_size=배치사이즈, \n",
    "                  validation_data=(v_x,v_y) )"
   ]
  },
  {
   "cell_type": "code",
   "execution_count": 31,
   "id": "2288ee59",
   "metadata": {},
   "outputs": [
    {
     "data": {
      "image/png": "[encoded data removed]",
      "text/plain": [
       "<Figure size 432x288 with 1 Axes>"
      ]
     },
     "metadata": {
      "needs_background": "light"
     },
     "output_type": "display_data"
    }
   ],
   "source": [
    "ec=range(1,len(history4.history['acc'])+1)\n",
    "plt.plot(ec,history4.history['loss'])\n",
    "plt.plot(ec,history4.history['val_loss'])\n",
    "plt.show()"
   ]
  },
  {
   "cell_type": "code",
   "execution_count": 32,
   "id": "825e04ea",
   "metadata": {},
   "outputs": [
    {
     "name": "stdout",
     "output_type": "stream",
     "text": [
      "1805/1805 [==============================] - 34s 19ms/step - loss: 0.4363 - acc: 0.8383\n"
     ]
    }
   ],
   "source": [
    "ck4=m4.evaluate(tt_x, tt_y)"
   ]
  },
  {
   "cell_type": "code",
   "execution_count": 33,
   "id": "b76e5173",
   "metadata": {},
   "outputs": [
    {
     "name": "stdout",
     "output_type": "stream",
     "text": [
      "모델1:[0.4457429349422455, 0.832730233669281]\n",
      "모델2:[0.40409108996391296, 0.845352053642273]\n",
      "모델3:[0.4086989164352417, 0.8449019193649292]\n",
      "모델4:[0.43631112575531006, 0.8382880091667175]\n"
     ]
    }
   ],
   "source": [
    "print(f'모델1:{ck1}')#RNN\n",
    "print(f'모델2:{ck2}')#LSTM\n",
    "print(f'모델3:{ck3}')#GRU\n",
    "print(f'모델4:{ck4}')#양방향LSTM"
   ]
  },
  {
   "cell_type": "code",
   "execution_count": null,
   "id": "a096f7ef",
   "metadata": {},
   "outputs": [],
   "source": [
    "loaded_model = load_model('best_k_m2.h5.h5')\n",
    "loaded_model.evaluate(test_inputs,test_outputs)[1]"
   ]
  },
  {
   "cell_type": "code",
   "execution_count": null,
   "id": "9f54fc00",
   "metadata": {},
   "outputs": [],
   "source": [
    "def 문장_전처리(문장):\n",
    "    문장 = re.sub(r'[^ㄱ-ㅎㅏ-ㅣ가-힣 ]','', 문장)\n",
    "    문장 = okt.morphs(문장, stem=True)\n",
    "    문장 = [w for w in 문장 if not w in s_w] \n",
    "    encoded = token.texts_to_sequences([문장])\n",
    "    pad_new = pad_sequences(encoded, maxlen = w_l) \n",
    "    score = float(loaded_model.predict(pad_new))\n",
    "    if(score > 0.5):\n",
    "        print(f\"{score * 100:.2f}% 확률로 긍정 리뷰입니다.\\n\")\n",
    "    else:\n",
    "        print(f\"{(1 - score) * 100:.2f}% 확률로 부정 리뷰입니다.\\n\")"
   ]
  },
  {
   "cell_type": "code",
   "execution_count": null,
   "id": "438c44cd",
   "metadata": {},
   "outputs": [],
   "source": [
    "문장_전처리('재미있는 영화였어')"
   ]
  },
  {
   "cell_type": "code",
   "execution_count": null,
   "id": "02c2b2be",
   "metadata": {},
   "outputs": [],
   "source": [
    "문장_전처리('내 인생 최악의 영화였어')"
   ]
  }
 ],
 "metadata": {
  "kernelspec": {
   "display_name": "Python 3 (ipykernel)",
   "language": "python",
   "name": "python3"
  },
  "language_info": {
   "codemirror_mode": {
    "name": "ipython",
    "version": 3
   },
   "file_extension": ".py",
   "mimetype": "text/x-python",
   "name": "python",
   "nbconvert_exporter": "python",
   "pygments_lexer": "ipython3",
   "version": "3.9.7"
  }
 },
 "nbformat": 4,
 "nbformat_minor": 5
}
