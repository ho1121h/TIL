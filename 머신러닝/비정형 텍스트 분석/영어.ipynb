{
 "cells": [
  {
   "cell_type": "code",
   "execution_count": 1,
   "id": "d7620519",
   "metadata": {},
   "outputs": [
    {
     "name": "stdout",
     "output_type": "stream",
     "text": [
      "결측치 확인:False\n",
      "X 중복 확인:(5055, 5572)\n",
      "y 중복 확인:(2, 5572)\n"
     ]
    },
    {
     "name": "stderr",
     "output_type": "stream",
     "text": [
      "C:\\Users\\ho316\\AppData\\Local\\Temp/ipykernel_6640/122368909.py:39: FutureWarning: The default value of regex will change from True to False in a future version.\n",
      "  self.data['clean_X'] = self.data['clean_X'].str.replace(\"[^a-zA-Z0-9 ]\", \"\")\n",
      "C:\\Users\\ho316\\AppData\\Local\\Temp/ipykernel_6640/122368909.py:40: FutureWarning: The default value of regex will change from True to False in a future version.\n",
      "  self.data['clean_X'] = self.data['clean_X'].str.replace('^ +', \"\")\n",
      "C:\\Users\\ho316\\anaconda3\\lib\\site-packages\\numpy\\core\\_asarray.py:83: VisibleDeprecationWarning: Creating an ndarray from ragged nested sequences (which is a list-or-tuple of lists-or-tuples-or ndarrays with different lengths or shapes) is deprecated. If you meant to do this, you must specify 'dtype=object' when creating the ndarray\n",
      "  return array(a, dtype, copy=False, order=order)\n"
     ]
    },
    {
     "name": "stdout",
     "output_type": "stream",
     "text": [
      "(3071, 54) (3071,) (1640, 54) (1640,) (756, 54) (756,) 1099\n"
     ]
    }
   ],
   "source": [
    "from tensorflow.keras.preprocessing.text import Tokenizer#토큰 클래스\n",
    "from tensorflow.keras.preprocessing.sequence import pad_sequences\n",
    "from sklearn.preprocessing import LabelEncoder\n",
    "from sklearn.model_selection import train_test_split\n",
    "from tensorflow.keras.utils import to_categorical\n",
    "import numpy as np\n",
    "from nltk.corpus import stopwords\n",
    "from bs4 import BeautifulSoup\n",
    "import re\n",
    "import pandas as pd\n",
    "data = pd.read_csv('spam (1).csv',encoding='latin1')[['v1','v2']]\n",
    "data=data.rename(columns = {'v1':'y', 'v2' : 'X'})\n",
    "\n",
    "class 영어_전처리기:\n",
    "    def preprocessing(slef,X_text, remove_stopwords=False):\n",
    "        X_text = BeautifulSoup(X_text, 'lxml').get_text()\n",
    "        X_text = re.sub(\"[^a-zA-Z]\", \" \", X_text)\n",
    "        words = X_text.lower().split()\n",
    "        if remove_stopwords:\n",
    "            stops = set(stopwords.words('english'))\n",
    "            # stops.add(불용어 문자열)\n",
    "            words = [w for w in words if not w in stops]\n",
    "            clean_text = ' '.join(words)\n",
    "        else:\n",
    "            clean_text = ' '.join(words)\n",
    "\n",
    "        return clean_text\n",
    "    def __init__(self,data):#생성자(입력데이터를 받음)\n",
    "        data['clean_X'] = data['X'].apply(lambda x: self.preprocessing(X_text=x, remove_stopwords=True))\n",
    "        data['y_name'] = data['y']\n",
    "        data['encoder_y'] = LabelEncoder().fit_transform(data['y'])\n",
    "        data['categorical_y'] = list(to_categorical(data['encoder_y']))\n",
    "        self.data=data\n",
    "    def ck_m(self):\n",
    "        print(f'결측치 확인:{self.data.isnull().values.any()}')\n",
    "        print(f\"X 중복 확인:{self.data['clean_X'].nunique(),len(self.data['clean_X'])}\\n\"\n",
    "              f\"y 중복 확인:{self.data['y'].nunique(),len(self.data['y'])}\")\n",
    "    def 전처리_결과_출력(self,n=1):#매개변수가 이미주어짐\n",
    "        self.data['clean_X'] = self.data['clean_X'].str.replace(\"[^a-zA-Z0-9 ]\", \"\")\n",
    "        self.data['clean_X'] = self.data['clean_X'].str.replace('^ +', \"\")\n",
    "        self.data['clean_X'].replace('', np.nan, inplace=True)\n",
    "        self.data = self.data.dropna(how='any')\n",
    "        if n==1:#이진분류면 다음을 실행\n",
    "            Y = np.array(self.data['encoder_y'])\n",
    "        else:#다중이면 다음을 실행\n",
    "            Y = to_categorical(self.data['encoder_y'])\n",
    "        X = np.array(self.data['clean_X'])\n",
    "        x_data, test_x, y_data, test_y = train_test_split(X, Y, test_size=0.3, random_state=0)\n",
    "        train_x, val_x, train_y, val_y = train_test_split(x_data, y_data, test_size=0.2, random_state=0)\n",
    "        tk = Tokenizer()\n",
    "        tk.fit_on_texts(train_x)\n",
    "        n = len([d for d in sorted(list(tk.word_counts.items()), key=lambda x: x[1]) if d[1] > 4]) + 1\n",
    "\n",
    "        token = Tokenizer(n)\n",
    "        token.fit_on_texts(train_x)\n",
    "\n",
    "        token_train_x = token.texts_to_sequences(train_x)\n",
    "        token_test_x = token.texts_to_sequences(test_x)\n",
    "        token_val_x = token.texts_to_sequences(val_x)\n",
    "        drop_train = [index for index, sentence in enumerate(token_train_x) if len(sentence) < 1]\n",
    "        drop_test = [index for index, sentence in enumerate(token_test_x) if len(sentence) < 1]\n",
    "        drop_val = [index for index, sentence in enumerate(token_val_x) if len(sentence) < 1]\n",
    "        token_train_x = np.delete(token_train_x, drop_train, axis=0)\n",
    "        train_y = np.delete(train_y, drop_train, axis=0)\n",
    "        token_test_x = np.delete(token_test_x, drop_test, axis=0)\n",
    "        test_y = np.delete(test_y, drop_test, axis=0)\n",
    "        token_val_x = np.delete(token_val_x, drop_val, axis=0)\n",
    "        val_y = np.delete(val_y, drop_val, axis=0)\n",
    "        w_l = max(len(pad_sequences(token_train_x)[0]),\n",
    "                  len(pad_sequences(token_test_x)[0]),\n",
    "                  len(pad_sequences(token_val_x)[0]))\n",
    "        train_inputs = pad_sequences(token_train_x, maxlen=w_l)\n",
    "        test_inputs = pad_sequences(token_test_x, maxlen=w_l)\n",
    "        val_inputs = pad_sequences(token_val_x, maxlen=w_l)\n",
    "        train_outputs = train_y\n",
    "        test_outputs = test_y\n",
    "        val_outputs = val_y\n",
    "        return train_inputs,train_outputs,test_inputs,test_outputs,val_inputs,val_outputs,n\n",
    "pr_mc=영어_전처리기(data)\n",
    "pr_mc.ck_m()\n",
    "t_x,t_y,tt_x,tt_y,v_x,v_y,n=pr_mc.전처리_결과_출력()\n",
    "print(t_x.shape,t_y.shape,tt_x.shape,tt_y.shape,v_x.shape,v_y.shape,n)"
   ]
  },
  {
   "cell_type": "code",
   "execution_count": 2,
   "id": "71a59c71",
   "metadata": {},
   "outputs": [],
   "source": [
    "from tensorflow.keras.layers import Dense , Embedding,SimpleRNN,Dropout,LSTM,GRU,Layer,Bidirectional\n",
    "from tensorflow.keras.models import Sequential\n",
    "from tensorflow.keras.callbacks import EarlyStopping, ModelCheckpoint\n",
    "from tensorflow.keras.models import load_model"
   ]
  },
  {
   "cell_type": "code",
   "execution_count": 3,
   "id": "5e834904",
   "metadata": {},
   "outputs": [],
   "source": [
    "배치크기 = 128\n",
    "총단어수= 1100\n",
    "최고문장길이=54\n",
    "임베딩길이=64\n",
    "뉴런수=64\n",
    "뉴런수2=32\n",
    "d_out=0.5\n",
    "ec=50\n",
    "배치사이즈=64"
   ]
  },
  {
   "cell_type": "code",
   "execution_count": 4,
   "id": "6b541c91",
   "metadata": {},
   "outputs": [
    {
     "name": "stdout",
     "output_type": "stream",
     "text": [
      "Epoch 1/50\n",
      "48/48 [==============================] - 3s 32ms/step - loss: 0.3227 - acc: 0.8877 - val_loss: 0.1933 - val_acc: 0.9458\n",
      "\n",
      "Epoch 00001: val_acc improved from -inf to 0.94577, saving model to best_e_m1.h5\n",
      "Epoch 2/50\n",
      "48/48 [==============================] - 1s 23ms/step - loss: 0.1072 - acc: 0.9684 - val_loss: 0.1003 - val_acc: 0.9735\n",
      "\n",
      "Epoch 00002: val_acc improved from 0.94577 to 0.97354, saving model to best_e_m1.h5\n",
      "Epoch 3/50\n",
      "48/48 [==============================] - 1s 23ms/step - loss: 0.0649 - acc: 0.9818 - val_loss: 0.0862 - val_acc: 0.9762\n",
      "\n",
      "Epoch 00003: val_acc improved from 0.97354 to 0.97619, saving model to best_e_m1.h5\n",
      "Epoch 4/50\n",
      "48/48 [==============================] - 1s 23ms/step - loss: 0.0435 - acc: 0.9893 - val_loss: 0.0686 - val_acc: 0.9815\n",
      "\n",
      "Epoch 00004: val_acc improved from 0.97619 to 0.98148, saving model to best_e_m1.h5\n",
      "Epoch 5/50\n",
      "48/48 [==============================] - 1s 21ms/step - loss: 0.0267 - acc: 0.9932 - val_loss: 0.0739 - val_acc: 0.9802\n",
      "\n",
      "Epoch 00005: val_acc did not improve from 0.98148\n",
      "Epoch 6/50\n",
      "48/48 [==============================] - 1s 22ms/step - loss: 0.0236 - acc: 0.9941 - val_loss: 0.0698 - val_acc: 0.9841\n",
      "\n",
      "Epoch 00006: val_acc improved from 0.98148 to 0.98413, saving model to best_e_m1.h5\n",
      "Epoch 7/50\n",
      "48/48 [==============================] - 1s 21ms/step - loss: 0.0187 - acc: 0.9958 - val_loss: 0.0785 - val_acc: 0.9854\n",
      "\n",
      "Epoch 00007: val_acc improved from 0.98413 to 0.98545, saving model to best_e_m1.h5\n",
      "Epoch 8/50\n",
      "48/48 [==============================] - 1s 21ms/step - loss: 0.0153 - acc: 0.9958 - val_loss: 0.0739 - val_acc: 0.9841\n",
      "\n",
      "Epoch 00008: val_acc did not improve from 0.98545\n",
      "Epoch 00008: early stopping\n"
     ]
    }
   ],
   "source": [
    "es = EarlyStopping(monitor='val_loss',\n",
    "                   mode='min', verbose=1, patience=4)\n",
    "mc1 = ModelCheckpoint('best_e_m1.h5', monitor='val_acc', mode='max', verbose=1, save_best_only=True)\n",
    "\n",
    "m1 = Sequential()\n",
    "m1.add(Embedding(총단어수, 임베딩길이))\n",
    "m1.add(SimpleRNN(뉴런수,dropout=d_out,return_sequences=True)) \n",
    "m1.add(SimpleRNN(뉴런수2,dropout=d_out))\n",
    "m1.add(Dense(1, activation='sigmoid'))\n",
    "m1.compile(optimizer='adam', loss='binary_crossentropy', metrics=['acc'])\n",
    "history1 = m1.fit(t_x, t_y,epochs=ec,\n",
    "                  callbacks=[es, mc1],batch_size=배치사이즈, \n",
    "                  validation_data=(v_x,v_y) )"
   ]
  },
  {
   "cell_type": "code",
   "execution_count": 5,
   "id": "8ef1a59e",
   "metadata": {},
   "outputs": [
    {
     "data": {
      "image/png": "[encoded data removed]",
      "text/plain": [
       "<Figure size 432x288 with 1 Axes>"
      ]
     },
     "metadata": {
      "needs_background": "light"
     },
     "output_type": "display_data"
    }
   ],
   "source": [
    "import matplotlib.pyplot as plt\n",
    "ec=range(1,len(history1.history['acc'])+1)\n",
    "plt.plot(ec,history1.history['loss'])\n",
    "plt.plot(ec,history1.history['val_loss'])\n",
    "plt.show()"
   ]
  },
  {
   "cell_type": "code",
   "execution_count": 6,
   "id": "41900dd7",
   "metadata": {},
   "outputs": [
    {
     "name": "stdout",
     "output_type": "stream",
     "text": [
      "52/52 [==============================] - 0s 5ms/step - loss: 0.0757 - acc: 0.9811\n"
     ]
    }
   ],
   "source": [
    "ck1=m1.evaluate(tt_x, tt_y)"
   ]
  },
  {
   "cell_type": "code",
   "execution_count": 7,
   "id": "54833ddc",
   "metadata": {},
   "outputs": [
    {
     "name": "stdout",
     "output_type": "stream",
     "text": [
      "Epoch 1/50\n",
      "48/48 [==============================] - 6s 67ms/step - loss: 0.4102 - acc: 0.8535 - val_loss: 0.2985 - val_acc: 0.8690\n",
      "\n",
      "Epoch 00001: val_acc improved from -inf to 0.86905, saving model to best_e_m2.h5\n",
      "Epoch 2/50\n",
      "48/48 [==============================] - 2s 50ms/step - loss: 0.1612 - acc: 0.9499 - val_loss: 0.1060 - val_acc: 0.9709\n",
      "\n",
      "Epoch 00002: val_acc improved from 0.86905 to 0.97090, saving model to best_e_m2.h5\n",
      "Epoch 3/50\n",
      "48/48 [==============================] - 2s 49ms/step - loss: 0.0690 - acc: 0.9837 - val_loss: 0.0657 - val_acc: 0.9815\n",
      "\n",
      "Epoch 00003: val_acc improved from 0.97090 to 0.98148, saving model to best_e_m2.h5\n",
      "Epoch 4/50\n",
      "48/48 [==============================] - 2s 49ms/step - loss: 0.0444 - acc: 0.9889 - val_loss: 0.0607 - val_acc: 0.9841\n",
      "\n",
      "Epoch 00004: val_acc improved from 0.98148 to 0.98413, saving model to best_e_m2.h5\n",
      "Epoch 5/50\n",
      "48/48 [==============================] - 2s 50ms/step - loss: 0.0299 - acc: 0.9925 - val_loss: 0.0613 - val_acc: 0.9854\n",
      "\n",
      "Epoch 00005: val_acc improved from 0.98413 to 0.98545, saving model to best_e_m2.h5\n",
      "Epoch 6/50\n",
      "48/48 [==============================] - 2s 50ms/step - loss: 0.0207 - acc: 0.9938 - val_loss: 0.0709 - val_acc: 0.9828\n",
      "\n",
      "Epoch 00006: val_acc did not improve from 0.98545\n",
      "Epoch 7/50\n",
      "48/48 [==============================] - 2s 51ms/step - loss: 0.0151 - acc: 0.9967 - val_loss: 0.0655 - val_acc: 0.9881\n",
      "\n",
      "Epoch 00007: val_acc improved from 0.98545 to 0.98810, saving model to best_e_m2.h5\n",
      "Epoch 8/50\n",
      "48/48 [==============================] - 2s 49ms/step - loss: 0.0109 - acc: 0.9980 - val_loss: 0.0733 - val_acc: 0.9881\n",
      "\n",
      "Epoch 00008: val_acc did not improve from 0.98810\n",
      "Epoch 00008: early stopping\n"
     ]
    }
   ],
   "source": [
    "배치크기 = 128\n",
    "총단어수= 1100\n",
    "최고문장길이=54\n",
    "임베딩길이=64\n",
    "뉴런수=64\n",
    "뉴런수2=32\n",
    "d_out=0.5\n",
    "ec=50\n",
    "배치사이즈=64\n",
    "\n",
    "es = EarlyStopping(monitor='val_loss',\n",
    "                   mode='min', verbose=1, patience=4)\n",
    "mc2 = ModelCheckpoint('best_e_m2.h5', monitor='val_acc', mode='max', verbose=1, save_best_only=True)\n",
    "\n",
    "m2 = Sequential()\n",
    "m2.add(Embedding(총단어수, 임베딩길이))\n",
    "m2.add(LSTM(뉴런수,dropout=d_out,return_sequences=True)) \n",
    "m2.add(LSTM(뉴런수2,dropout=d_out))\n",
    "m2.add(Dense(1, activation='sigmoid'))\n",
    "m2.compile(optimizer='adam', loss='binary_crossentropy', metrics=['acc'])\n",
    "history2 = m2.fit(t_x, t_y,epochs=ec,\n",
    "                  callbacks=[es, mc2],batch_size=배치사이즈, \n",
    "                  validation_data=(v_x,v_y) )"
   ]
  },
  {
   "cell_type": "code",
   "execution_count": 8,
   "id": "2c59cc37",
   "metadata": {},
   "outputs": [
    {
     "data": {
      "image/png": "[encoded data removed]",
      "text/plain": [
       "<Figure size 432x288 with 1 Axes>"
      ]
     },
     "metadata": {
      "needs_background": "light"
     },
     "output_type": "display_data"
    }
   ],
   "source": [
    "ec=range(1,len(history2.history['acc'])+1)\n",
    "plt.plot(ec,history2.history['loss'])\n",
    "plt.plot(ec,history2.history['val_loss'])\n",
    "plt.show()"
   ]
  },
  {
   "cell_type": "code",
   "execution_count": 9,
   "id": "a51089d2",
   "metadata": {},
   "outputs": [
    {
     "name": "stdout",
     "output_type": "stream",
     "text": [
      "52/52 [==============================] - 1s 10ms/step - loss: 0.0748 - acc: 0.9848\n"
     ]
    }
   ],
   "source": [
    "ck2=m2.evaluate(tt_x, tt_y)"
   ]
  },
  {
   "cell_type": "code",
   "execution_count": 10,
   "id": "7f2e5705",
   "metadata": {},
   "outputs": [
    {
     "name": "stdout",
     "output_type": "stream",
     "text": [
      "Epoch 1/50\n",
      "48/48 [==============================] - 6s 58ms/step - loss: 0.3564 - acc: 0.8785 - val_loss: 0.1733 - val_acc: 0.9431\n",
      "\n",
      "Epoch 00001: val_acc improved from -inf to 0.94312, saving model to best_e_m3.h5\n",
      "Epoch 2/50\n",
      "48/48 [==============================] - 2s 48ms/step - loss: 0.0838 - acc: 0.9775 - val_loss: 0.0695 - val_acc: 0.9828\n",
      "\n",
      "Epoch 00002: val_acc improved from 0.94312 to 0.98280, saving model to best_e_m3.h5\n",
      "Epoch 3/50\n",
      "48/48 [==============================] - 2s 49ms/step - loss: 0.0426 - acc: 0.9876 - val_loss: 0.0597 - val_acc: 0.9868\n",
      "\n",
      "Epoch 00003: val_acc improved from 0.98280 to 0.98677, saving model to best_e_m3.h5\n",
      "Epoch 4/50\n",
      "48/48 [==============================] - 2s 47ms/step - loss: 0.0260 - acc: 0.9922 - val_loss: 0.0634 - val_acc: 0.9868\n",
      "\n",
      "Epoch 00004: val_acc did not improve from 0.98677\n",
      "Epoch 5/50\n",
      "48/48 [==============================] - 2s 51ms/step - loss: 0.0175 - acc: 0.9951 - val_loss: 0.0669 - val_acc: 0.9868\n",
      "\n",
      "Epoch 00005: val_acc did not improve from 0.98677\n",
      "Epoch 6/50\n",
      "48/48 [==============================] - 2s 51ms/step - loss: 0.0132 - acc: 0.9964 - val_loss: 0.0765 - val_acc: 0.9868\n",
      "\n",
      "Epoch 00006: val_acc did not improve from 0.98677\n",
      "Epoch 7/50\n",
      "48/48 [==============================] - 2s 48ms/step - loss: 0.0074 - acc: 0.9984 - val_loss: 0.0796 - val_acc: 0.9828\n",
      "\n",
      "Epoch 00007: val_acc did not improve from 0.98677\n",
      "Epoch 00007: early stopping\n"
     ]
    }
   ],
   "source": [
    "배치크기 = 128\n",
    "총단어수= 1100\n",
    "최고문장길이=54\n",
    "임베딩길이=64\n",
    "뉴런수=64\n",
    "뉴런수2=32\n",
    "d_out=0.5\n",
    "ec=50\n",
    "배치사이즈=64\n",
    "es = EarlyStopping(monitor='val_loss',\n",
    "                   mode='min', verbose=1, patience=4)\n",
    "mc3 = ModelCheckpoint('best_e_m3.h5', monitor='val_acc', mode='max', verbose=1, save_best_only=True)\n",
    "\n",
    "m3 = Sequential()\n",
    "m3.add(Embedding(총단어수, 임베딩길이))\n",
    "m3.add(GRU(뉴런수,dropout=d_out,return_sequences=True)) \n",
    "m3.add(GRU(뉴런수2,dropout=d_out))\n",
    "m3.add(Dense(1, activation='sigmoid'))\n",
    "m3.compile(optimizer='adam', loss='binary_crossentropy', metrics=['acc'])\n",
    "history3 = m3.fit(t_x, t_y,epochs=ec,\n",
    "                  callbacks=[es, mc3],batch_size=배치사이즈, \n",
    "                  validation_data=(v_x,v_y) )"
   ]
  },
  {
   "cell_type": "code",
   "execution_count": 11,
   "id": "3c109d78",
   "metadata": {},
   "outputs": [
    {
     "data": {
      "image/png": "[encoded data removed]",
      "text/plain": [
       "<Figure size 432x288 with 1 Axes>"
      ]
     },
     "metadata": {
      "needs_background": "light"
     },
     "output_type": "display_data"
    }
   ],
   "source": [
    "ec=range(1,len(history3.history['acc'])+1)\n",
    "plt.plot(ec,history3.history['loss'])\n",
    "plt.plot(ec,history3.history['val_loss'])\n",
    "plt.show()"
   ]
  },
  {
   "cell_type": "code",
   "execution_count": 12,
   "id": "2a537810",
   "metadata": {},
   "outputs": [
    {
     "name": "stdout",
     "output_type": "stream",
     "text": [
      "52/52 [==============================] - 0s 8ms/step - loss: 0.0731 - acc: 0.9841\n"
     ]
    }
   ],
   "source": [
    "ck3=m3.evaluate(tt_x, tt_y)"
   ]
  },
  {
   "cell_type": "code",
   "execution_count": 13,
   "id": "5f29c8d2",
   "metadata": {},
   "outputs": [
    {
     "name": "stdout",
     "output_type": "stream",
     "text": [
      "Epoch 1/50\n",
      "48/48 [==============================] - 10s 105ms/step - loss: 0.3803 - acc: 0.8681 - val_loss: 0.2477 - val_acc: 0.8677\n",
      "\n",
      "Epoch 00001: val_acc improved from -inf to 0.86772, saving model to best_e_m4.h5\n",
      "Epoch 2/50\n",
      "48/48 [==============================] - 4s 89ms/step - loss: 0.1185 - acc: 0.9652 - val_loss: 0.0870 - val_acc: 0.9762\n",
      "\n",
      "Epoch 00002: val_acc improved from 0.86772 to 0.97619, saving model to best_e_m4.h5\n",
      "Epoch 3/50\n",
      "48/48 [==============================] - 4s 83ms/step - loss: 0.0584 - acc: 0.9860 - val_loss: 0.0647 - val_acc: 0.9868\n",
      "\n",
      "Epoch 00003: val_acc improved from 0.97619 to 0.98677, saving model to best_e_m4.h5\n",
      "Epoch 4/50\n",
      "48/48 [==============================] - 4s 83ms/step - loss: 0.0333 - acc: 0.9922 - val_loss: 0.0659 - val_acc: 0.9841\n",
      "\n",
      "Epoch 00004: val_acc did not improve from 0.98677\n",
      "Epoch 5/50\n",
      "48/48 [==============================] - 4s 82ms/step - loss: 0.0222 - acc: 0.9958 - val_loss: 0.0707 - val_acc: 0.9868\n",
      "\n",
      "Epoch 00005: val_acc did not improve from 0.98677\n",
      "Epoch 6/50\n",
      "48/48 [==============================] - 4s 77ms/step - loss: 0.0159 - acc: 0.9961 - val_loss: 0.0704 - val_acc: 0.9828\n",
      "\n",
      "Epoch 00006: val_acc did not improve from 0.98677\n",
      "Epoch 7/50\n",
      "48/48 [==============================] - 4s 75ms/step - loss: 0.0101 - acc: 0.9971 - val_loss: 0.0826 - val_acc: 0.9868\n",
      "\n",
      "Epoch 00007: val_acc did not improve from 0.98677\n",
      "Epoch 00007: early stopping\n"
     ]
    }
   ],
   "source": [
    "배치크기 = 128\n",
    "총단어수= 1100\n",
    "최고문장길이=54\n",
    "임베딩길이=64\n",
    "뉴런수=64\n",
    "뉴런수2=32\n",
    "d_out=0.5\n",
    "ec=50\n",
    "배치사이즈=64\n",
    "es = EarlyStopping(monitor='val_loss',\n",
    "                   mode='min', verbose=1, patience=4)\n",
    "mc4 = ModelCheckpoint('best_e_m4.h5', monitor='val_acc', mode='max', verbose=1, save_best_only=True)\n",
    "\n",
    "m4 = Sequential()\n",
    "m4.add(Embedding(총단어수, 임베딩길이))\n",
    "m4.add(Bidirectional(LSTM(뉴런수,dropout=d_out,return_sequences=True)))\n",
    "m4.add(Bidirectional(LSTM(뉴런수2,dropout=d_out)))\n",
    "m4.add(Dense(1, activation='sigmoid'))\n",
    "m4.compile(optimizer='adam', loss='binary_crossentropy', metrics=['acc'])\n",
    "history4 = m4.fit(t_x, t_y,epochs=ec,\n",
    "                  callbacks=[es, mc4],batch_size=배치사이즈, \n",
    "                  validation_data=(v_x,v_y) )"
   ]
  },
  {
   "cell_type": "code",
   "execution_count": 14,
   "id": "1376c0e6",
   "metadata": {},
   "outputs": [
    {
     "data": {
      "image/png": "[encoded data removed]",
      "text/plain": [
       "<Figure size 432x288 with 1 Axes>"
      ]
     },
     "metadata": {
      "needs_background": "light"
     },
     "output_type": "display_data"
    }
   ],
   "source": [
    "ec=range(1,len(history4.history['acc'])+1)\n",
    "plt.plot(ec,history4.history['loss'])\n",
    "plt.plot(ec,history4.history['val_loss'])\n",
    "plt.show()"
   ]
  },
  {
   "cell_type": "code",
   "execution_count": 15,
   "id": "125a826b",
   "metadata": {},
   "outputs": [
    {
     "name": "stdout",
     "output_type": "stream",
     "text": [
      "52/52 [==============================] - 1s 12ms/step - loss: 0.0830 - acc: 0.9823\n"
     ]
    }
   ],
   "source": [
    "ck4=m4.evaluate(tt_x, tt_y)"
   ]
  },
  {
   "cell_type": "code",
   "execution_count": 24,
   "id": "71b681e3",
   "metadata": {},
   "outputs": [
    {
     "name": "stdout",
     "output_type": "stream",
     "text": [
      "모델1:[0.07571697235107422, 0.9810975790023804]\n",
      "모델2:[0.07483036071062088, 0.9847561120986938]\n",
      "모델3:[0.07305466383695602, 0.9841463565826416]\n",
      "모델4:[0.08301953226327896, 0.9823170900344849]\n"
     ]
    }
   ],
   "source": [
    "print(f'모델1:{ck1}')#RNN\n",
    "print(f'모델2:{ck2}')#LSTM#best_e_m2.h5\n",
    "print(f'모델3:{ck3}')#GRU\n",
    "print(f'모델4:{ck4}')#양방향LSTM"
   ]
  },
  {
   "cell_type": "code",
   "execution_count": null,
   "id": "e352863f",
   "metadata": {},
   "outputs": [],
   "source": []
  },
  {
   "cell_type": "code",
   "execution_count": null,
   "id": "0324591a",
   "metadata": {},
   "outputs": [],
   "source": []
  },
  {
   "cell_type": "code",
   "execution_count": null,
   "id": "e6542780",
   "metadata": {},
   "outputs": [],
   "source": []
  },
  {
   "cell_type": "code",
   "execution_count": null,
   "id": "59ff34f6",
   "metadata": {},
   "outputs": [],
   "source": []
  },
  {
   "cell_type": "code",
   "execution_count": null,
   "id": "a279ab22",
   "metadata": {},
   "outputs": [],
   "source": []
  },
  {
   "cell_type": "code",
   "execution_count": null,
   "id": "ca33a29b",
   "metadata": {},
   "outputs": [],
   "source": []
  },
  {
   "cell_type": "code",
   "execution_count": null,
   "id": "7d3291d3",
   "metadata": {},
   "outputs": [],
   "source": []
  }
 ],
 "metadata": {
  "kernelspec": {
   "display_name": "Python 3 (ipykernel)",
   "language": "python",
   "name": "python3"
  },
  "language_info": {
   "codemirror_mode": {
    "name": "ipython",
    "version": 3
   },
   "file_extension": ".py",
   "mimetype": "text/x-python",
   "name": "python",
   "nbconvert_exporter": "python",
   "pygments_lexer": "ipython3",
   "version": "3.9.7"
  }
 },
 "nbformat": 4,
 "nbformat_minor": 5
}
