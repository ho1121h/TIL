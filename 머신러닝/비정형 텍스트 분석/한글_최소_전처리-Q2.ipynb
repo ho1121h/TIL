{
 "cells": [
  {
   "cell_type": "markdown",
   "id": "064e6bac",
   "metadata": {},
   "source": [
    "## 자연어 전처리-한글"
   ]
  },
  {
   "cell_type": "code",
   "execution_count": 5,
   "id": "1244f019",
   "metadata": {},
   "outputs": [],
   "source": [
    "from konlpy.tag import Okt\n",
    "from tensorflow.keras.preprocessing.text import Tokenizer\n",
    "from tensorflow.keras.preprocessing.sequence import pad_sequences\n",
    "from sklearn.preprocessing import LabelEncoder\n",
    "from sklearn.model_selection import train_test_split\n",
    "from tensorflow.keras.utils import to_categorical\n",
    "import numpy as np\n",
    "from nltk.corpus import stopwords\n",
    "from bs4 import BeautifulSoup\n",
    "import re\n",
    "from tqdm import tqdm\n",
    "import pandas as pd\n",
    "import numpy as np\n",
    "import matplotlib.pyplot as plt\n",
    "from tensorflow.keras.models import load_model"
   ]
  },
  {
   "cell_type": "code",
   "execution_count": 2,
   "id": "03bef5b0",
   "metadata": {},
   "outputs": [],
   "source": [
    "train_data = pd.read_table('ratings_train.txt')[['document','label']]\n",
    "test_data = pd.read_table('ratings_test.txt')[['document','label']]\n",
    "data=pd.concat((train_data,test_data),axis=0)"
   ]
  },
  {
   "cell_type": "code",
   "execution_count": 3,
   "id": "6fc68c7c",
   "metadata": {
    "scrolled": true
   },
   "outputs": [],
   "source": [
    "data=data.rename(columns = {'label':'y', 'document' : 'X'})#데이터 프레임 열이름 변경"
   ]
  },
  {
   "cell_type": "code",
   "execution_count": 4,
   "id": "86c940c1",
   "metadata": {},
   "outputs": [],
   "source": [
    "s_w=set(['은','는','이','가','를','들','에게','의','을','도','으로','만','라서','하다'])#불용어 정의\n",
    "#s_w.add(불용어 추가문자열)#추가할 불용어는 add를 이용하여 입력\n",
    "okt=Okt()#형태소 분석기(자율)"
   ]
  },
  {
   "cell_type": "code",
   "execution_count": 5,
   "id": "0a9de05a",
   "metadata": {
    "scrolled": true
   },
   "outputs": [
    {
     "data": {
      "text/plain": [
       "True"
      ]
     },
     "execution_count": 5,
     "metadata": {},
     "output_type": "execute_result"
    }
   ],
   "source": [
    "data.isnull().values.any()#결측치 확인"
   ]
  },
  {
   "cell_type": "code",
   "execution_count": 6,
   "id": "d196d1df",
   "metadata": {
    "scrolled": true
   },
   "outputs": [
    {
     "data": {
      "text/plain": [
       "(194543, 2)"
      ]
     },
     "execution_count": 6,
     "metadata": {},
     "output_type": "execute_result"
    }
   ],
   "source": [
    "data['X'].nunique(), data['y'].nunique()#중복확인"
   ]
  },
  {
   "cell_type": "code",
   "execution_count": 7,
   "id": "e14674e9",
   "metadata": {
    "scrolled": true
   },
   "outputs": [
    {
     "name": "stderr",
     "output_type": "stream",
     "text": [
      "C:\\Users\\student\\AppData\\Local\\Temp/ipykernel_15080/3642056730.py:2: FutureWarning: The default value of regex will change from True to False in a future version.\n",
      "  data['clean_X']=data.X.str.replace('[^ㄱ-ㅎㅏ-ㅣ가-힣 ]','')#한글외 정리\n",
      "C:\\Users\\student\\AppData\\Local\\Temp/ipykernel_15080/3642056730.py:3: FutureWarning: The default value of regex will change from True to False in a future version.\n",
      "  data['clean_X']=data.clean_X.str.replace('^ +','')#공백 시작문자 정리\n"
     ]
    }
   ],
   "source": [
    "data=data.drop_duplicates(subset=['X'])#중복제거\n",
    "data['clean_X']=data.X.str.replace('[^ㄱ-ㅎㅏ-ㅣ가-힣 ]','')#한글외 정리 \n",
    "data['clean_X']=data.clean_X.str.replace('^ +','')#공백 시작문자 정리\n",
    "data['clean_X']=data.clean_X.replace('',np.nan) #공백 NaN화\n",
    "data=data.dropna(how='any') #NaN데이터 정리"
   ]
  },
  {
   "cell_type": "code",
   "execution_count": 8,
   "id": "d90bb317",
   "metadata": {
    "scrolled": true
   },
   "outputs": [
    {
     "name": "stderr",
     "output_type": "stream",
     "text": [
      "100%|█████████████████████████████████████████████████████████████████████████| 193518/193518 [05:45<00:00, 559.75it/s]\n"
     ]
    }
   ],
   "source": [
    "okt=Okt()\n",
    "from tqdm import tqdm \n",
    "X_data=[] \n",
    "for i in tqdm(data['clean_X']): \n",
    "    tk_d=okt.morphs(i) \n",
    "    end_d=[w for w in tk_d if not w in s_w]#불용어 처리 \n",
    "    X_data.append(' '.join(end_d))"
   ]
  },
  {
   "cell_type": "code",
   "execution_count": 9,
   "id": "d5aa3ef8",
   "metadata": {
    "scrolled": false
   },
   "outputs": [],
   "source": [
    "data['y_name']=data['y']#정답 이름 기록\n",
    "data['encoder_y']=LabelEncoder().fit_transform(data['y'])#정답 숫자화\n",
    "data['categorical_y']=list(to_categorical(data['encoder_y']))#다중 정답을 위한 희소행렬화"
   ]
  },
  {
   "cell_type": "code",
   "execution_count": 10,
   "id": "126fc21b",
   "metadata": {},
   "outputs": [],
   "source": [
    "Y=np.array(data['encoder_y'])#이진\n",
    "#Y=to_categorical(data['encoder_y'])#다중"
   ]
  },
  {
   "cell_type": "code",
   "execution_count": 11,
   "id": "7c737ea8",
   "metadata": {},
   "outputs": [],
   "source": [
    "X=np.array(X_data)#입력정리"
   ]
  },
  {
   "cell_type": "code",
   "execution_count": 12,
   "id": "ea13f5a5",
   "metadata": {},
   "outputs": [],
   "source": [
    "x_data,test_x,y_data,test_y = train_test_split(X,Y,test_size=0.3,random_state=0)#태스트데이터 분할"
   ]
  },
  {
   "cell_type": "code",
   "execution_count": 13,
   "id": "58048d6b",
   "metadata": {},
   "outputs": [],
   "source": [
    "train_x,val_x,train_y,val_y = train_test_split(x_data,y_data,test_size=0.2,random_state=0)#학습, 검증 데이터 분할"
   ]
  },
  {
   "cell_type": "code",
   "execution_count": 14,
   "id": "2615ea23",
   "metadata": {},
   "outputs": [
    {
     "data": {
      "text/plain": [
       "(((108369,), (108369,)), ((58056,), (58056,)), ((27093,), (27093,)))"
      ]
     },
     "execution_count": 14,
     "metadata": {},
     "output_type": "execute_result"
    }
   ],
   "source": [
    "(train_x.shape,train_y.shape),(test_x.shape,test_y.shape),(val_x.shape,val_y.shape)"
   ]
  },
  {
   "cell_type": "code",
   "execution_count": 15,
   "id": "b635c842",
   "metadata": {},
   "outputs": [],
   "source": [
    "tk = Tokenizer()\n",
    "tk.fit_on_texts(train_x)#문서의 단어수 확인"
   ]
  },
  {
   "cell_type": "code",
   "execution_count": 16,
   "id": "cb7459c2",
   "metadata": {},
   "outputs": [],
   "source": [
    "n=len([d for d in sorted(list(tk.word_counts.items()),key=lambda x:x[1]) if d[1]>4])+1#4번이하 입력단어 정리시 길이확인"
   ]
  },
  {
   "cell_type": "code",
   "execution_count": 17,
   "id": "52c066f9",
   "metadata": {
    "scrolled": true
   },
   "outputs": [],
   "source": [
    "token=Tokenizer(n)#고정된 단어수로 정리\n",
    "token.fit_on_texts(train_x)"
   ]
  },
  {
   "cell_type": "code",
   "execution_count": 18,
   "id": "75d73644",
   "metadata": {},
   "outputs": [],
   "source": [
    "token_train_x=token.texts_to_sequences(train_x)\n",
    "token_test_x=token.texts_to_sequences(test_x)\n",
    "token_val_x=token.texts_to_sequences(val_x)"
   ]
  },
  {
   "cell_type": "code",
   "execution_count": 19,
   "id": "05482cfb",
   "metadata": {},
   "outputs": [],
   "source": [
    "drop_train = [index for index, sentence in enumerate(token_train_x) if len(sentence) < 1]#빈 문장 위치 정보 확인\n",
    "drop_test = [index for index, sentence in enumerate(token_test_x) if len(sentence) < 1]#빈 문장 위치 정보 확인\n",
    "drop_val = [index for index, sentence in enumerate(token_val_x) if len(sentence) < 1]#빈 문장 위치 정보 확인"
   ]
  },
  {
   "cell_type": "code",
   "execution_count": 20,
   "id": "42bfc7ac",
   "metadata": {},
   "outputs": [
    {
     "name": "stderr",
     "output_type": "stream",
     "text": [
      "C:\\ProgramData\\Anaconda3\\lib\\site-packages\\numpy\\core\\_asarray.py:83: VisibleDeprecationWarning: Creating an ndarray from ragged nested sequences (which is a list-or-tuple of lists-or-tuples-or ndarrays with different lengths or shapes) is deprecated. If you meant to do this, you must specify 'dtype=object' when creating the ndarray\n",
      "  return array(a, dtype, copy=False, order=order)\n"
     ]
    }
   ],
   "source": [
    "token_train_x = np.delete(token_train_x, drop_train, axis=0)#빈 문장 정리\n",
    "train_y = np.delete(train_y, drop_train, axis=0)#빈 문장 정리\n",
    "token_test_x = np.delete(token_test_x, drop_test, axis=0)#빈 문장 정리\n",
    "test_y = np.delete(test_y, drop_test, axis=0)#빈 문장 정리\n",
    "token_val_x = np.delete(token_val_x, drop_val, axis=0)#빈 문장 정리\n",
    "val_y = np.delete(val_y, drop_val, axis=0)#빈 문장 정리"
   ]
  },
  {
   "cell_type": "code",
   "execution_count": 21,
   "id": "4112be68",
   "metadata": {},
   "outputs": [],
   "source": [
    "w_l=len(pad_sequences(token_train_x)[0])#문장 길이 확인"
   ]
  },
  {
   "cell_type": "code",
   "execution_count": 22,
   "id": "8cfc6bc1",
   "metadata": {},
   "outputs": [],
   "source": [
    "train_inputs = pad_sequences(token_train_x,maxlen=w_l)#동일 문장길이화\n",
    "test_inputs = pad_sequences(token_test_x,maxlen=w_l)#동일 문장길이화\n",
    "val_inputs = pad_sequences(token_val_x,maxlen=w_l)#동일 문장길이화"
   ]
  },
  {
   "cell_type": "code",
   "execution_count": 23,
   "id": "07e6641f",
   "metadata": {},
   "outputs": [],
   "source": [
    "train_outputs=train_y#출력정리\n",
    "test_outputs=test_y#출력정리\n",
    "val_outputs=val_y#출력정리"
   ]
  },
  {
   "cell_type": "code",
   "execution_count": 24,
   "id": "340e4131",
   "metadata": {},
   "outputs": [
    {
     "data": {
      "text/plain": [
       "(((107910, 68), (107910,)), ((57757, 68), (57757,)), ((26965, 68), (26965,)))"
      ]
     },
     "execution_count": 24,
     "metadata": {},
     "output_type": "execute_result"
    }
   ],
   "source": [
    "(train_inputs.shape,train_outputs.shape),(test_inputs.shape,test_outputs.shape),(val_inputs.shape,val_outputs.shape)"
   ]
  },
  {
   "cell_type": "code",
   "execution_count": 25,
   "id": "b4f59bdb",
   "metadata": {},
   "outputs": [],
   "source": [
    "from tensorflow.keras.models import Sequential\n",
    "from tensorflow.keras.layers import Dense, Dropout,Embedding, Dense, LSTM,BatchNormalization\n",
    "from tensorflow.keras.models import load_model\n",
    "from tensorflow.keras.callbacks import EarlyStopping, ModelCheckpoint\n",
    "es = EarlyStopping(monitor='val_loss', mode='min', verbose=1, patience=4)#4번연속 좋은값이 안나오면 스탑\n",
    "mc = ModelCheckpoint('best_model.h5', monitor='val_acc', mode='max', verbose=1, save_best_only=True)"
   ]
  },
  {
   "cell_type": "code",
   "execution_count": 26,
   "id": "f1bb722e",
   "metadata": {},
   "outputs": [],
   "source": [
    "model = Sequential()\n",
    "model.add(Embedding(n, 100))\n",
    "model.add(LSTM(128,return_sequences=True))\n",
    "model.add(BatchNormalization())\n",
    "model.add(LSTM(128))\n",
    "model.add(Dense(1, activation='sigmoid'))"
   ]
  },
  {
   "cell_type": "code",
   "execution_count": 28,
   "id": "079eea18",
   "metadata": {},
   "outputs": [
    {
     "name": "stdout",
     "output_type": "stream",
     "text": [
      "Epoch 1/15\n",
      "1799/1799 [==============================] - 193s 106ms/step - loss: 0.3832 - acc: 0.8246 - val_loss: 0.3508 - val_acc: 0.8438\n",
      "\n",
      "Epoch 00001: val_acc improved from -inf to 0.84376, saving model to best_model.h5\n",
      "Epoch 2/15\n",
      "1799/1799 [==============================] - 192s 107ms/step - loss: 0.2811 - acc: 0.8788 - val_loss: 0.3533 - val_acc: 0.8461\n",
      "\n",
      "Epoch 00002: val_acc improved from 0.84376 to 0.84610, saving model to best_model.h5\n",
      "Epoch 3/15\n",
      "1799/1799 [==============================] - 195s 108ms/step - loss: 0.2163 - acc: 0.9090 - val_loss: 0.3961 - val_acc: 0.8411\n",
      "\n",
      "Epoch 00003: val_acc did not improve from 0.84610\n",
      "Epoch 4/15\n",
      "1799/1799 [==============================] - 201s 112ms/step - loss: 0.1571 - acc: 0.9364 - val_loss: 0.4755 - val_acc: 0.8388\n",
      "\n",
      "Epoch 00004: val_acc did not improve from 0.84610\n",
      "Epoch 5/15\n",
      "1799/1799 [==============================] - 205s 114ms/step - loss: 0.1118 - acc: 0.9564 - val_loss: 0.6017 - val_acc: 0.8269\n",
      "\n",
      "Epoch 00005: val_acc did not improve from 0.84610\n",
      "Epoch 00005: early stopping\n"
     ]
    }
   ],
   "source": [
    "#배치사이즈로 쪼개다가 나머지가 나오면 날려버림\n",
    "model.compile(optimizer='adam', loss='binary_crossentropy', metrics=['acc'])\n",
    "history = model.fit(train_inputs, train_outputs, epochs=15, callbacks=[es, mc], batch_size=60,validation_data=(val_inputs,val_outputs))"
   ]
  },
  {
   "cell_type": "code",
   "execution_count": 34,
   "id": "6fed6544",
   "metadata": {},
   "outputs": [
    {
     "data": {
      "image/png": "[encoded data removed]",
      "text/plain": [
       "<Figure size 432x288 with 1 Axes>"
      ]
     },
     "metadata": {
      "needs_background": "light"
     },
     "output_type": "display_data"
    }
   ],
   "source": [
    "#가시화\n",
    "epochs = range(1, len(history.history['acc']) + 1)\n",
    "plt.plot(epochs, history.history['loss'])\n",
    "plt.plot(epochs, history.history['val_loss'])\n",
    "plt.title('m1 loss')\n",
    "plt.ylabel('loss')\n",
    "plt.xlabel('epoch')\n",
    "plt.legend(['train', 'test'], loc='upper left')\n",
    "plt.show()"
   ]
  },
  {
   "cell_type": "code",
   "execution_count": 4,
   "id": "67b843e2",
   "metadata": {},
   "outputs": [
    {
     "ename": "NameError",
     "evalue": "name 'load_model' is not defined",
     "output_type": "error",
     "traceback": [
      "\u001b[1;31m---------------------------------------------------------------------------\u001b[0m",
      "\u001b[1;31mNameError\u001b[0m                                 Traceback (most recent call last)",
      "\u001b[1;32m~\\AppData\\Local\\Temp/ipykernel_19360/25841311.py\u001b[0m in \u001b[0;36m<module>\u001b[1;34m\u001b[0m\n\u001b[1;32m----> 1\u001b[1;33m \u001b[0mloaded_model\u001b[0m \u001b[1;33m=\u001b[0m \u001b[0mload_model\u001b[0m\u001b[1;33m(\u001b[0m\u001b[1;34m'best_model.h5'\u001b[0m\u001b[1;33m)\u001b[0m\u001b[1;33m\u001b[0m\u001b[1;33m\u001b[0m\u001b[0m\n\u001b[0m\u001b[0;32m      2\u001b[0m \u001b[0mloaded_model\u001b[0m\u001b[1;33m.\u001b[0m\u001b[0mevaluate\u001b[0m\u001b[1;33m(\u001b[0m\u001b[0mtest_inputs\u001b[0m\u001b[1;33m,\u001b[0m\u001b[0mtest_outputs\u001b[0m\u001b[1;33m)\u001b[0m\u001b[1;33m[\u001b[0m\u001b[1;36m1\u001b[0m\u001b[1;33m]\u001b[0m\u001b[1;33m\u001b[0m\u001b[1;33m\u001b[0m\u001b[0m\n",
      "\u001b[1;31mNameError\u001b[0m: name 'load_model' is not defined"
     ]
    }
   ],
   "source": [
    "loaded_model = load_model('best_model.h5')\n",
    "loaded_model.evaluate(test_inputs,test_outputs)[1]"
   ]
  },
  {
   "cell_type": "code",
   "execution_count": 2,
   "id": "71c48a6e",
   "metadata": {},
   "outputs": [],
   "source": [
    "def 문장_전처리(문장):\n",
    "    문장 = re.sub(r'[^ㄱ-ㅎㅏ-ㅣ가-힣 ]','', 문장)\n",
    "    문장 = okt.morphs(문장, stem=True)\n",
    "    문장 = [w for w in 문장 if not w in s_w] \n",
    "    encoded = token.texts_to_sequences([문장])\n",
    "    pad_new = pad_sequences(encoded, maxlen = w_l) \n",
    "    score = float(loaded_model.predict(pad_new))\n",
    "    if(score > 0.5):\n",
    "        print(f\"{score * 100:.2f}% 확률로 긍정 리뷰입니다.\\n\")\n",
    "    else:\n",
    "        print(f\"{(1 - score) * 100:.2f}% 확률로 부정 리뷰입니다.\\n\")"
   ]
  },
  {
   "cell_type": "code",
   "execution_count": 3,
   "id": "4b889f48",
   "metadata": {},
   "outputs": [
    {
     "ename": "NameError",
     "evalue": "name 're' is not defined",
     "output_type": "error",
     "traceback": [
      "\u001b[1;31m---------------------------------------------------------------------------\u001b[0m",
      "\u001b[1;31mNameError\u001b[0m                                 Traceback (most recent call last)",
      "\u001b[1;32m~\\AppData\\Local\\Temp/ipykernel_19360/3602236686.py\u001b[0m in \u001b[0;36m<module>\u001b[1;34m\u001b[0m\n\u001b[1;32m----> 1\u001b[1;33m \u001b[0m문장_전처리\u001b[0m\u001b[1;33m(\u001b[0m\u001b[1;34m'재미있는 영화였어'\u001b[0m\u001b[1;33m)\u001b[0m\u001b[1;33m\u001b[0m\u001b[1;33m\u001b[0m\u001b[0m\n\u001b[0m",
      "\u001b[1;32m~\\AppData\\Local\\Temp/ipykernel_19360/1103446357.py\u001b[0m in \u001b[0;36m문장_전처리\u001b[1;34m(문장)\u001b[0m\n\u001b[0;32m      1\u001b[0m \u001b[1;32mdef\u001b[0m \u001b[0m문장_전처리\u001b[0m\u001b[1;33m(\u001b[0m\u001b[0m문장\u001b[0m\u001b[1;33m)\u001b[0m\u001b[1;33m:\u001b[0m\u001b[1;33m\u001b[0m\u001b[1;33m\u001b[0m\u001b[0m\n\u001b[1;32m----> 2\u001b[1;33m     \u001b[0m문장\u001b[0m \u001b[1;33m=\u001b[0m \u001b[0mre\u001b[0m\u001b[1;33m.\u001b[0m\u001b[0msub\u001b[0m\u001b[1;33m(\u001b[0m\u001b[1;34mr'[^ㄱ-ㅎㅏ-ㅣ가-힣 ]'\u001b[0m\u001b[1;33m,\u001b[0m\u001b[1;34m''\u001b[0m\u001b[1;33m,\u001b[0m \u001b[0m문장\u001b[0m\u001b[1;33m)\u001b[0m\u001b[1;33m\u001b[0m\u001b[1;33m\u001b[0m\u001b[0m\n\u001b[0m\u001b[0;32m      3\u001b[0m     \u001b[0m문장\u001b[0m \u001b[1;33m=\u001b[0m \u001b[0mokt\u001b[0m\u001b[1;33m.\u001b[0m\u001b[0mmorphs\u001b[0m\u001b[1;33m(\u001b[0m\u001b[0m문장\u001b[0m\u001b[1;33m,\u001b[0m \u001b[0mstem\u001b[0m\u001b[1;33m=\u001b[0m\u001b[1;32mTrue\u001b[0m\u001b[1;33m)\u001b[0m\u001b[1;33m\u001b[0m\u001b[1;33m\u001b[0m\u001b[0m\n\u001b[0;32m      4\u001b[0m     \u001b[0m문장\u001b[0m \u001b[1;33m=\u001b[0m \u001b[1;33m[\u001b[0m\u001b[0mw\u001b[0m \u001b[1;32mfor\u001b[0m \u001b[0mw\u001b[0m \u001b[1;32min\u001b[0m \u001b[0m문장\u001b[0m \u001b[1;32mif\u001b[0m \u001b[1;32mnot\u001b[0m \u001b[0mw\u001b[0m \u001b[1;32min\u001b[0m \u001b[0ms_w\u001b[0m\u001b[1;33m]\u001b[0m\u001b[1;33m\u001b[0m\u001b[1;33m\u001b[0m\u001b[0m\n\u001b[0;32m      5\u001b[0m     \u001b[0mencoded\u001b[0m \u001b[1;33m=\u001b[0m \u001b[0mtoken\u001b[0m\u001b[1;33m.\u001b[0m\u001b[0mtexts_to_sequences\u001b[0m\u001b[1;33m(\u001b[0m\u001b[1;33m[\u001b[0m\u001b[0m문장\u001b[0m\u001b[1;33m]\u001b[0m\u001b[1;33m)\u001b[0m\u001b[1;33m\u001b[0m\u001b[1;33m\u001b[0m\u001b[0m\n",
      "\u001b[1;31mNameError\u001b[0m: name 're' is not defined"
     ]
    }
   ],
   "source": [
    "문장_전처리('재미있는 영화였어')"
   ]
  },
  {
   "cell_type": "code",
   "execution_count": 42,
   "id": "5e94d09d",
   "metadata": {},
   "outputs": [
    {
     "name": "stdout",
     "output_type": "stream",
     "text": [
      "95.90% 확률로 부정 리뷰입니다.\n",
      "\n"
     ]
    }
   ],
   "source": [
    "문장_전처리('내 인생 최악의 영화였어')"
   ]
  }
 ],
 "metadata": {
  "kernelspec": {
   "display_name": "Python 3 (ipykernel)",
   "language": "python",
   "name": "python3"
  },
  "language_info": {
   "codemirror_mode": {
    "name": "ipython",
    "version": 3
   },
   "file_extension": ".py",
   "mimetype": "text/x-python",
   "name": "python",
   "nbconvert_exporter": "python",
   "pygments_lexer": "ipython3",
   "version": "3.9.7"
  }
 },
 "nbformat": 4,
 "nbformat_minor": 5
}
