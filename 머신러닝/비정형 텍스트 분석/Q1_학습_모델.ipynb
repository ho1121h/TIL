{
 "cells": [
  {
   "cell_type": "code",
   "execution_count": 1,
   "id": "df53d19f",
   "metadata": {},
   "outputs": [],
   "source": [
    "import re\n",
    "import numpy as np\n",
    "import pandas as pd\n",
    "from tqdm import tqdm\n",
    "from konlpy.tag import Okt\n",
    "import matplotlib.pyplot as plt\n",
    "from sklearn.preprocessing import LabelEncoder\n",
    "from tensorflow.keras.utils import to_categorical\n",
    "from tensorflow.keras.preprocessing.sequence import pad_sequences\n",
    "from tensorflow.keras.models import  Sequential,load_model\n",
    "from tensorflow.keras.layers import Dense, Dropout,Embedding, Dense, LSTM,BatchNormalization\n",
    "from tensorflow.keras.callbacks import EarlyStopping, ModelCheckpoint,TensorBoard"
   ]
  },
  {
   "cell_type": "code",
   "execution_count": 2,
   "id": "23ae73a9",
   "metadata": {
    "scrolled": true
   },
   "outputs": [],
   "source": [
    "import pickle\n",
    "with open(\"data1.pickle\",\"rb\") as fr:\n",
    "    전처리_된_데이터 = pickle.load(fr)"
   ]
  },
  {
   "cell_type": "code",
   "execution_count": 3,
   "id": "a56fb98a",
   "metadata": {},
   "outputs": [],
   "source": [
    "train_inputs=전처리_된_데이터['학습_데이터']\n",
    "train_outputs=전처리_된_데이터['학습_결과']\n",
    "test_inputs=전처리_된_데이터['태스트_데이터']\n",
    "test_outputs=전처리_된_데이터['태스트_결과']\n",
    "val_inputs=전처리_된_데이터['검증_데이터']\n",
    "val_outputs=전처리_된_데이터['검증_결과']\n",
    "token=전처리_된_데이터['토큰']\n",
    "w_n=전처리_된_데이터['단어수']\n",
    "w_l=전처리_된_데이터['입력길이']"
   ]
  },
  {
   "cell_type": "code",
   "execution_count": 4,
   "id": "4a3d1e39",
   "metadata": {},
   "outputs": [],
   "source": [
    "es = EarlyStopping(monitor='val_loss', mode='min', verbose=1, patience=5,restore_best_weights=True)\n",
    "mc = ModelCheckpoint('best_model11.h5', monitor='val_acc', mode='max', verbose=1, save_best_only=True)\n",
    "t_bd=TensorBoard(log_dir=\"logs\")#앙상블 ,튜플 분류기"
   ]
  },
  {
   "cell_type": "code",
   "execution_count": 5,
   "id": "6b2bf2fa",
   "metadata": {},
   "outputs": [],
   "source": [
    "model = Sequential()\n",
    "model.add(Embedding(w_n, 128))\n",
    "model.add(BatchNormalization())\n",
    "model.add(LSTM(128,dropout=0.5,return_sequences=True))\n",
    "model.add(BatchNormalization())\n",
    "model.add(LSTM(256,dropout=0.5,return_sequences=True))\n",
    "model.add(BatchNormalization())\n",
    "model.add(LSTM(128,dropout=0.5))\n",
    "model.add(Dense(1, activation='sigmoid'))"
   ]
  },
  {
   "cell_type": "code",
   "execution_count": 6,
   "id": "190312f4",
   "metadata": {},
   "outputs": [
    {
     "name": "stdout",
     "output_type": "stream",
     "text": [
      "Epoch 1/15\n",
      "927/927 [==============================] - 293s 311ms/step - loss: 0.5484 - acc: 0.7136 - val_loss: 0.4774 - val_acc: 0.7755\n",
      "\n",
      "Epoch 00001: val_acc improved from -inf to 0.77552, saving model to best_model11.h5\n",
      "Epoch 2/15\n",
      "927/927 [==============================] - 277s 299ms/step - loss: 0.4285 - acc: 0.8051 - val_loss: 0.4789 - val_acc: 0.7806\n",
      "\n",
      "Epoch 00002: val_acc improved from 0.77552 to 0.78056, saving model to best_model11.h5\n",
      "Epoch 3/15\n",
      "927/927 [==============================] - 274s 295ms/step - loss: 0.3770 - acc: 0.8327 - val_loss: 0.4862 - val_acc: 0.7882\n",
      "\n",
      "Epoch 00003: val_acc improved from 0.78056 to 0.78820, saving model to best_model11.h5\n",
      "Epoch 4/15\n",
      "927/927 [==============================] - 273s 294ms/step - loss: 0.3352 - acc: 0.8546 - val_loss: 0.5112 - val_acc: 0.7803\n",
      "\n",
      "Epoch 00004: val_acc did not improve from 0.78820\n",
      "Epoch 5/15\n",
      "927/927 [==============================] - 279s 300ms/step - loss: 0.3033 - acc: 0.8697 - val_loss: 0.5601 - val_acc: 0.7791\n",
      "\n",
      "Epoch 00005: val_acc did not improve from 0.78820\n",
      "Epoch 6/15\n",
      "927/927 [==============================] - 301s 325ms/step - loss: 0.2785 - acc: 0.8828 - val_loss: 0.6111 - val_acc: 0.7752\n",
      "Restoring model weights from the end of the best epoch.\n",
      "\n",
      "Epoch 00006: val_acc did not improve from 0.78820\n",
      "Epoch 00006: early stopping\n"
     ]
    }
   ],
   "source": [
    "model.compile(optimizer='adam', loss='binary_crossentropy', metrics=['acc'])\n",
    "history = model.fit(train_inputs, train_outputs, epochs=15, callbacks=[es, mc,t_bd], batch_size=60,validation_data=(val_inputs,val_outputs))"
   ]
  },
  {
   "cell_type": "code",
   "execution_count": 7,
   "id": "3670c7d6",
   "metadata": {},
   "outputs": [
    {
     "data": {
      "image/png": "[encoded data removed]",
      "text/plain": [
       "<Figure size 432x288 with 1 Axes>"
      ]
     },
     "metadata": {
      "needs_background": "light"
     },
     "output_type": "display_data"
    }
   ],
   "source": [
    "epochs = range(1, len(history.history['acc']) + 1)\n",
    "plt.plot(epochs, history.history['loss'])\n",
    "plt.plot(epochs, history.history['val_loss'])\n",
    "plt.title('m loss')\n",
    "plt.ylabel('loss')\n",
    "plt.xlabel('epoch')\n",
    "plt.legend(['train', 'test'], loc='upper left')\n",
    "plt.show()"
   ]
  },
  {
   "cell_type": "code",
   "execution_count": 8,
   "id": "a9dc59b7",
   "metadata": {},
   "outputs": [
    {
     "name": "stdout",
     "output_type": "stream",
     "text": [
      "930/930 [==============================] - 62s 67ms/step - loss: 0.4845 - acc: 0.7692\n"
     ]
    },
    {
     "data": {
      "text/plain": [
       "0.7691739201545715"
      ]
     },
     "execution_count": 8,
     "metadata": {},
     "output_type": "execute_result"
    }
   ],
   "source": [
    "model.evaluate(test_inputs,test_outputs)[1]"
   ]
  },
  {
   "cell_type": "code",
   "execution_count": 9,
   "id": "c948859e",
   "metadata": {},
   "outputs": [
    {
     "data": {
      "text/plain": [
       "Reusing TensorBoard on port 6006 (pid 2004), started 0:53:11 ago. (Use '!kill 2004' to kill it.)"
      ]
     },
     "metadata": {},
     "output_type": "display_data"
    },
    {
     "data": {
      "text/html": [
       "\n",
       "      <iframe id=\"tensorboard-frame-d7ce6b5fd7e82e21\" width=\"100%\" height=\"800\" frameborder=\"0\">\n",
       "      </iframe>\n",
       "      <script>\n",
       "        (function() {\n",
       "          const frame = document.getElementById(\"tensorboard-frame-d7ce6b5fd7e82e21\");\n",
       "          const url = new URL(\"/\", window.location);\n",
       "          const port = 6006;\n",
       "          if (port) {\n",
       "            url.port = port;\n",
       "          }\n",
       "          frame.src = url;\n",
       "        })();\n",
       "      </script>\n",
       "    "
      ],
      "text/plain": [
       "<IPython.core.display.HTML object>"
      ]
     },
     "metadata": {},
     "output_type": "display_data"
    }
   ],
   "source": [
    "%load_ext tensorboard\n",
    "%tensorboard --logdir logs"
   ]
  },
  {
   "cell_type": "code",
   "execution_count": null,
   "id": "29149b1c",
   "metadata": {},
   "outputs": [],
   "source": [
    "#객체는 멤버를 가지고있다,\n",
    "#임베딩 레이어 는 정보를 가지고있다.\n",
    "#입력이 들어오면 벡터화 함\n",
    "loaded_model.layers[0].get_weights()"
   ]
  },
  {
   "cell_type": "code",
   "execution_count": null,
   "id": "17233b27",
   "metadata": {},
   "outputs": [],
   "source": [
    "len(loaded_model.layers[0].get_weights()[0])\n",
    "#12614 개의 층, 제일 첫층은 패딩층임"
   ]
  },
  {
   "cell_type": "code",
   "execution_count": null,
   "id": "4e8a5325",
   "metadata": {},
   "outputs": [],
   "source": [
    "len(loaded_model.layers[0].get_weights()[0][0])#패딩층"
   ]
  },
  {
   "cell_type": "code",
   "execution_count": null,
   "id": "51da1509",
   "metadata": {},
   "outputs": [],
   "source": [
    "len(loaded_model.layers[0].get_weights()[0][1])#토큰의 첫글자"
   ]
  },
  {
   "cell_type": "code",
   "execution_count": null,
   "id": "426bed64",
   "metadata": {},
   "outputs": [],
   "source": [
    "toke.word_index"
   ]
  },
  {
   "cell_type": "code",
   "execution_count": null,
   "id": "942a4deb",
   "metadata": {},
   "outputs": [],
   "source": [
    "d = toke.word_index.items()"
   ]
  },
  {
   "cell_type": "code",
   "execution_count": null,
   "id": "06e01e97",
   "metadata": {},
   "outputs": [],
   "source": [
    "pr_data = sorted (d,key = lambda x :x [1])"
   ]
  },
  {
   "cell_type": "code",
   "execution_count": null,
   "id": "fe7e88e3",
   "metadata": {},
   "outputs": [],
   "source": [
    "for w,i in pr_data:\n",
    "    print(i)\n",
    "    break"
   ]
  },
  {
   "cell_type": "code",
   "execution_count": null,
   "id": "b4edb01c",
   "metadata": {},
   "outputs": [],
   "source": [
    "dict_data = toke.word_index"
   ]
  }
 ],
 "metadata": {
  "kernelspec": {
   "display_name": "Python 3 (ipykernel)",
   "language": "python",
   "name": "python3"
  },
  "language_info": {
   "codemirror_mode": {
    "name": "ipython",
    "version": 3
   },
   "file_extension": ".py",
   "mimetype": "text/x-python",
   "name": "python",
   "nbconvert_exporter": "python",
   "pygments_lexer": "ipython3",
   "version": "3.9.7"
  }
 },
 "nbformat": 4,
 "nbformat_minor": 5
}
