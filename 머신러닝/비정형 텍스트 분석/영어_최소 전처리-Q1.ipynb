{
 "cells": [
  {
   "cell_type": "markdown",
   "id": "064e6bac",
   "metadata": {},
   "source": [
    "## 자연어 전처리-영어"
   ]
  },
  {
   "cell_type": "markdown",
   "id": "555a672f",
   "metadata": {},
   "source": [
    "관련 패키지 로드"
   ]
  },
  {
   "cell_type": "code",
   "execution_count": 1,
   "id": "1244f019",
   "metadata": {},
   "outputs": [],
   "source": [
    "from tensorflow.keras.preprocessing.text import Tokenizer#토큰화 클래스\n",
    "from tensorflow.keras.preprocessing.sequence import pad_sequences#시퀀스 패딩화\n",
    "from sklearn.preprocessing import LabelEncoder#라벨인코더 = 카테고리 데이터를 수치화함\n",
    "from sklearn.model_selection import train_test_split#학습/테스트 \n",
    "from tensorflow.keras.utils import to_categorical#원핫인코딩화 클래스\n",
    "import numpy as np#넘파이\n",
    "from nltk.corpus import stopwords#불용어\n",
    "from bs4 import BeautifulSoup#웹\n",
    "import re#정규화 클래스"
   ]
  },
  {
   "cell_type": "markdown",
   "id": "9253a45b",
   "metadata": {},
   "source": [
    "전처리 메소드(함수) 구축"
   ]
  },
  {
   "cell_type": "code",
   "execution_count": 2,
   "id": "67ecb9fc",
   "metadata": {},
   "outputs": [],
   "source": [
    "def preprocessing(X_text, remove_stopwords=False):\n",
    "    X_text = BeautifulSoup(X_text, 'lxml').get_text()#불용어 처리\n",
    "    X_text = re.sub(\"[^a-zA-Z]\", \" \", X_text)#불용어처리\n",
    "    words = X_text.lower().split()#단어모음에 소문자화한 토큰 추가\n",
    "    if remove_stopwords:\n",
    "        stops = set(stopwords.words('english'))#불용어처리\n",
    "        #stops.add(불용어 문자열)\n",
    "        words = [w for w in words if not w in stops]#리스트(words) 새로재정의\n",
    "        clean_text = ' '.join(words)#새변수(clean)에 리스트(words) 추가\n",
    "    else:\n",
    "        clean_text = ' '.join(words)\n",
    "        \n",
    "    return clean_text#변수 반환"
   ]
  },
  {
   "cell_type": "code",
   "execution_count": null,
   "id": "bebcc7fe",
   "metadata": {},
   "outputs": [],
   "source": []
  },
  {
   "cell_type": "markdown",
   "id": "1e35d8de",
   "metadata": {},
   "source": [
    "데이터 로드"
   ]
  },
  {
   "cell_type": "code",
   "execution_count": 5,
   "id": "6fc68c7c",
   "metadata": {
    "scrolled": true
   },
   "outputs": [],
   "source": [
    "import pandas as pd\n",
    "data = pd.read_csv('spam (1).csv',encoding='latin1')[['v1','v2']]\n",
    "data=data.rename(columns = {'v1':'y', 'v2' : 'X'})#컬럼명을 재정의"
   ]
  },
  {
   "cell_type": "code",
   "execution_count": 6,
   "id": "52695bdc",
   "metadata": {},
   "outputs": [],
   "source": [
    "data['clean_X']=data['X'].apply(lambda x : preprocessing(X_text=x, remove_stopwords=True))\n",
    "#데이터전체를 전처리하고, 카테고리화"
   ]
  },
  {
   "cell_type": "code",
   "execution_count": 23,
   "id": "26171cc9",
   "metadata": {},
   "outputs": [
    {
     "data": {
      "text/plain": [
       "0       go jurong point crazy available bugis n great ...\n",
       "1                                 ok lar joking wif u oni\n",
       "2       free entry wkly comp win fa cup final tkts st ...\n",
       "3                     u dun say early hor u c already say\n",
       "4                  nah think goes usf lives around though\n",
       "                              ...                        \n",
       "5567    nd time tried contact u u pound prize claim ea...\n",
       "5568                            b going esplanade fr home\n",
       "5569                                pity mood suggestions\n",
       "5570    guy bitching acted like interested buying some...\n",
       "5571                                       rofl true name\n",
       "Name: clean_X, Length: 5564, dtype: object"
      ]
     },
     "execution_count": 23,
     "metadata": {},
     "output_type": "execute_result"
    }
   ],
   "source": [
    "data['clean_X']"
   ]
  },
  {
   "cell_type": "code",
   "execution_count": 7,
   "id": "5993d6fc",
   "metadata": {
    "scrolled": false
   },
   "outputs": [],
   "source": [
    "data['y_name']=data['y']\n",
    "data['encoder_y']=LabelEncoder().fit_transform(data['y'])#카테고리 데이터를 수치형 데이터로 변환\n",
    "data['categorical_y']=list(to_categorical(data['encoder_y']))#원핫인코딩화를 한 리스트를 다시 카테고리화"
   ]
  },
  {
   "cell_type": "code",
   "execution_count": 22,
   "id": "ba95c3f3",
   "metadata": {},
   "outputs": [
    {
     "data": {
      "text/plain": [
       "0       [1.0, 0.0]\n",
       "1       [1.0, 0.0]\n",
       "2       [0.0, 1.0]\n",
       "3       [1.0, 0.0]\n",
       "4       [1.0, 0.0]\n",
       "           ...    \n",
       "5567    [0.0, 1.0]\n",
       "5568    [1.0, 0.0]\n",
       "5569    [1.0, 0.0]\n",
       "5570    [1.0, 0.0]\n",
       "5571    [1.0, 0.0]\n",
       "Name: categorical_y, Length: 5564, dtype: object"
      ]
     },
     "execution_count": 22,
     "metadata": {},
     "output_type": "execute_result"
    }
   ],
   "source": [
    "data['categorical_y']"
   ]
  },
  {
   "cell_type": "code",
   "execution_count": 8,
   "id": "0a9de05a",
   "metadata": {
    "scrolled": false
   },
   "outputs": [
    {
     "data": {
      "text/plain": [
       "False"
      ]
     },
     "execution_count": 8,
     "metadata": {},
     "output_type": "execute_result"
    }
   ],
   "source": [
    "data.isnull().values.any()#결측치 찾기"
   ]
  },
  {
   "cell_type": "code",
   "execution_count": 9,
   "id": "d196d1df",
   "metadata": {},
   "outputs": [
    {
     "data": {
      "text/plain": [
       "(5055, 2)"
      ]
     },
     "execution_count": 9,
     "metadata": {},
     "output_type": "execute_result"
    }
   ],
   "source": [
    "data['clean_X'].nunique(), data['y'].nunique()#X데이터,Y데이터의 고유값들의 종류의수를 나타냄"
   ]
  },
  {
   "cell_type": "markdown",
   "id": "95260c45",
   "metadata": {},
   "source": [
    "결측치 처리"
   ]
  },
  {
   "cell_type": "code",
   "execution_count": 10,
   "id": "610dda41",
   "metadata": {
    "scrolled": false
   },
   "outputs": [
    {
     "name": "stderr",
     "output_type": "stream",
     "text": [
      "C:\\Users\\ho316\\AppData\\Local\\Temp/ipykernel_6556/835016061.py:1: FutureWarning: The default value of regex will change from True to False in a future version.\n",
      "  data['clean_X'] = data['clean_X'].str.replace(\"[^a-zA-Z0-9 ]\",\"\")\n",
      "C:\\Users\\ho316\\AppData\\Local\\Temp/ipykernel_6556/835016061.py:2: FutureWarning: The default value of regex will change from True to False in a future version.\n",
      "  data['clean_X'] = data['clean_X'].str.replace('^ +', \"\")\n"
     ]
    }
   ],
   "source": [
    "data['clean_X'] = data['clean_X'].str.replace(\"[^a-zA-Z0-9 ]\",\"\")#공백화\n",
    "data['clean_X'] = data['clean_X'].str.replace('^ +', \"\")#공백화\n",
    "data['clean_X'].replace('', np.nan, inplace=True)#공백=nan화\n",
    "data = data.dropna(how = 'any')#결측치 제거화"
   ]
  },
  {
   "cell_type": "code",
   "execution_count": 11,
   "id": "2360bc21",
   "metadata": {},
   "outputs": [],
   "source": [
    "Y=data['encoder_y']#카테고리 데이터를 재정의\n",
    "#Y=to_categorical(data['encoder_y'])"
   ]
  },
  {
   "cell_type": "code",
   "execution_count": 12,
   "id": "9da06721",
   "metadata": {},
   "outputs": [],
   "source": [
    "X=data['clean_X']#재정의"
   ]
  },
  {
   "cell_type": "code",
   "execution_count": 25,
   "id": "9c6c1d0d",
   "metadata": {},
   "outputs": [
    {
     "data": {
      "text/plain": [
       "pandas.core.series.Series"
      ]
     },
     "execution_count": 25,
     "metadata": {},
     "output_type": "execute_result"
    }
   ],
   "source": [
    "type(X)#아직 카테고리 데이터"
   ]
  },
  {
   "cell_type": "markdown",
   "id": "0e2ec946",
   "metadata": {},
   "source": [
    "학습, 테스트 데이터"
   ]
  },
  {
   "cell_type": "code",
   "execution_count": 13,
   "id": "3413d175",
   "metadata": {},
   "outputs": [],
   "source": [
    "#학습데이터 테스트 데이터 정의\n",
    "x_data,test_x,y_data,test_y = train_test_split(X,Y,test_size=0.3,random_state=0)"
   ]
  },
  {
   "cell_type": "code",
   "execution_count": 14,
   "id": "4aca3154",
   "metadata": {},
   "outputs": [],
   "source": [
    "#학습데이터 검증데이터정의\n",
    "train_x,val_x,train_y,val_y = train_test_split(x_data,y_data,test_size=0.2,random_state=0)"
   ]
  },
  {
   "cell_type": "code",
   "execution_count": 15,
   "id": "52c066f9",
   "metadata": {
    "scrolled": true
   },
   "outputs": [],
   "source": [
    "token=Tokenizer()#토큰화 클래스\n",
    "token.fit_on_texts(train_x)#토큰학습"
   ]
  },
  {
   "cell_type": "code",
   "execution_count": 16,
   "id": "0b4bfc57",
   "metadata": {},
   "outputs": [],
   "source": [
    "token_train_x=token.texts_to_sequences(train_x)#학습데이터 정수화\n",
    "token_test_x=token.texts_to_sequences(test_x)#테스트데이터 정수화2\n",
    "token_val_x=token.texts_to_sequences(val_x)#검증데이터 정수화3"
   ]
  },
  {
   "cell_type": "code",
   "execution_count": 17,
   "id": "50327bc8",
   "metadata": {},
   "outputs": [],
   "source": [
    "train_inputs = pad_sequences(token_train_x)#패딩화\n",
    "test_inputs = pad_sequences(token_test_x)#패딩화\n",
    "val_inputs = pad_sequences(token_val_x)#패딩화"
   ]
  },
  {
   "cell_type": "code",
   "execution_count": null,
   "id": "90ae1e74",
   "metadata": {},
   "outputs": [],
   "source": []
  }
 ],
 "metadata": {
  "kernelspec": {
   "display_name": "Python 3 (ipykernel)",
   "language": "python",
   "name": "python3"
  },
  "language_info": {
   "codemirror_mode": {
    "name": "ipython",
    "version": 3
   },
   "file_extension": ".py",
   "mimetype": "text/x-python",
   "name": "python",
   "nbconvert_exporter": "python",
   "pygments_lexer": "ipython3",
   "version": "3.9.7"
  }
 },
 "nbformat": 4,
 "nbformat_minor": 5
}
