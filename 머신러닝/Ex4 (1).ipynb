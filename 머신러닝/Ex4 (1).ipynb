{
 "cells": [
  {
   "cell_type": "markdown",
   "id": "a6f5ba3e",
   "metadata": {},
   "source": [
    "# 로지스틱 회귀(다중분류)"
   ]
  },
  {
   "cell_type": "code",
   "execution_count": 1,
   "id": "3b5491d9",
   "metadata": {},
   "outputs": [
    {
     "data": {
      "text/plain": [
       "(array([[-1.43104781, -1.03881083,  2.68339449,  7.77024432, -1.18106054],\n",
       "        [-1.41304735, -6.04954057,  5.28192373, -0.97312708,  1.92823922],\n",
       "        [ 0.66899584, -2.29121452, -0.86671496,  1.64919507,  3.7778608 ],\n",
       "        [ 0.20008722, -2.00035538, -3.74686768,  6.64643665, -1.95319595],\n",
       "        [ 3.57308534,  6.36292416, -8.57477602, -5.8900385 ,  3.8016005 ],\n",
       "        [-0.16774626,  3.61014133,  3.93270813, -3.58340455, -1.8315986 ],\n",
       "        [-1.43032697,  1.4068558 ,  1.29033231, -5.61930592, -4.54184543]]),\n",
       " array([ 0.17817092,  2.5409984 ,  1.34452841, -0.06020156,  3.06520085,\n",
       "        -0.24112062, -6.82757639]))"
      ]
     },
     "execution_count": 1,
     "metadata": {},
     "output_type": "execute_result"
    }
   ],
   "source": [
    "import pandas as pd\n",
    "import numpy as np\n",
    "#1.data수집\n",
    "data=pd.read_csv('data1_all.csv')\n",
    "data_X=data[['Weight','Length','Diagonal','Height','Width']].to_numpy()\n",
    "data_Y=data['Name'].to_numpy()\n",
    "\n",
    "#2.data전처리\n",
    "from sklearn.preprocessing import StandardScaler\n",
    "ss=StandardScaler().fit(data_X)\n",
    "data_X=ss.transform(data_X)\n",
    "\n",
    "#3.data분리\n",
    "from sklearn.model_selection import train_test_split\n",
    "t_x,tt_x,t_y,tt_y=train_test_split(data_X,data_Y,random_state=42)\n",
    "#4.모델 생성 및 학습 \n",
    "from sklearn.linear_model import LogisticRegression\n",
    "lr = LogisticRegression(C=20,max_iter=1000)#다중분류용\n",
    "lr.fit(t_x,t_y)\n",
    "lr.score(t_x,t_y),lr.score(tt_x,tt_y)\n",
    "lr.coef_ , lr.intercept_"
   ]
  },
  {
   "cell_type": "code",
   "execution_count": 2,
   "id": "cc158301",
   "metadata": {},
   "outputs": [
    {
     "data": {
      "text/plain": [
       "array([[ 12.68635502,   2.05193796,   6.44611303,   5.40571709,\n",
       "         -3.14126816,  -3.00365919, -20.44519576]])"
      ]
     },
     "execution_count": 2,
     "metadata": {},
     "output_type": "execute_result"
    }
   ],
   "source": [
    "d=lr.decision_function(t_x[:1])#학습된 공식을 꺼냄\n",
    "d"
   ]
  },
  {
   "cell_type": "code",
   "execution_count": 3,
   "id": "81939cdf",
   "metadata": {},
   "outputs": [
    {
     "data": {
      "text/plain": [
       "array([[1., 0., 0., 0., 0., 0., 0.]])"
      ]
     },
     "execution_count": 3,
     "metadata": {},
     "output_type": "execute_result"
    }
   ],
   "source": [
    "from scipy.special import softmax\n",
    "np.round(softmax(d))"
   ]
  },
  {
   "cell_type": "markdown",
   "id": "f30a91c8",
   "metadata": {},
   "source": [
    "# 로지스틱 회귀(이중분류)"
   ]
  },
  {
   "cell_type": "markdown",
   "id": "385cc6e4",
   "metadata": {},
   "source": [
    "2종 data로 변경  "
   ]
  },
  {
   "cell_type": "code",
   "execution_count": 4,
   "id": "c88bd0f0",
   "metadata": {},
   "outputs": [
    {
     "data": {
      "text/plain": [
       "LogisticRegression()"
      ]
     },
     "execution_count": 4,
     "metadata": {},
     "output_type": "execute_result"
    }
   ],
   "source": [
    "i=(t_y == 'A')|(t_y == 'G')\n",
    "b_t_x=t_x[i]\n",
    "b_t_y=t_y[i]\n",
    "lr = LogisticRegression()\n",
    "lr.fit(b_t_x,b_t_y)"
   ]
  },
  {
   "cell_type": "code",
   "execution_count": 5,
   "id": "d6f3b093",
   "metadata": {
    "scrolled": true
   },
   "outputs": [
    {
     "data": {
      "text/plain": [
       "(array([[-0.41981254, -0.60056128, -0.68786241, -1.00159093, -0.74532495]]),\n",
       " array([-2.1898649]))"
      ]
     },
     "execution_count": 5,
     "metadata": {},
     "output_type": "execute_result"
    }
   ],
   "source": [
    "lr.coef_ , lr.intercept_"
   ]
  },
  {
   "cell_type": "code",
   "execution_count": 6,
   "id": "a7e891f8",
   "metadata": {},
   "outputs": [
    {
     "data": {
      "text/plain": [
       "array([-5.96982853])"
      ]
     },
     "execution_count": 6,
     "metadata": {},
     "output_type": "execute_result"
    }
   ],
   "source": [
    "d=lr.decision_function(b_t_x[:1])#학습된 공식을 꺼냄\n",
    "d"
   ]
  },
  {
   "cell_type": "markdown",
   "id": "9e2696ec",
   "metadata": {},
   "source": [
    "시그모이드 함수(구현)"
   ]
  },
  {
   "cell_type": "code",
   "execution_count": 7,
   "id": "963db44d",
   "metadata": {},
   "outputs": [
    {
     "data": {
      "text/plain": [
       "[<matplotlib.lines.Line2D at 0x2c4496d3b80>]"
      ]
     },
     "execution_count": 7,
     "metadata": {},
     "output_type": "execute_result"
    },
    {
     "data": {
      "image/png": "[encoded data removed]",
      "text/plain": [
       "<Figure size 432x288 with 1 Axes>"
      ]
     },
     "metadata": {
      "needs_background": "light"
     },
     "output_type": "display_data"
    }
   ],
   "source": [
    "def sigmoid(x):\n",
    "    sig = 1 / (1 + np.exp(-x))\n",
    "    return sig\n",
    "import matplotlib.pyplot as plt\n",
    "z=np.arange(-5,5,0.1)\n",
    "plt.plot(z,sigmoid(z))"
   ]
  },
  {
   "cell_type": "markdown",
   "id": "a7e895f8",
   "metadata": {},
   "source": [
    "시그모이드 함수 (내장)"
   ]
  },
  {
   "cell_type": "code",
   "execution_count": 8,
   "id": "fae71a3a",
   "metadata": {},
   "outputs": [
    {
     "data": {
      "text/plain": [
       "array([0.00254817])"
      ]
     },
     "execution_count": 8,
     "metadata": {},
     "output_type": "execute_result"
    }
   ],
   "source": [
    "from scipy.special import expit\n",
    "expit(d)"
   ]
  }
 ],
 "metadata": {
  "kernelspec": {
   "display_name": "Python 3 (ipykernel)",
   "language": "python",
   "name": "python3"
  },
  "language_info": {
   "codemirror_mode": {
    "name": "ipython",
    "version": 3
   },
   "file_extension": ".py",
   "mimetype": "text/x-python",
   "name": "python",
   "nbconvert_exporter": "python",
   "pygments_lexer": "ipython3",
   "version": "3.9.7"
  }
 },
 "nbformat": 4,
 "nbformat_minor": 5
}
