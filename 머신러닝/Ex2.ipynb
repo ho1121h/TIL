{
 "cells": [
  {
   "cell_type": "markdown",
   "id": "2cdf6e79",
   "metadata": {},
   "source": [
    "외부 모듈 로드"
   ]
  },
  {
   "cell_type": "code",
   "execution_count": 1,
   "id": "b6bbfb23",
   "metadata": {},
   "outputs": [],
   "source": [
    "import numpy as np #data계산을 위한 모듈\n",
    "import pandas as pd #data 로드를 위한 모듈\n",
    "from sklearn.model_selection import train_test_split #학습 data와 태스트 data 분할 모듈\n",
    "from sklearn.preprocessing import PolynomialFeatures #피처 증가를 위한 모듈\n",
    "from sklearn.linear_model import LinearRegression ,Lasso, Ridge #선형 회기 모델 모듈\n",
    "from sklearn.preprocessing import StandardScaler #data 전처리 (중복 정보 정리)-> 벨런싱 작업\n",
    "import matplotlib.pyplot as plt #시각화 모듈"
   ]
  },
  {
   "cell_type": "markdown",
   "id": "a87b875e",
   "metadata": {},
   "source": [
    "다중 선형 회귀\n",
    "1. data 가지고오기"
   ]
  },
  {
   "cell_type": "code",
   "execution_count": 2,
   "id": "0014af4f",
   "metadata": {},
   "outputs": [],
   "source": [
    "df=pd.read_csv('perch_full.csv')\n",
    "X=df.to_numpy()\n",
    "Y = np.array(\n",
    "    [5.9, 32.0, 40.0, 51.5, 70.0, 100.0, 78.0, 80.0, 85.0, 85.0, \n",
    "     110.0, 115.0, 125.0, 130.0, 120.0, 120.0, 130.0, 135.0, 110.0, \n",
    "     130.0, 150.0, 145.0, 150.0, 170.0, 225.0, 145.0, 188.0, 180.0, \n",
    "     197.0, 218.0, 300.0, 260.0, 265.0, 250.0, 250.0, 300.0, 320.0, \n",
    "     514.0, 556.0, 840.0, 685.0, 700.0, 700.0, 690.0, 900.0, 650.0, \n",
    "     820.0, 850.0, 900.0, 1015.0, 820.0, 1100.0, 1000.0, 1100.0, \n",
    "     1000.0, 1000.0]\n",
    "     )"
   ]
  },
  {
   "cell_type": "markdown",
   "id": "902b6c5a",
   "metadata": {},
   "source": [
    "2.학습 data와 태스트 data 분할"
   ]
  },
  {
   "cell_type": "code",
   "execution_count": 3,
   "id": "4b79c172",
   "metadata": {},
   "outputs": [],
   "source": [
    "t_x,tt_x,t_y,tt_y=train_test_split(X,Y,train_size=0.7,random_state=42)#7:3비율조정"
   ]
  },
  {
   "cell_type": "markdown",
   "id": "d7ed1d70",
   "metadata": {},
   "source": [
    "3.data 전처리"
   ]
  },
  {
   "cell_type": "markdown",
   "id": "c6f015ed",
   "metadata": {},
   "source": [
    "data 피쳐 증가 (학습의 진행을 상승)->과소적합 방지"
   ]
  },
  {
   "cell_type": "code",
   "execution_count": 4,
   "id": "78c90daf",
   "metadata": {},
   "outputs": [],
   "source": [
    "#p_m=PolynomialFeatures(include_bias=False).fit(t_x)#학습 data 기반으로 피처 증가\n",
    "p_m=PolynomialFeatures(degree=5,include_bias=False).fit(t_x)\n",
    "p_t_x=p_m.transform(t_x)\n",
    "p_tt_x=p_m.transform(tt_x)"
   ]
  },
  {
   "cell_type": "markdown",
   "id": "b65ac22f",
   "metadata": {},
   "source": [
    "data 전처리 밸런싱 작업 (특징 감소)-> 과대적합 방지"
   ]
  },
  {
   "cell_type": "code",
   "execution_count": 5,
   "id": "ae9dfc89",
   "metadata": {},
   "outputs": [],
   "source": [
    "ss=StandardScaler().fit(p_t_x)#한쪽으로 치우친 피처 정보를 균등할수있게 정리\n",
    "sc_t_x= ss.transform(p_t_x)\n",
    "sc_tt_x= ss.transform(p_tt_x)"
   ]
  },
  {
   "cell_type": "markdown",
   "id": "18ae505a",
   "metadata": {},
   "source": [
    "4.모델 생성 및 학습"
   ]
  },
  {
   "cell_type": "code",
   "execution_count": 6,
   "id": "b2d06018",
   "metadata": {},
   "outputs": [
    {
     "data": {
      "text/plain": [
       "LinearRegression()"
      ]
     },
     "execution_count": 6,
     "metadata": {},
     "output_type": "execute_result"
    }
   ],
   "source": [
    "lr = LinearRegression()#학습 모델을 결정하고 알맞은 모델을 생성 (회귀모델)\n",
    "lr.fit(sc_t_x,t_y)# 학습 진행(지도: [입력,결과])"
   ]
  },
  {
   "cell_type": "markdown",
   "id": "93ba4e77",
   "metadata": {},
   "source": [
    "하이퍼 파라미터 결정"
   ]
  },
  {
   "cell_type": "code",
   "execution_count": 7,
   "id": "12d9272f",
   "metadata": {},
   "outputs": [
    {
     "data": {
      "text/plain": [
       "Lasso(alpha=10)"
      ]
     },
     "execution_count": 7,
     "metadata": {},
     "output_type": "execute_result"
    }
   ],
   "source": [
    "rg = Ridge(alpha=0.1)#alpha 값을 결정하여 이상적인 하이퍼 파라미터 값 제시\n",
    "rg.fit(sc_t_x,t_y)# 학습 진행(지도: [입력,결과])\n",
    "lso = Lasso(alpha=10)\n",
    "lso.fit(sc_t_x,t_y)# 학습 진행(지도: [입력,결과])"
   ]
  },
  {
   "cell_type": "markdown",
   "id": "586703bd",
   "metadata": {},
   "source": [
    "5.테스트 및 검증"
   ]
  },
  {
   "cell_type": "code",
   "execution_count": 8,
   "id": "07946c62",
   "metadata": {},
   "outputs": [
    {
     "name": "stdout",
     "output_type": "stream",
     "text": [
      "1.0 -26.192517921905765\n"
     ]
    }
   ],
   "source": [
    "y_p=lr.predict(sc_t_x)#학습된 모델을 이용하여 예측값생성(오차를 계산할수있는 기본적인 내용 정의 가능)\n",
    "t_s=lr.score(sc_t_x,t_y)#학습 data를 이용하여 점수 확인\n",
    "tt_s=lr.score(sc_tt_x,tt_y)#테스트 data를 이용하여 점수 확인\n",
    "print(t_s,tt_s)# t_s-tt_s 1.둘다 낮은 값 이라면 과소적합 2. 학습data 점수는 높은데 테스트 data 점수는 낮은 값이라면 과대적합"
   ]
  },
  {
   "cell_type": "code",
   "execution_count": 9,
   "id": "649a5d31",
   "metadata": {},
   "outputs": [
    {
     "name": "stdout",
     "output_type": "stream",
     "text": [
      "0.9897983159614502 0.9842243738800824\n"
     ]
    }
   ],
   "source": [
    "t_s=rg.score(sc_t_x,t_y)\n",
    "tt_s=rg.score(sc_tt_x,tt_y)\n",
    "print(t_s,tt_s)"
   ]
  },
  {
   "cell_type": "code",
   "execution_count": 10,
   "id": "de8f7e02",
   "metadata": {},
   "outputs": [
    {
     "name": "stdout",
     "output_type": "stream",
     "text": [
      "0.9882059522438204 0.9834044009315154\n"
     ]
    }
   ],
   "source": [
    "t_s=lso.score(sc_t_x,t_y)\n",
    "tt_s=lso.score(sc_tt_x,tt_y)\n",
    "print(t_s,tt_s)"
   ]
  }
 ],
 "metadata": {
  "kernelspec": {
   "display_name": "Python 3 (ipykernel)",
   "language": "python",
   "name": "python3"
  },
  "language_info": {
   "codemirror_mode": {
    "name": "ipython",
    "version": 3
   },
   "file_extension": ".py",
   "mimetype": "text/x-python",
   "name": "python",
   "nbconvert_exporter": "python",
   "pygments_lexer": "ipython3",
   "version": "3.9.7"
  }
 },
 "nbformat": 4,
 "nbformat_minor": 5
}
