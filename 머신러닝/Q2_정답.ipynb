{
 "cells": [
  {
   "cell_type": "code",
   "execution_count": 1,
   "id": "6177eb89",
   "metadata": {},
   "outputs": [],
   "source": [
    "import numpy as np #data계산을 위한 모듈\n",
    "import pandas as pd #data 로드를 위한 모듈\n",
    "from sklearn.model_selection import train_test_split #학습 data와 태스트 data 분할 모듈\n",
    "from sklearn.preprocessing import PolynomialFeatures #피처 증가를 위한 모듈\n",
    "from sklearn.linear_model import LinearRegression ,Lasso, Ridge,SGDRegressor #선형 회기 모델 모듈\n",
    "from sklearn.preprocessing import StandardScaler #data 전처리 (중복 정보 정리)-> 벨런싱 작업\n",
    "import matplotlib.pyplot as plt #시각화 모듈\n",
    "from sklearn.datasets import load_boston\n",
    "from sklearn.preprocessing import MinMaxScaler\n",
    "from sklearn.metrics import r2_score\n",
    "from sklearn.metrics import mean_absolute_error\n",
    "from sklearn.metrics import mean_squared_error\n",
    "b_data=load_boston()\n",
    "X=b_data.data\n",
    "Y=b_data.target\n",
    "y_data=Y\n",
    "mm_m=MinMaxScaler(feature_range=(0,5)).fit(X)\n",
    "sc_x_data=mm_m.transform(X)"
   ]
  },
  {
   "cell_type": "code",
   "execution_count": 2,
   "id": "20e0ea7c",
   "metadata": {},
   "outputs": [],
   "source": [
    "t_x, tt_x, t_y, tt_y = train_test_split(sc_x_data, y_data, test_size=0.3,random_state=10)"
   ]
  },
  {
   "cell_type": "code",
   "execution_count": 3,
   "id": "a37e0b03",
   "metadata": {},
   "outputs": [
    {
     "data": {
      "text/plain": [
       "(LinearRegression(), Lasso(), Ridge(alpha=0.01), SGDRegressor())"
      ]
     },
     "execution_count": 3,
     "metadata": {},
     "output_type": "execute_result"
    }
   ],
   "source": [
    "regr = LinearRegression(fit_intercept=True,normalize=False)\n",
    "lasso_regr = Lasso(fit_intercept=True,normalize=False)\n",
    "ridge_regr = Ridge(fit_intercept=True,normalize=False,alpha=0.01)\n",
    "SGD__regr = SGDRegressor(fit_intercept=True)\n",
    "regr.fit(t_x, t_y),lasso_regr.fit(t_x, t_y),ridge_regr.fit(t_x, t_y),SGD__regr.fit(t_x, t_y)"
   ]
  },
  {
   "cell_type": "code",
   "execution_count": 4,
   "id": "b6a3c858",
   "metadata": {},
   "outputs": [
    {
     "data": {
      "text/plain": [
       "(0.6996255772983109, 3.707127137271813, 29.3265965261233)"
      ]
     },
     "execution_count": 4,
     "metadata": {},
     "output_type": "execute_result"
    }
   ],
   "source": [
    "y_true = tt_y.copy()\n",
    "y_hat = regr.predict(tt_x)\n",
    "r2_score(y_true, y_hat), mean_absolute_error(y_true, y_hat), mean_squared_error(y_true, y_hat)"
   ]
  },
  {
   "cell_type": "code",
   "execution_count": 5,
   "id": "194196d0",
   "metadata": {},
   "outputs": [
    {
     "data": {
      "text/plain": [
       "(0.6192939837289688, 4.213744760928959, 37.16964858002032)"
      ]
     },
     "execution_count": 5,
     "metadata": {},
     "output_type": "execute_result"
    }
   ],
   "source": [
    "y_true = tt_y.copy()\n",
    "y_hat = lasso_regr.predict(tt_x)\n",
    "r2_score(y_true, y_hat), mean_absolute_error(y_true, y_hat), mean_squared_error(y_true, y_hat)"
   ]
  },
  {
   "cell_type": "code",
   "execution_count": 6,
   "id": "33ce4744",
   "metadata": {},
   "outputs": [
    {
     "data": {
      "text/plain": [
       "(0.699630203179085, 3.7070744375887266, 29.326144885341712)"
      ]
     },
     "execution_count": 6,
     "metadata": {},
     "output_type": "execute_result"
    }
   ],
   "source": [
    "y_true = tt_y.copy()\n",
    "y_hat = ridge_regr.predict(tt_x)\n",
    "r2_score(y_true, y_hat), mean_absolute_error(y_true, y_hat), mean_squared_error(y_true, y_hat)"
   ]
  },
  {
   "cell_type": "code",
   "execution_count": 7,
   "id": "0494ad65",
   "metadata": {},
   "outputs": [
    {
     "data": {
      "text/plain": [
       "(0.6123597645885241, 3.9782748681473588, 37.84666044117171)"
      ]
     },
     "execution_count": 7,
     "metadata": {},
     "output_type": "execute_result"
    }
   ],
   "source": [
    "y_true = tt_y.copy()\n",
    "y_hat = SGD__regr.predict(tt_x)\n",
    "r2_score(y_true, y_hat), mean_absolute_error(y_true, y_hat), mean_squared_error(y_true, y_hat)"
   ]
  },
  {
   "cell_type": "code",
   "execution_count": 8,
   "id": "7cb77f74",
   "metadata": {},
   "outputs": [
    {
     "data": {
      "text/plain": [
       "<matplotlib.collections.PathCollection at 0x22cb333f8b0>"
      ]
     },
     "execution_count": 8,
     "metadata": {},
     "output_type": "execute_result"
    },
    {
     "data": {
      "image/png": "[encoded data removed]",
      "text/plain": [
       "<Figure size 432x288 with 1 Axes>"
      ]
     },
     "metadata": {
      "needs_background": "light"
     },
     "output_type": "display_data"
    }
   ],
   "source": [
    "plt.scatter(y_true, y_hat)"
   ]
  }
 ],
 "metadata": {
  "kernelspec": {
   "display_name": "Python 3 (ipykernel)",
   "language": "python",
   "name": "python3"
  },
  "language_info": {
   "codemirror_mode": {
    "name": "ipython",
    "version": 3
   },
   "file_extension": ".py",
   "mimetype": "text/x-python",
   "name": "python",
   "nbconvert_exporter": "python",
   "pygments_lexer": "ipython3",
   "version": "3.9.7"
  }
 },
 "nbformat": 4,
 "nbformat_minor": 5
}
